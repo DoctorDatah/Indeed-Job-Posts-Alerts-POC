{
 "cells": [
  {
   "cell_type": "code",
   "execution_count": 1,
   "id": "48b7ee5b-0226-4783-a3e3-f7881666f181",
   "metadata": {},
   "outputs": [],
   "source": [
    "import utils.gmail_auth\n",
    "import utils.html_module \n",
    "import scraping.latest_emails \n",
    "import scraping.scrap_job_blocks\n",
    "import scraping.scrap_job_elements\n",
    "import listener.gmail_listener\n",
    "\n",
    "# import listener.latest_emails\n",
    "# from listener.latest_emails import *"
   ]
  },
  {
   "cell_type": "code",
   "execution_count": null,
   "id": "dfe9adff-9e2d-4179-877d-be6a6de249e2",
   "metadata": {},
   "outputs": [],
   "source": []
  },
  {
   "cell_type": "code",
   "execution_count": 2,
   "id": "dab07784-d4ad-4918-8126-14a3b2259018",
   "metadata": {},
   "outputs": [],
   "source": [
    "import os\n",
    "import pickle\n",
    "from google.auth.transport.requests import Request\n",
    "from google.oauth2.credentials import Credentials\n",
    "from googleapiclient.discovery import build\n",
    "from google_auth_oauthlib.flow import InstalledAppFlow\n",
    "from bs4 import BeautifulSoup\n",
    "import requests\n",
    "import webbrowser\n",
    "from tempfile import NamedTemporaryFile\n",
    "import re\n",
    "import threading\n",
    "import time"
   ]
  },
  {
   "cell_type": "code",
   "execution_count": 3,
   "id": "1375e948-8466-4fc7-8b5f-f2f93ea12c60",
   "metadata": {},
   "outputs": [],
   "source": [
    "SEARCH_SENDERS = [\"malikhq27@gmail.com\", \"alert@indeed.com\", \"noreply@example.com\"] \n",
    "LABEL_NAME_SUCCESS = \"fetched_by_app\"\n",
    "LABEL_NAME_FAILURE = \"fetch_failed_for_job_app\"\n",
    "ERROR_NOTIFICATION_EMAIL = \"malikhq27@gmail.com\"\n",
    "is_fetching = False\n",
    "fetch_thread = None"
   ]
  },
  {
   "cell_type": "code",
   "execution_count": null,
   "id": "e6d75223-e7b7-43e0-be90-e2bebc8b95ad",
   "metadata": {},
   "outputs": [],
   "source": []
  },
  {
   "cell_type": "code",
   "execution_count": 4,
   "id": "4be92b7e-21d4-40c0-b2cd-29a4f2c0d20c",
   "metadata": {},
   "outputs": [
    {
     "name": "stdout",
     "output_type": "stream",
     "text": [
      "Please visit this URL to authorize this application: https://accounts.google.com/o/oauth2/auth?response_type=code&client_id=416298047261-pgh55f954cr71omfj22djkcudkjh8t36.apps.googleusercontent.com&redirect_uri=http%3A%2F%2Flocalhost%3A8080%2F&scope=https%3A%2F%2Fwww.googleapis.com%2Fauth%2Fgmail.modify&state=LGHDDgv1ugAXXQhDjZMyryLfQmnzai&access_type=offline\n"
     ]
    },
    {
     "name": "stderr",
     "output_type": "stream",
     "text": [
      "INFO:google_auth_oauthlib.flow:\"GET /?state=LGHDDgv1ugAXXQhDjZMyryLfQmnzai&code=4%2F0AanRRrtXYoe-FFNkc3tBItb8pelRueklW_NKnoQA4a1DP2PNGrkYSVWKOPVjC5-3glcreg&scope=https%3A%2F%2Fwww.googleapis.com%2Fauth%2Fgmail.modify HTTP/1.1\" 200 65\n",
      "INFO:googleapiclient.discovery_cache:file_cache is only supported with oauth2client<4.0.0\n"
     ]
    },
    {
     "name": "stdout",
     "output_type": "stream",
     "text": [
      "Gmail API authenticated successfully!\n"
     ]
    }
   ],
   "source": [
    "try:\n",
    "    service = utils.gmail_auth.authenticate_gmail()\n",
    "    print(\"Gmail API authenticated successfully!\")\n",
    "except Exception as e:\n",
    "    print(\"Error during authentication:\", e)"
   ]
  },
  {
   "cell_type": "code",
   "execution_count": 5,
   "id": "f85a5eb1-3921-409e-91df-7723ba247da9",
   "metadata": {},
   "outputs": [
    {
     "name": "stdout",
     "output_type": "stream",
     "text": [
      "Authenticated Email Address: malickhasun@gmail.com\n"
     ]
    },
    {
     "data": {
      "text/plain": [
       "'malickhasun@gmail.com'"
      ]
     },
     "execution_count": 5,
     "metadata": {},
     "output_type": "execute_result"
    }
   ],
   "source": [
    "# Get and print the authenticated account email address\n",
    "utils.gmail_auth.get_account_email(service)"
   ]
  },
  {
   "cell_type": "code",
   "execution_count": 6,
   "id": "8e1a93ac-a414-47ff-9080-580a54ae85df",
   "metadata": {},
   "outputs": [],
   "source": [
    "# Listenser"
   ]
  },
  {
   "cell_type": "code",
   "execution_count": 7,
   "id": "430ed728-549c-420f-9d6c-f2c1dd2b8167",
   "metadata": {},
   "outputs": [
    {
     "name": "stderr",
     "output_type": "stream",
     "text": [
      "INFO:root:No new emails found.\n"
     ]
    }
   ],
   "source": [
    "scraping.latest_emails.process_emails_with_transaction(service, SEARCH_SENDERS, LABEL_NAME_SUCCESS, LABEL_NAME_FAILURE, ERROR_NOTIFICATION_EMAIL)\n"
   ]
  },
  {
   "cell_type": "code",
   "execution_count": null,
   "id": "da98e218-e7b9-4d79-857a-15bccb0b6bd1",
   "metadata": {},
   "outputs": [
    {
     "name": "stdout",
     "output_type": "stream",
     "text": [
      "Email fetching started.\n"
     ]
    },
    {
     "name": "stderr",
     "output_type": "stream",
     "text": [
      "INFO:root:No new emails found.\n"
     ]
    },
    {
     "name": "stdout",
     "output_type": "stream",
     "text": [
      "Waiting for new emails...\n"
     ]
    },
    {
     "name": "stderr",
     "output_type": "stream",
     "text": [
      "INFO:root:No new emails found.\n"
     ]
    },
    {
     "name": "stdout",
     "output_type": "stream",
     "text": [
      "Waiting for new emails...\n"
     ]
    },
    {
     "name": "stderr",
     "output_type": "stream",
     "text": [
      "INFO:root:No new emails found.\n"
     ]
    },
    {
     "name": "stdout",
     "output_type": "stream",
     "text": [
      "Waiting for new emails...\n"
     ]
    }
   ],
   "source": [
    "# Continuously check for new emails\n",
    "\n",
    "# Start fetching emails\n",
    "listener.gmail_listener.start_email_fetch(service, SEARCH_SENDERS, LABEL_NAME_SUCCESS, LABEL_NAME_FAILURE, ERROR_NOTIFICATION_EMAIL)\n",
    "\n",
    "# Stop fetching emails (e.g., after some time or condition)\n",
    "time.sleep(60)  # Fetch for 1 minute\n",
    "listener.gmail_listener.stop_email_fetch()\n"
   ]
  },
  {
   "cell_type": "code",
   "execution_count": null,
   "id": "4fa8af32-4b4b-40a1-9e6b-f0b2fac19c89",
   "metadata": {},
   "outputs": [],
   "source": []
  },
  {
   "cell_type": "code",
   "execution_count": null,
   "id": "9f82fdcd-c12d-4289-ad32-56fde3cc8307",
   "metadata": {},
   "outputs": [],
   "source": []
  }
 ],
 "metadata": {
  "kernelspec": {
   "display_name": "Python 3 (ipykernel)",
   "language": "python",
   "name": "python3"
  },
  "language_info": {
   "codemirror_mode": {
    "name": "ipython",
    "version": 3
   },
   "file_extension": ".py",
   "mimetype": "text/x-python",
   "name": "python",
   "nbconvert_exporter": "python",
   "pygments_lexer": "ipython3",
   "version": "3.13.1"
  }
 },
 "nbformat": 4,
 "nbformat_minor": 5
}
