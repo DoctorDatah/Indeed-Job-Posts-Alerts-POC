{
 "cells": [
  {
   "cell_type": "markdown",
   "id": "0b8755c4-4cee-49af-ac08-a644082d020a",
   "metadata": {},
   "source": [
    "# Authenticate to create credentials for docker"
   ]
  },
  {
   "cell_type": "code",
   "execution_count": 1,
   "id": "f6443bd0-dfc3-40f0-aee1-757ddab91a31",
   "metadata": {},
   "outputs": [],
   "source": [
    "import os\n",
    "import pickle\n",
    "from google.auth.transport.requests import Request\n",
    "from google.oauth2.credentials import Credentials\n",
    "from googleapiclient.discovery import build\n",
    "from google_auth_oauthlib.flow import InstalledAppFlow\n",
    "import webbrowser"
   ]
  },
  {
   "cell_type": "code",
   "execution_count": 2,
   "id": "e94e9c49-d7bb-4989-84a9-74596b57b459",
   "metadata": {},
   "outputs": [],
   "source": [
    "TOKEN_PATH = 'C:/Users/MalikW/OneDrive/Project data/Job Scrap/credentials/token.pickle'\n",
    "CREDENTIALS_PATH = 'C:/Users/MalikW/OneDrive/Project data/Job Scrap/credentials/credentials.json'\n",
    "\n",
    "SCOPES = ['https://www.googleapis.com/auth/gmail.modify']"
   ]
  },
  {
   "cell_type": "code",
   "execution_count": 6,
   "id": "9aaf2145-2a62-4808-8746-7595855e1e57",
   "metadata": {},
   "outputs": [
    {
     "name": "stdout",
     "output_type": "stream",
     "text": [
      "Authenticating with Google...\n",
      "Authentication successful!\n",
      "Logged in as: malickhasun@gmail.com\n"
     ]
    }
   ],
   "source": [
    "import os\n",
    "from google_auth_oauthlib.flow import InstalledAppFlow\n",
    "from google.auth.transport.requests import Request\n",
    "from google.oauth2.credentials import Credentials\n",
    "\n",
    "# Paths for token and credentials\n",
    "TOKEN_PATH = 'C:/Users/MalikW/OneDrive/Project data/Job Scrap/credentials/token.pickle'\n",
    "CREDENTIALS_PATH = 'C:/Users/MalikW/OneDrive/Project data/Job Scrap/credentials/credentials.json'\n",
    "SCOPES = ['https://www.googleapis.com/auth/gmail.modify']\n",
    "\n",
    "def gmail_sign_in():\n",
    "    creds = None\n",
    "\n",
    "    # Check if the token file exists\n",
    "    if os.path.exists(TOKEN_PATH):\n",
    "        creds = Credentials.from_authorized_user_file(TOKEN_PATH, SCOPES)\n",
    "\n",
    "    # If no valid credentials, start the authentication flow\n",
    "    if not creds or not creds.valid:\n",
    "        if creds and creds.expired and creds.refresh_token:\n",
    "            creds.refresh(Request())\n",
    "        else:\n",
    "            flow = InstalledAppFlow.from_client_secrets_file(\n",
    "                CREDENTIALS_PATH, SCOPES\n",
    "            )\n",
    "            creds = flow.run_local_server(\n",
    "                port=8080, access_type='offline', prompt='consent'\n",
    "            )\n",
    "\n",
    "        # Save the credentials to the token file\n",
    "        with open(TOKEN_PATH, 'w') as token:\n",
    "            token.write(creds.to_json())\n",
    "\n",
    "    return build('gmail', 'v1', credentials=creds, cache_discovery=False)\n",
    "\n",
    "if __name__ == \"__main__\":\n",
    "    try:\n",
    "        print(\"Authenticating with Google...\")\n",
    "        service = gmail_sign_in()\n",
    "        print(\"Authentication successful!\")\n",
    "\n",
    "        # Display the user's email (optional)\n",
    "        from googleapiclient.discovery import build\n",
    "        profile = service.users().getProfile(userId='me').execute()\n",
    "        print(f\"Logged in as: {profile['emailAddress']}\")\n",
    "\n",
    "    except Exception as e:\n",
    "        print(f\"An error occurred: {e}\")\n"
   ]
  },
  {
   "cell_type": "code",
   "execution_count": 4,
   "id": "32705a42-ab03-4f20-aafa-b6e95b5c1b04",
   "metadata": {},
   "outputs": [
    {
     "data": {
      "text/plain": [
       "<googleapiclient.discovery.Resource at 0x2eaa9916e90>"
      ]
     },
     "execution_count": 4,
     "metadata": {},
     "output_type": "execute_result"
    }
   ],
   "source": [
    "creds = gmail_sign_in()\n",
    "creds"
   ]
  },
  {
   "cell_type": "code",
   "execution_count": null,
   "id": "429145c2-95b4-4792-a0cf-7787367cd37d",
   "metadata": {},
   "outputs": [],
   "source": []
  }
 ],
 "metadata": {
  "kernelspec": {
   "display_name": "Python 3 (ipykernel)",
   "language": "python",
   "name": "python3"
  },
  "language_info": {
   "codemirror_mode": {
    "name": "ipython",
    "version": 3
   },
   "file_extension": ".py",
   "mimetype": "text/x-python",
   "name": "python",
   "nbconvert_exporter": "python",
   "pygments_lexer": "ipython3",
   "version": "3.13.1"
  }
 },
 "nbformat": 4,
 "nbformat_minor": 5
}
