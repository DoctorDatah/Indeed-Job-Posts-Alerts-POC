{
 "cells": [
  {
   "cell_type": "code",
   "execution_count": 1,
   "id": "18ee869d-52a2-4d7c-9fc9-7417220e6e91",
   "metadata": {},
   "outputs": [
    {
     "name": "stderr",
     "output_type": "stream",
     "text": [
      "INFO:root:Logging configured successfully.\n"
     ]
    },
    {
     "name": "stdout",
     "output_type": "stream",
     "text": [
      "\u001b[H\u001b[JINFO - Logging configured successfully.\n"
     ]
    }
   ],
   "source": [
    "import os \n",
    "import scraping.scrap_job_blocks\n",
    "import scraping.scrap_job_elements\n",
    "import processing.latest_emails\n",
    "import scraping.overall_scrap\n",
    "import listener.gmail_listener\n",
    "import processing.logs\n",
    "import tkinter as tk\n",
    "from tkinter import ttk, messagebox, Toplevel\n",
    "from datetime import datetime\n",
    "from tkinter.scrolledtext import ScrolledText  # Import ScrolledText for better log display\n",
    "import threading\n",
    "import time\n",
    "from bs4 import BeautifulSoup\n",
    "from tkinter import ttk, messagebox, Toplevel\n",
    "from datetime import datetime\n",
    "import threading\n",
    "import os\n",
    "import subprocess\n",
    "import auth.gmail_auth\n",
    "import utils.html_module \n",
    "import processing.latest_emails \n",
    "import scraping.scrap_job_blocks\n",
    "import scraping.scrap_job_elements\n",
    "import scraping.overall_scrap\n",
    "import listener.gmail_listener\n",
    "\n",
    "\n",
    "SEARCH_SENDERS = [\"malikhqtech@gmail.com\", \"alert@indeed.com\", \"noreply@example.com\"] \n",
    "LABEL_NAME_SUCCESS = \"fetched_by_app\"\n",
    "LABEL_NAME_FAILURE = \"fetch_failed_for_job_app\"\n",
    "ERROR_NOTIFICATION_EMAIL = \"malikhqtech@gmail.com\"\n",
    "is_fetching = False\n",
    "fetch_thread = None"
   ]
  },
  {
   "cell_type": "code",
   "execution_count": 2,
   "id": "e0732b48-c557-47fb-927a-2b249baa2f69",
   "metadata": {},
   "outputs": [
    {
     "name": "stderr",
     "output_type": "stream",
     "text": [
      "INFO:googleapiclient.discovery_cache:file_cache is only supported with oauth2client<4.0.0\n"
     ]
    },
    {
     "name": "stdout",
     "output_type": "stream",
     "text": [
      "\u001b[H\u001b[JINFO - Logging configured successfully.\n",
      "INFO - file_cache is only supported with oauth2client<4.0.0\n",
      "Gmail API authenticated successfully!\n"
     ]
    }
   ],
   "source": [
    "try:\n",
    "    service = auth.gmail_auth.authenticate_gmail()\n",
    "    print(\"Gmail API authenticated successfully!\")\n",
    "except Exception as e:\n",
    "    print(\"Error during authentication:\", e)"
   ]
  },
  {
   "cell_type": "code",
   "execution_count": 3,
   "id": "9aa2d7e3-0f26-4c73-b3e9-66e07698bd10",
   "metadata": {},
   "outputs": [
    {
     "name": "stderr",
     "output_type": "stream",
     "text": [
      "INFO:googleapiclient.discovery_cache:file_cache is only supported with oauth2client<4.0.0\n"
     ]
    },
    {
     "name": "stdout",
     "output_type": "stream",
     "text": [
      "Email fetching started.\n"
     ]
    },
    {
     "name": "stderr",
     "output_type": "stream",
     "text": [
      "INFO:root:No new emails found.\n"
     ]
    },
    {
     "name": "stdout",
     "output_type": "stream",
     "text": [
      "\u001b[H\u001b[JINFO - Logging configured successfully.\n",
      "INFO - file_cache is only supported with oauth2client<4.0.0\n",
      "INFO - No new emails found.\n",
      "Waiting for new emails...\n"
     ]
    },
    {
     "name": "stderr",
     "output_type": "stream",
     "text": [
      "INFO:root:No new emails found.\n"
     ]
    },
    {
     "name": "stdout",
     "output_type": "stream",
     "text": [
      "Waiting for new emails...\n"
     ]
    },
    {
     "name": "stderr",
     "output_type": "stream",
     "text": [
      "INFO:root:Email fetched successfully: Subject: Senior Risk Analyst, Regulatory Reporting & Analytics, Capital Market Risk Management at CIBC and 7 more data and cibc jobs in Toronto, ON for you!, Sender: Indeed <alert@indeed.com>\n",
      "INFO:root:Successfully processed email content for job data.\n",
      "INFO:root:Scraping successful for email: Senior Risk Analyst, Regulatory Reporting & Analytics, Capital Market Risk Management at CIBC and 7 more data and cibc jobs in Toronto, ON for you!\n",
      "INFO:root:Successfully saved email: 'Senior Risk Analyst, Regulatory Reporting & Analytics, Capital Market Risk Management at CIBC and 7 more data and cibc jobs in Toronto, ON for you!' to 'data\\Indeed___alert@indeed.com\\2024\\December\\22\\2024_December_22___Time_03_53_51_000___Title_Senior Risk Analyst Regulator.html'.\n"
     ]
    },
    {
     "name": "stdout",
     "output_type": "stream",
     "text": [
      "\u001b[H\u001b[JINFO - Logging configured successfully.\n",
      "INFO - file_cache is only supported with oauth2client<4.0.0\n",
      "INFO - No new emails found.\n",
      "INFO - Email fetched successfully: Subject: Senior Risk Analyst, Regulatory Reporting & Analytics, Capital Market Risk Management at CIBC and 7 more data and cibc jobs in Toronto, ON for you!, Sender: Indeed <alert@indeed.com>\n",
      "Data written to ./data/raw_processed\\2024_12.csv as a fresh file.\n",
      "\u001b[H\u001b[JINFO - Logging configured successfully.\n",
      "INFO - file_cache is only supported with oauth2client<4.0.0\n",
      "INFO - No new emails found.\n",
      "INFO - Email fetched successfully: Subject: Senior Risk Analyst, Regulatory Reporting & Analytics, Capital Market Risk Management at CIBC and 7 more data and cibc jobs in Toronto, ON for you!, Sender: Indeed <alert@indeed.com>\n",
      "INFO - Successfully processed email content for job data.\n",
      "\u001b[H\u001b[JINFO - Logging configured successfully.\n",
      "INFO - file_cache is only supported with oauth2client<4.0.0\n",
      "INFO - No new emails found.\n",
      "INFO - Email fetched successfully: Subject: Senior Risk Analyst, Regulatory Reporting & Analytics, Capital Market Risk Management at CIBC and 7 more data and cibc jobs in Toronto, ON for you!, Sender: Indeed <alert@indeed.com>\n",
      "INFO - Successfully processed email content for job data.\n",
      "INFO - Scraping successful for email: Senior Risk Analyst, Regulatory Reporting & Analytics, Capital Market Risk Management at CIBC and 7 more data and cibc jobs in Toronto, ON for you!\n",
      "\u001b[H\u001b[JINFO - Logging configured successfully.\n",
      "INFO - file_cache is only supported with oauth2client<4.0.0\n",
      "INFO - No new emails found.\n",
      "INFO - Email fetched successfully: Subject: Senior Risk Analyst, Regulatory Reporting & Analytics, Capital Market Risk Management at CIBC and 7 more data and cibc jobs in Toronto, ON for you!, Sender: Indeed <alert@indeed.com>\n",
      "INFO - Successfully processed email content for job data.\n",
      "INFO - Scraping successful for email: Senior Risk Analyst, Regulatory Reporting & Analytics, Capital Market Risk Management at CIBC and 7 more data and cibc jobs in Toronto, ON for you!\n",
      "INFO - Successfully saved email: 'Senior Risk Analyst, Regulatory Reporting & Analytics, Capital Market Risk Management at CIBC and 7 more data and cibc jobs in Toronto, ON for you!' to 'data\\Indeed___alert@indeed.com\\2024\\December\\22\\2024_December_22___Time_03_53_51_000___Title_Senior Risk Analyst Regulator.html'.\n",
      "Email saved to data\\Indeed___alert@indeed.com\\2024\\December\\22\\2024_December_22___Time_03_53_51_000___Title_Senior Risk Analyst Regulator.html\n",
      "Email with ID 193ec7ffff44c12c marked as read.\n"
     ]
    },
    {
     "name": "stderr",
     "output_type": "stream",
     "text": [
      "INFO:root:Email processed successfully: Senior Risk Analyst, Regulatory Reporting & Analytics, Capital Market Risk Management at CIBC and 7 more data and cibc jobs in Toronto, ON for you!\n"
     ]
    },
    {
     "name": "stdout",
     "output_type": "stream",
     "text": [
      "\u001b[H\u001b[JINFO - Logging configured successfully.\n",
      "INFO - file_cache is only supported with oauth2client<4.0.0\n",
      "INFO - No new emails found.\n",
      "INFO - Email fetched successfully: Subject: Senior Risk Analyst, Regulatory Reporting & Analytics, Capital Market Risk Management at CIBC and 7 more data and cibc jobs in Toronto, ON for you!, Sender: Indeed <alert@indeed.com>\n",
      "INFO - Successfully processed email content for job data.\n",
      "INFO - Scraping successful for email: Senior Risk Analyst, Regulatory Reporting & Analytics, Capital Market Risk Management at CIBC and 7 more data and cibc jobs in Toronto, ON for you!\n",
      "INFO - Successfully saved email: 'Senior Risk Analyst, Regulatory Reporting & Analytics, Capital Market Risk Management at CIBC and 7 more data and cibc jobs in Toronto, ON for you!' to 'data\\Indeed___alert@indeed.com\\2024\\December\\22\\2024_December_22___Time_03_53_51_000___Title_Senior Risk Analyst Regulator.html'.\n",
      "INFO - Email processed successfully: Senior Risk Analyst, Regulatory Reporting & Analytics, Capital Market Risk Management at CIBC and 7 more data and cibc jobs in Toronto, ON for you!\n",
      "Waiting for new emails...\n"
     ]
    },
    {
     "name": "stderr",
     "output_type": "stream",
     "text": [
      "INFO:root:No new emails found.\n"
     ]
    },
    {
     "name": "stdout",
     "output_type": "stream",
     "text": [
      "\u001b[H\u001b[JINFO - Logging configured successfully.\n",
      "INFO - file_cache is only supported with oauth2client<4.0.0\n",
      "INFO - No new emails found.\n",
      "INFO - Email fetched successfully: Subject: Senior Risk Analyst, Regulatory Reporting & Analytics, Capital Market Risk Management at CIBC and 7 more data and cibc jobs in Toronto, ON for you!, Sender: Indeed <alert@indeed.com>\n",
      "INFO - Successfully processed email content for job data.\n",
      "INFO - Scraping successful for email: Senior Risk Analyst, Regulatory Reporting & Analytics, Capital Market Risk Management at CIBC and 7 more data and cibc jobs in Toronto, ON for you!\n",
      "INFO - Successfully saved email: 'Senior Risk Analyst, Regulatory Reporting & Analytics, Capital Market Risk Management at CIBC and 7 more data and cibc jobs in Toronto, ON for you!' to 'data\\Indeed___alert@indeed.com\\2024\\December\\22\\2024_December_22___Time_03_53_51_000___Title_Senior Risk Analyst Regulator.html'.\n",
      "INFO - Email processed successfully: Senior Risk Analyst, Regulatory Reporting & Analytics, Capital Market Risk Management at CIBC and 7 more data and cibc jobs in Toronto, ON for you!\n",
      "INFO - No new emails found.\n",
      "Waiting for new emails...\n"
     ]
    },
    {
     "name": "stderr",
     "output_type": "stream",
     "text": [
      "INFO:root:No new emails found.\n"
     ]
    },
    {
     "name": "stdout",
     "output_type": "stream",
     "text": [
      "Waiting for new emails...\n"
     ]
    },
    {
     "name": "stderr",
     "output_type": "stream",
     "text": [
      "INFO:root:No new emails found.\n"
     ]
    },
    {
     "name": "stdout",
     "output_type": "stream",
     "text": [
      "Waiting for new emails...\n"
     ]
    },
    {
     "name": "stderr",
     "output_type": "stream",
     "text": [
      "INFO:root:No new emails found.\n"
     ]
    },
    {
     "name": "stdout",
     "output_type": "stream",
     "text": [
      "Waiting for new emails...\n"
     ]
    },
    {
     "name": "stderr",
     "output_type": "stream",
     "text": [
      "INFO:root:No new emails found.\n"
     ]
    },
    {
     "name": "stdout",
     "output_type": "stream",
     "text": [
      "Waiting for new emails...\n"
     ]
    },
    {
     "name": "stderr",
     "output_type": "stream",
     "text": [
      "INFO:root:No new emails found.\n"
     ]
    },
    {
     "name": "stdout",
     "output_type": "stream",
     "text": [
      "Waiting for new emails...\n"
     ]
    },
    {
     "name": "stderr",
     "output_type": "stream",
     "text": [
      "INFO:root:No new emails found.\n"
     ]
    },
    {
     "name": "stdout",
     "output_type": "stream",
     "text": [
      "Waiting for new emails...\n"
     ]
    },
    {
     "name": "stderr",
     "output_type": "stream",
     "text": [
      "INFO:root:No new emails found.\n"
     ]
    },
    {
     "name": "stdout",
     "output_type": "stream",
     "text": [
      "Waiting for new emails...\n"
     ]
    },
    {
     "name": "stderr",
     "output_type": "stream",
     "text": [
      "INFO:root:No new emails found.\n"
     ]
    },
    {
     "name": "stdout",
     "output_type": "stream",
     "text": [
      "Waiting for new emails...\n"
     ]
    },
    {
     "name": "stderr",
     "output_type": "stream",
     "text": [
      "INFO:root:No new emails found.\n"
     ]
    },
    {
     "name": "stdout",
     "output_type": "stream",
     "text": [
      "Waiting for new emails...\n"
     ]
    },
    {
     "name": "stderr",
     "output_type": "stream",
     "text": [
      "INFO:root:No new emails found.\n"
     ]
    },
    {
     "name": "stdout",
     "output_type": "stream",
     "text": [
      "Waiting for new emails...\n"
     ]
    },
    {
     "name": "stderr",
     "output_type": "stream",
     "text": [
      "INFO:root:No new emails found.\n"
     ]
    },
    {
     "name": "stdout",
     "output_type": "stream",
     "text": [
      "Waiting for new emails...\n"
     ]
    },
    {
     "name": "stderr",
     "output_type": "stream",
     "text": [
      "INFO:root:No new emails found.\n"
     ]
    },
    {
     "name": "stdout",
     "output_type": "stream",
     "text": [
      "Waiting for new emails...\n"
     ]
    },
    {
     "name": "stderr",
     "output_type": "stream",
     "text": [
      "INFO:root:No new emails found.\n"
     ]
    },
    {
     "name": "stdout",
     "output_type": "stream",
     "text": [
      "Waiting for new emails...\n"
     ]
    },
    {
     "name": "stderr",
     "output_type": "stream",
     "text": [
      "INFO:root:No new emails found.\n"
     ]
    },
    {
     "name": "stdout",
     "output_type": "stream",
     "text": [
      "Waiting for new emails...\n"
     ]
    },
    {
     "name": "stderr",
     "output_type": "stream",
     "text": [
      "INFO:root:No new emails found.\n"
     ]
    },
    {
     "name": "stdout",
     "output_type": "stream",
     "text": [
      "Waiting for new emails...\n"
     ]
    },
    {
     "name": "stderr",
     "output_type": "stream",
     "text": [
      "INFO:root:No new emails found.\n"
     ]
    },
    {
     "name": "stdout",
     "output_type": "stream",
     "text": [
      "Waiting for new emails...\n"
     ]
    },
    {
     "name": "stderr",
     "output_type": "stream",
     "text": [
      "INFO:root:No new emails found.\n"
     ]
    },
    {
     "name": "stdout",
     "output_type": "stream",
     "text": [
      "Waiting for new emails...\n"
     ]
    },
    {
     "name": "stderr",
     "output_type": "stream",
     "text": [
      "INFO:root:No new emails found.\n"
     ]
    },
    {
     "name": "stdout",
     "output_type": "stream",
     "text": [
      "Waiting for new emails...\n"
     ]
    },
    {
     "name": "stderr",
     "output_type": "stream",
     "text": [
      "INFO:root:No new emails found.\n"
     ]
    },
    {
     "name": "stdout",
     "output_type": "stream",
     "text": [
      "Waiting for new emails...\n"
     ]
    },
    {
     "name": "stderr",
     "output_type": "stream",
     "text": [
      "INFO:root:No new emails found.\n"
     ]
    },
    {
     "name": "stdout",
     "output_type": "stream",
     "text": [
      "Waiting for new emails...\n"
     ]
    },
    {
     "name": "stderr",
     "output_type": "stream",
     "text": [
      "INFO:root:No new emails found.\n"
     ]
    },
    {
     "name": "stdout",
     "output_type": "stream",
     "text": [
      "Waiting for new emails...\n"
     ]
    },
    {
     "name": "stderr",
     "output_type": "stream",
     "text": [
      "INFO:root:No new emails found.\n"
     ]
    },
    {
     "name": "stdout",
     "output_type": "stream",
     "text": [
      "Waiting for new emails...\n"
     ]
    },
    {
     "name": "stderr",
     "output_type": "stream",
     "text": [
      "INFO:root:No new emails found.\n"
     ]
    },
    {
     "name": "stdout",
     "output_type": "stream",
     "text": [
      "Waiting for new emails...\n"
     ]
    },
    {
     "name": "stderr",
     "output_type": "stream",
     "text": [
      "INFO:root:No new emails found.\n"
     ]
    },
    {
     "name": "stdout",
     "output_type": "stream",
     "text": [
      "Waiting for new emails...\n"
     ]
    },
    {
     "name": "stderr",
     "output_type": "stream",
     "text": [
      "INFO:root:No new emails found.\n"
     ]
    },
    {
     "name": "stdout",
     "output_type": "stream",
     "text": [
      "Waiting for new emails...\n"
     ]
    },
    {
     "name": "stderr",
     "output_type": "stream",
     "text": [
      "INFO:root:No new emails found.\n"
     ]
    },
    {
     "name": "stdout",
     "output_type": "stream",
     "text": [
      "Waiting for new emails...\n"
     ]
    },
    {
     "name": "stderr",
     "output_type": "stream",
     "text": [
      "INFO:root:No new emails found.\n"
     ]
    },
    {
     "name": "stdout",
     "output_type": "stream",
     "text": [
      "Waiting for new emails...\n"
     ]
    },
    {
     "name": "stderr",
     "output_type": "stream",
     "text": [
      "INFO:root:No new emails found.\n"
     ]
    },
    {
     "name": "stdout",
     "output_type": "stream",
     "text": [
      "Waiting for new emails...\n"
     ]
    },
    {
     "name": "stderr",
     "output_type": "stream",
     "text": [
      "INFO:root:No new emails found.\n"
     ]
    },
    {
     "name": "stdout",
     "output_type": "stream",
     "text": [
      "Waiting for new emails...\n"
     ]
    },
    {
     "name": "stderr",
     "output_type": "stream",
     "text": [
      "INFO:root:No new emails found.\n"
     ]
    },
    {
     "name": "stdout",
     "output_type": "stream",
     "text": [
      "Waiting for new emails...\n"
     ]
    },
    {
     "name": "stderr",
     "output_type": "stream",
     "text": [
      "INFO:root:No new emails found.\n"
     ]
    },
    {
     "name": "stdout",
     "output_type": "stream",
     "text": [
      "Waiting for new emails...\n"
     ]
    },
    {
     "name": "stderr",
     "output_type": "stream",
     "text": [
      "INFO:root:No new emails found.\n"
     ]
    },
    {
     "name": "stdout",
     "output_type": "stream",
     "text": [
      "Waiting for new emails...\n"
     ]
    },
    {
     "name": "stderr",
     "output_type": "stream",
     "text": [
      "INFO:root:No new emails found.\n"
     ]
    },
    {
     "name": "stdout",
     "output_type": "stream",
     "text": [
      "Waiting for new emails...\n"
     ]
    },
    {
     "name": "stderr",
     "output_type": "stream",
     "text": [
      "INFO:root:No new emails found.\n"
     ]
    },
    {
     "name": "stdout",
     "output_type": "stream",
     "text": [
      "Waiting for new emails...\n"
     ]
    },
    {
     "name": "stderr",
     "output_type": "stream",
     "text": [
      "INFO:root:No new emails found.\n"
     ]
    },
    {
     "name": "stdout",
     "output_type": "stream",
     "text": [
      "Waiting for new emails...\n"
     ]
    },
    {
     "name": "stderr",
     "output_type": "stream",
     "text": [
      "INFO:root:No new emails found.\n"
     ]
    },
    {
     "name": "stdout",
     "output_type": "stream",
     "text": [
      "Waiting for new emails...\n"
     ]
    },
    {
     "name": "stderr",
     "output_type": "stream",
     "text": [
      "INFO:root:No new emails found.\n"
     ]
    },
    {
     "name": "stdout",
     "output_type": "stream",
     "text": [
      "Waiting for new emails...\n"
     ]
    },
    {
     "name": "stderr",
     "output_type": "stream",
     "text": [
      "INFO:root:No new emails found.\n"
     ]
    },
    {
     "name": "stdout",
     "output_type": "stream",
     "text": [
      "Waiting for new emails...\n"
     ]
    },
    {
     "name": "stderr",
     "output_type": "stream",
     "text": [
      "INFO:root:No new emails found.\n"
     ]
    },
    {
     "name": "stdout",
     "output_type": "stream",
     "text": [
      "Waiting for new emails...\n"
     ]
    },
    {
     "name": "stderr",
     "output_type": "stream",
     "text": [
      "INFO:root:Email fetched successfully: Subject: Your job alert for data and mcAfee, llc jobs in Toronto, ON is now active, Sender: Indeed <alert@indeed.com>\n",
      "ERROR:root:Failed to process email content: No objects to concatenate\n",
      "ERROR:root:Scraping failed for email Your job alert for data and mcAfee, llc jobs in Toronto, ON is now active (ID: 193ec1c2dde37238): No objects to concatenate\n",
      "ERROR:root:Email processing failed for ID 193ec1c2dde37238: No objects to concatenate\n",
      "INFO:root:Failed email saved to data\\failed_emails\\Indeed___Indeedalert@indeed.com\\2024_December_22___Time_02_04_49___Title_Your job alert for data and mc.html\n"
     ]
    },
    {
     "name": "stdout",
     "output_type": "stream",
     "text": [
      "\u001b[H\u001b[JINFO - Logging configured successfully.\n",
      "INFO - file_cache is only supported with oauth2client<4.0.0\n",
      "INFO - No new emails found.\n",
      "INFO - Email fetched successfully: Subject: Senior Risk Analyst, Regulatory Reporting & Analytics, Capital Market Risk Management at CIBC and 7 more data and cibc jobs in Toronto, ON for you!, Sender: Indeed <alert@indeed.com>\n",
      "INFO - Successfully processed email content for job data.\n",
      "INFO - Scraping successful for email: Senior Risk Analyst, Regulatory Reporting & Analytics, Capital Market Risk Management at CIBC and 7 more data and cibc jobs in Toronto, ON for you!\n",
      "INFO - Successfully saved email: 'Senior Risk Analyst, Regulatory Reporting & Analytics, Capital Market Risk Management at CIBC and 7 more data and cibc jobs in Toronto, ON for you!' to 'data\\Indeed___alert@indeed.com\\2024\\December\\22\\2024_December_22___Time_03_53_51_000___Title_Senior Risk Analyst Regulator.html'.\n",
      "INFO - Email processed successfully: Senior Risk Analyst, Regulatory Reporting & Analytics, Capital Market Risk Management at CIBC and 7 more data and cibc jobs in Toronto, ON for you!\n",
      "INFO - No new emails found.\n",
      "INFO - Email fetched successfully: Subject: Your job alert for data and mcAfee, llc jobs in Toronto, ON is now active, Sender: Indeed <alert@indeed.com>\n",
      "\u001b[H\u001b[JINFO - Logging configured successfully.\n",
      "INFO - file_cache is only supported with oauth2client<4.0.0\n",
      "INFO - No new emails found.\n",
      "INFO - Email fetched successfully: Subject: Senior Risk Analyst, Regulatory Reporting & Analytics, Capital Market Risk Management at CIBC and 7 more data and cibc jobs in Toronto, ON for you!, Sender: Indeed <alert@indeed.com>\n",
      "INFO - Successfully processed email content for job data.\n",
      "INFO - Scraping successful for email: Senior Risk Analyst, Regulatory Reporting & Analytics, Capital Market Risk Management at CIBC and 7 more data and cibc jobs in Toronto, ON for you!\n",
      "INFO - Successfully saved email: 'Senior Risk Analyst, Regulatory Reporting & Analytics, Capital Market Risk Management at CIBC and 7 more data and cibc jobs in Toronto, ON for you!' to 'data\\Indeed___alert@indeed.com\\2024\\December\\22\\2024_December_22___Time_03_53_51_000___Title_Senior Risk Analyst Regulator.html'.\n",
      "INFO - Email processed successfully: Senior Risk Analyst, Regulatory Reporting & Analytics, Capital Market Risk Management at CIBC and 7 more data and cibc jobs in Toronto, ON for you!\n",
      "INFO - No new emails found.\n",
      "INFO - Email fetched successfully: Subject: Your job alert for data and mcAfee, llc jobs in Toronto, ON is now active, Sender: Indeed <alert@indeed.com>\n",
      "ERROR - Failed to process email content: No objects to concatenate\n",
      "\u001b[H\u001b[JINFO - Logging configured successfully.\n",
      "INFO - file_cache is only supported with oauth2client<4.0.0\n",
      "INFO - No new emails found.\n",
      "INFO - Email fetched successfully: Subject: Senior Risk Analyst, Regulatory Reporting & Analytics, Capital Market Risk Management at CIBC and 7 more data and cibc jobs in Toronto, ON for you!, Sender: Indeed <alert@indeed.com>\n",
      "INFO - Successfully processed email content for job data.\n",
      "INFO - Scraping successful for email: Senior Risk Analyst, Regulatory Reporting & Analytics, Capital Market Risk Management at CIBC and 7 more data and cibc jobs in Toronto, ON for you!\n",
      "INFO - Successfully saved email: 'Senior Risk Analyst, Regulatory Reporting & Analytics, Capital Market Risk Management at CIBC and 7 more data and cibc jobs in Toronto, ON for you!' to 'data\\Indeed___alert@indeed.com\\2024\\December\\22\\2024_December_22___Time_03_53_51_000___Title_Senior Risk Analyst Regulator.html'.\n",
      "INFO - Email processed successfully: Senior Risk Analyst, Regulatory Reporting & Analytics, Capital Market Risk Management at CIBC and 7 more data and cibc jobs in Toronto, ON for you!\n",
      "INFO - No new emails found.\n",
      "INFO - Email fetched successfully: Subject: Your job alert for data and mcAfee, llc jobs in Toronto, ON is now active, Sender: Indeed <alert@indeed.com>\n",
      "ERROR - Failed to process email content: No objects to concatenate\n",
      "ERROR - Scraping failed for email Your job alert for data and mcAfee, llc jobs in Toronto, ON is now active (ID: 193ec1c2dde37238): No objects to concatenate\n",
      "\u001b[H\u001b[JINFO - Logging configured successfully.\n",
      "INFO - file_cache is only supported with oauth2client<4.0.0\n",
      "INFO - No new emails found.\n",
      "INFO - Email fetched successfully: Subject: Senior Risk Analyst, Regulatory Reporting & Analytics, Capital Market Risk Management at CIBC and 7 more data and cibc jobs in Toronto, ON for you!, Sender: Indeed <alert@indeed.com>\n",
      "INFO - Successfully processed email content for job data.\n",
      "INFO - Scraping successful for email: Senior Risk Analyst, Regulatory Reporting & Analytics, Capital Market Risk Management at CIBC and 7 more data and cibc jobs in Toronto, ON for you!\n",
      "INFO - Successfully saved email: 'Senior Risk Analyst, Regulatory Reporting & Analytics, Capital Market Risk Management at CIBC and 7 more data and cibc jobs in Toronto, ON for you!' to 'data\\Indeed___alert@indeed.com\\2024\\December\\22\\2024_December_22___Time_03_53_51_000___Title_Senior Risk Analyst Regulator.html'.\n",
      "INFO - Email processed successfully: Senior Risk Analyst, Regulatory Reporting & Analytics, Capital Market Risk Management at CIBC and 7 more data and cibc jobs in Toronto, ON for you!\n",
      "INFO - No new emails found.\n",
      "INFO - Email fetched successfully: Subject: Your job alert for data and mcAfee, llc jobs in Toronto, ON is now active, Sender: Indeed <alert@indeed.com>\n",
      "ERROR - Failed to process email content: No objects to concatenate\n",
      "ERROR - Scraping failed for email Your job alert for data and mcAfee, llc jobs in Toronto, ON is now active (ID: 193ec1c2dde37238): No objects to concatenate\n",
      "ERROR - Email processing failed for ID 193ec1c2dde37238: No objects to concatenate\n",
      "Debug - Folder path: data\\failed_emails\\Indeed___Indeedalert@indeed.com\n",
      "Debug - File path: data\\failed_emails\\Indeed___Indeedalert@indeed.com\\2024_December_22___Time_02_04_49___Title_Your job alert for data and mc.html\n",
      "\u001b[H\u001b[JINFO - Logging configured successfully.\n",
      "INFO - file_cache is only supported with oauth2client<4.0.0\n",
      "INFO - No new emails found.\n",
      "INFO - Email fetched successfully: Subject: Senior Risk Analyst, Regulatory Reporting & Analytics, Capital Market Risk Management at CIBC and 7 more data and cibc jobs in Toronto, ON for you!, Sender: Indeed <alert@indeed.com>\n",
      "INFO - Successfully processed email content for job data.\n",
      "INFO - Scraping successful for email: Senior Risk Analyst, Regulatory Reporting & Analytics, Capital Market Risk Management at CIBC and 7 more data and cibc jobs in Toronto, ON for you!\n",
      "INFO - Successfully saved email: 'Senior Risk Analyst, Regulatory Reporting & Analytics, Capital Market Risk Management at CIBC and 7 more data and cibc jobs in Toronto, ON for you!' to 'data\\Indeed___alert@indeed.com\\2024\\December\\22\\2024_December_22___Time_03_53_51_000___Title_Senior Risk Analyst Regulator.html'.\n",
      "INFO - Email processed successfully: Senior Risk Analyst, Regulatory Reporting & Analytics, Capital Market Risk Management at CIBC and 7 more data and cibc jobs in Toronto, ON for you!\n",
      "INFO - No new emails found.\n",
      "INFO - Email fetched successfully: Subject: Your job alert for data and mcAfee, llc jobs in Toronto, ON is now active, Sender: Indeed <alert@indeed.com>\n",
      "ERROR - Failed to process email content: No objects to concatenate\n",
      "ERROR - Scraping failed for email Your job alert for data and mcAfee, llc jobs in Toronto, ON is now active (ID: 193ec1c2dde37238): No objects to concatenate\n",
      "ERROR - Email processing failed for ID 193ec1c2dde37238: No objects to concatenate\n",
      "INFO - Failed email saved to data\\failed_emails\\Indeed___Indeedalert@indeed.com\\2024_December_22___Time_02_04_49___Title_Your job alert for data and mc.html\n",
      "Error notification sent to malikhqtech@gmail.com\n",
      "Email with ID 193ec1c2dde37238 marked as read.\n"
     ]
    },
    {
     "name": "stderr",
     "output_type": "stream",
     "text": [
      "ERROR:root:Email processing failed for Your job alert for data and mcAfee, llc jobs in Toronto, ON is now active: No objects to concatenate\n"
     ]
    },
    {
     "name": "stdout",
     "output_type": "stream",
     "text": [
      "\u001b[H\u001b[JINFO - Logging configured successfully.\n",
      "INFO - file_cache is only supported with oauth2client<4.0.0\n",
      "INFO - No new emails found.\n",
      "INFO - Email fetched successfully: Subject: Senior Risk Analyst, Regulatory Reporting & Analytics, Capital Market Risk Management at CIBC and 7 more data and cibc jobs in Toronto, ON for you!, Sender: Indeed <alert@indeed.com>\n",
      "INFO - Successfully processed email content for job data.\n",
      "INFO - Scraping successful for email: Senior Risk Analyst, Regulatory Reporting & Analytics, Capital Market Risk Management at CIBC and 7 more data and cibc jobs in Toronto, ON for you!\n",
      "INFO - Successfully saved email: 'Senior Risk Analyst, Regulatory Reporting & Analytics, Capital Market Risk Management at CIBC and 7 more data and cibc jobs in Toronto, ON for you!' to 'data\\Indeed___alert@indeed.com\\2024\\December\\22\\2024_December_22___Time_03_53_51_000___Title_Senior Risk Analyst Regulator.html'.\n",
      "INFO - Email processed successfully: Senior Risk Analyst, Regulatory Reporting & Analytics, Capital Market Risk Management at CIBC and 7 more data and cibc jobs in Toronto, ON for you!\n",
      "INFO - No new emails found.\n",
      "INFO - Email fetched successfully: Subject: Your job alert for data and mcAfee, llc jobs in Toronto, ON is now active, Sender: Indeed <alert@indeed.com>\n",
      "ERROR - Failed to process email content: No objects to concatenate\n",
      "ERROR - Scraping failed for email Your job alert for data and mcAfee, llc jobs in Toronto, ON is now active (ID: 193ec1c2dde37238): No objects to concatenate\n",
      "ERROR - Email processing failed for ID 193ec1c2dde37238: No objects to concatenate\n",
      "INFO - Failed email saved to data\\failed_emails\\Indeed___Indeedalert@indeed.com\\2024_December_22___Time_02_04_49___Title_Your job alert for data and mc.html\n",
      "ERROR - Email processing failed for Your job alert for data and mcAfee, llc jobs in Toronto, ON is now active: No objects to concatenate\n",
      "Waiting for new emails...\n"
     ]
    },
    {
     "name": "stderr",
     "output_type": "stream",
     "text": [
      "INFO:root:No new emails found.\n"
     ]
    },
    {
     "name": "stdout",
     "output_type": "stream",
     "text": [
      "\u001b[H\u001b[JINFO - file_cache is only supported with oauth2client<4.0.0\n",
      "INFO - No new emails found.\n",
      "INFO - Email fetched successfully: Subject: Senior Risk Analyst, Regulatory Reporting & Analytics, Capital Market Risk Management at CIBC and 7 more data and cibc jobs in Toronto, ON for you!, Sender: Indeed <alert@indeed.com>\n",
      "INFO - Successfully processed email content for job data.\n",
      "INFO - Scraping successful for email: Senior Risk Analyst, Regulatory Reporting & Analytics, Capital Market Risk Management at CIBC and 7 more data and cibc jobs in Toronto, ON for you!\n",
      "INFO - Successfully saved email: 'Senior Risk Analyst, Regulatory Reporting & Analytics, Capital Market Risk Management at CIBC and 7 more data and cibc jobs in Toronto, ON for you!' to 'data\\Indeed___alert@indeed.com\\2024\\December\\22\\2024_December_22___Time_03_53_51_000___Title_Senior Risk Analyst Regulator.html'.\n",
      "INFO - Email processed successfully: Senior Risk Analyst, Regulatory Reporting & Analytics, Capital Market Risk Management at CIBC and 7 more data and cibc jobs in Toronto, ON for you!\n",
      "INFO - No new emails found.\n",
      "INFO - Email fetched successfully: Subject: Your job alert for data and mcAfee, llc jobs in Toronto, ON is now active, Sender: Indeed <alert@indeed.com>\n",
      "ERROR - Failed to process email content: No objects to concatenate\n",
      "ERROR - Scraping failed for email Your job alert for data and mcAfee, llc jobs in Toronto, ON is now active (ID: 193ec1c2dde37238): No objects to concatenate\n",
      "ERROR - Email processing failed for ID 193ec1c2dde37238: No objects to concatenate\n",
      "INFO - Failed email saved to data\\failed_emails\\Indeed___Indeedalert@indeed.com\\2024_December_22___Time_02_04_49___Title_Your job alert for data and mc.html\n",
      "ERROR - Email processing failed for Your job alert for data and mcAfee, llc jobs in Toronto, ON is now active: No objects to concatenate\n",
      "INFO - No new emails found.\n",
      "Waiting for new emails...\n"
     ]
    },
    {
     "name": "stderr",
     "output_type": "stream",
     "text": [
      "INFO:root:No new emails found.\n"
     ]
    },
    {
     "name": "stdout",
     "output_type": "stream",
     "text": [
      "Waiting for new emails...\n"
     ]
    },
    {
     "name": "stderr",
     "output_type": "stream",
     "text": [
      "INFO:root:No new emails found.\n"
     ]
    },
    {
     "name": "stdout",
     "output_type": "stream",
     "text": [
      "Waiting for new emails...\n"
     ]
    },
    {
     "name": "stderr",
     "output_type": "stream",
     "text": [
      "INFO:root:No new emails found.\n"
     ]
    },
    {
     "name": "stdout",
     "output_type": "stream",
     "text": [
      "Waiting for new emails...\n"
     ]
    },
    {
     "name": "stderr",
     "output_type": "stream",
     "text": [
      "INFO:root:Email fetched successfully: Subject: Senior Manager Data & Innovation Enablement at Royal Bank of Canada and 17 more data and rbc jobs in Toronto, ON for you!, Sender: Indeed <alert@indeed.com>\n",
      "INFO:root:Successfully processed email content for job data.\n",
      "INFO:root:Scraping successful for email: Senior Manager Data & Innovation Enablement at Royal Bank of Canada and 17 more data and rbc jobs in Toronto, ON for you!\n",
      "INFO:root:Successfully saved email: 'Senior Manager Data & Innovation Enablement at Royal Bank of Canada and 17 more data and rbc jobs in Toronto, ON for you!' to 'data\\Indeed___alert@indeed.com\\2024\\December\\22\\2024_December_22___Time_03_50_19_000___Title_Senior Manager Data  Innovati.html'.\n"
     ]
    },
    {
     "name": "stdout",
     "output_type": "stream",
     "text": [
      "\u001b[H\u001b[JINFO - No new emails found.\n",
      "INFO - Email fetched successfully: Subject: Senior Risk Analyst, Regulatory Reporting & Analytics, Capital Market Risk Management at CIBC and 7 more data and cibc jobs in Toronto, ON for you!, Sender: Indeed <alert@indeed.com>\n",
      "INFO - Successfully processed email content for job data.\n",
      "INFO - Scraping successful for email: Senior Risk Analyst, Regulatory Reporting & Analytics, Capital Market Risk Management at CIBC and 7 more data and cibc jobs in Toronto, ON for you!\n",
      "INFO - Successfully saved email: 'Senior Risk Analyst, Regulatory Reporting & Analytics, Capital Market Risk Management at CIBC and 7 more data and cibc jobs in Toronto, ON for you!' to 'data\\Indeed___alert@indeed.com\\2024\\December\\22\\2024_December_22___Time_03_53_51_000___Title_Senior Risk Analyst Regulator.html'.\n",
      "INFO - Email processed successfully: Senior Risk Analyst, Regulatory Reporting & Analytics, Capital Market Risk Management at CIBC and 7 more data and cibc jobs in Toronto, ON for you!\n",
      "INFO - No new emails found.\n",
      "INFO - Email fetched successfully: Subject: Your job alert for data and mcAfee, llc jobs in Toronto, ON is now active, Sender: Indeed <alert@indeed.com>\n",
      "ERROR - Failed to process email content: No objects to concatenate\n",
      "ERROR - Scraping failed for email Your job alert for data and mcAfee, llc jobs in Toronto, ON is now active (ID: 193ec1c2dde37238): No objects to concatenate\n",
      "ERROR - Email processing failed for ID 193ec1c2dde37238: No objects to concatenate\n",
      "INFO - Failed email saved to data\\failed_emails\\Indeed___Indeedalert@indeed.com\\2024_December_22___Time_02_04_49___Title_Your job alert for data and mc.html\n",
      "ERROR - Email processing failed for Your job alert for data and mcAfee, llc jobs in Toronto, ON is now active: No objects to concatenate\n",
      "INFO - No new emails found.\n",
      "INFO - Email fetched successfully: Subject: Senior Manager Data & Innovation Enablement at Royal Bank of Canada and 17 more data and rbc jobs in Toronto, ON for you!, Sender: Indeed <alert@indeed.com>\n",
      "Data written to ./data/raw_processed\\2024_12.csv as a fresh file.\n",
      "\u001b[H\u001b[JINFO - Email fetched successfully: Subject: Senior Risk Analyst, Regulatory Reporting & Analytics, Capital Market Risk Management at CIBC and 7 more data and cibc jobs in Toronto, ON for you!, Sender: Indeed <alert@indeed.com>\n",
      "INFO - Successfully processed email content for job data.\n",
      "INFO - Scraping successful for email: Senior Risk Analyst, Regulatory Reporting & Analytics, Capital Market Risk Management at CIBC and 7 more data and cibc jobs in Toronto, ON for you!\n",
      "INFO - Successfully saved email: 'Senior Risk Analyst, Regulatory Reporting & Analytics, Capital Market Risk Management at CIBC and 7 more data and cibc jobs in Toronto, ON for you!' to 'data\\Indeed___alert@indeed.com\\2024\\December\\22\\2024_December_22___Time_03_53_51_000___Title_Senior Risk Analyst Regulator.html'.\n",
      "INFO - Email processed successfully: Senior Risk Analyst, Regulatory Reporting & Analytics, Capital Market Risk Management at CIBC and 7 more data and cibc jobs in Toronto, ON for you!\n",
      "INFO - No new emails found.\n",
      "INFO - Email fetched successfully: Subject: Your job alert for data and mcAfee, llc jobs in Toronto, ON is now active, Sender: Indeed <alert@indeed.com>\n",
      "ERROR - Failed to process email content: No objects to concatenate\n",
      "ERROR - Scraping failed for email Your job alert for data and mcAfee, llc jobs in Toronto, ON is now active (ID: 193ec1c2dde37238): No objects to concatenate\n",
      "ERROR - Email processing failed for ID 193ec1c2dde37238: No objects to concatenate\n",
      "INFO - Failed email saved to data\\failed_emails\\Indeed___Indeedalert@indeed.com\\2024_December_22___Time_02_04_49___Title_Your job alert for data and mc.html\n",
      "ERROR - Email processing failed for Your job alert for data and mcAfee, llc jobs in Toronto, ON is now active: No objects to concatenate\n",
      "INFO - No new emails found.\n",
      "INFO - Email fetched successfully: Subject: Senior Manager Data & Innovation Enablement at Royal Bank of Canada and 17 more data and rbc jobs in Toronto, ON for you!, Sender: Indeed <alert@indeed.com>\n",
      "INFO - Successfully processed email content for job data.\n",
      "\u001b[H\u001b[JINFO - Successfully processed email content for job data.\n",
      "INFO - Scraping successful for email: Senior Risk Analyst, Regulatory Reporting & Analytics, Capital Market Risk Management at CIBC and 7 more data and cibc jobs in Toronto, ON for you!\n",
      "INFO - Successfully saved email: 'Senior Risk Analyst, Regulatory Reporting & Analytics, Capital Market Risk Management at CIBC and 7 more data and cibc jobs in Toronto, ON for you!' to 'data\\Indeed___alert@indeed.com\\2024\\December\\22\\2024_December_22___Time_03_53_51_000___Title_Senior Risk Analyst Regulator.html'.\n",
      "INFO - Email processed successfully: Senior Risk Analyst, Regulatory Reporting & Analytics, Capital Market Risk Management at CIBC and 7 more data and cibc jobs in Toronto, ON for you!\n",
      "INFO - No new emails found.\n",
      "INFO - Email fetched successfully: Subject: Your job alert for data and mcAfee, llc jobs in Toronto, ON is now active, Sender: Indeed <alert@indeed.com>\n",
      "ERROR - Failed to process email content: No objects to concatenate\n",
      "ERROR - Scraping failed for email Your job alert for data and mcAfee, llc jobs in Toronto, ON is now active (ID: 193ec1c2dde37238): No objects to concatenate\n",
      "ERROR - Email processing failed for ID 193ec1c2dde37238: No objects to concatenate\n",
      "INFO - Failed email saved to data\\failed_emails\\Indeed___Indeedalert@indeed.com\\2024_December_22___Time_02_04_49___Title_Your job alert for data and mc.html\n",
      "ERROR - Email processing failed for Your job alert for data and mcAfee, llc jobs in Toronto, ON is now active: No objects to concatenate\n",
      "INFO - No new emails found.\n",
      "INFO - Email fetched successfully: Subject: Senior Manager Data & Innovation Enablement at Royal Bank of Canada and 17 more data and rbc jobs in Toronto, ON for you!, Sender: Indeed <alert@indeed.com>\n",
      "INFO - Successfully processed email content for job data.\n",
      "INFO - Scraping successful for email: Senior Manager Data & Innovation Enablement at Royal Bank of Canada and 17 more data and rbc jobs in Toronto, ON for you!\n",
      "\u001b[H\u001b[JINFO - Scraping successful for email: Senior Risk Analyst, Regulatory Reporting & Analytics, Capital Market Risk Management at CIBC and 7 more data and cibc jobs in Toronto, ON for you!\n",
      "INFO - Successfully saved email: 'Senior Risk Analyst, Regulatory Reporting & Analytics, Capital Market Risk Management at CIBC and 7 more data and cibc jobs in Toronto, ON for you!' to 'data\\Indeed___alert@indeed.com\\2024\\December\\22\\2024_December_22___Time_03_53_51_000___Title_Senior Risk Analyst Regulator.html'.\n",
      "INFO - Email processed successfully: Senior Risk Analyst, Regulatory Reporting & Analytics, Capital Market Risk Management at CIBC and 7 more data and cibc jobs in Toronto, ON for you!\n",
      "INFO - No new emails found.\n",
      "INFO - Email fetched successfully: Subject: Your job alert for data and mcAfee, llc jobs in Toronto, ON is now active, Sender: Indeed <alert@indeed.com>\n",
      "ERROR - Failed to process email content: No objects to concatenate\n",
      "ERROR - Scraping failed for email Your job alert for data and mcAfee, llc jobs in Toronto, ON is now active (ID: 193ec1c2dde37238): No objects to concatenate\n",
      "ERROR - Email processing failed for ID 193ec1c2dde37238: No objects to concatenate\n",
      "INFO - Failed email saved to data\\failed_emails\\Indeed___Indeedalert@indeed.com\\2024_December_22___Time_02_04_49___Title_Your job alert for data and mc.html\n",
      "ERROR - Email processing failed for Your job alert for data and mcAfee, llc jobs in Toronto, ON is now active: No objects to concatenate\n",
      "INFO - No new emails found.\n",
      "INFO - Email fetched successfully: Subject: Senior Manager Data & Innovation Enablement at Royal Bank of Canada and 17 more data and rbc jobs in Toronto, ON for you!, Sender: Indeed <alert@indeed.com>\n",
      "INFO - Successfully processed email content for job data.\n",
      "INFO - Scraping successful for email: Senior Manager Data & Innovation Enablement at Royal Bank of Canada and 17 more data and rbc jobs in Toronto, ON for you!\n",
      "INFO - Successfully saved email: 'Senior Manager Data & Innovation Enablement at Royal Bank of Canada and 17 more data and rbc jobs in Toronto, ON for you!' to 'data\\Indeed___alert@indeed.com\\2024\\December\\22\\2024_December_22___Time_03_50_19_000___Title_Senior Manager Data  Innovati.html'.\n",
      "Email saved to data\\Indeed___alert@indeed.com\\2024\\December\\22\\2024_December_22___Time_03_50_19_000___Title_Senior Manager Data  Innovati.html\n",
      "Email with ID 193ec7cc24b08d72 marked as read.\n"
     ]
    },
    {
     "name": "stderr",
     "output_type": "stream",
     "text": [
      "INFO:root:Email processed successfully: Senior Manager Data & Innovation Enablement at Royal Bank of Canada and 17 more data and rbc jobs in Toronto, ON for you!\n"
     ]
    },
    {
     "name": "stdout",
     "output_type": "stream",
     "text": [
      "\u001b[H\u001b[JINFO - Successfully saved email: 'Senior Risk Analyst, Regulatory Reporting & Analytics, Capital Market Risk Management at CIBC and 7 more data and cibc jobs in Toronto, ON for you!' to 'data\\Indeed___alert@indeed.com\\2024\\December\\22\\2024_December_22___Time_03_53_51_000___Title_Senior Risk Analyst Regulator.html'.\n",
      "INFO - Email processed successfully: Senior Risk Analyst, Regulatory Reporting & Analytics, Capital Market Risk Management at CIBC and 7 more data and cibc jobs in Toronto, ON for you!\n",
      "INFO - No new emails found.\n",
      "INFO - Email fetched successfully: Subject: Your job alert for data and mcAfee, llc jobs in Toronto, ON is now active, Sender: Indeed <alert@indeed.com>\n",
      "ERROR - Failed to process email content: No objects to concatenate\n",
      "ERROR - Scraping failed for email Your job alert for data and mcAfee, llc jobs in Toronto, ON is now active (ID: 193ec1c2dde37238): No objects to concatenate\n",
      "ERROR - Email processing failed for ID 193ec1c2dde37238: No objects to concatenate\n",
      "INFO - Failed email saved to data\\failed_emails\\Indeed___Indeedalert@indeed.com\\2024_December_22___Time_02_04_49___Title_Your job alert for data and mc.html\n",
      "ERROR - Email processing failed for Your job alert for data and mcAfee, llc jobs in Toronto, ON is now active: No objects to concatenate\n",
      "INFO - No new emails found.\n",
      "INFO - Email fetched successfully: Subject: Senior Manager Data & Innovation Enablement at Royal Bank of Canada and 17 more data and rbc jobs in Toronto, ON for you!, Sender: Indeed <alert@indeed.com>\n",
      "INFO - Successfully processed email content for job data.\n",
      "INFO - Scraping successful for email: Senior Manager Data & Innovation Enablement at Royal Bank of Canada and 17 more data and rbc jobs in Toronto, ON for you!\n",
      "INFO - Successfully saved email: 'Senior Manager Data & Innovation Enablement at Royal Bank of Canada and 17 more data and rbc jobs in Toronto, ON for you!' to 'data\\Indeed___alert@indeed.com\\2024\\December\\22\\2024_December_22___Time_03_50_19_000___Title_Senior Manager Data  Innovati.html'.\n",
      "INFO - Email processed successfully: Senior Manager Data & Innovation Enablement at Royal Bank of Canada and 17 more data and rbc jobs in Toronto, ON for you!\n",
      "Waiting for new emails...\n"
     ]
    },
    {
     "name": "stderr",
     "output_type": "stream",
     "text": [
      "INFO:root:No new emails found.\n"
     ]
    },
    {
     "name": "stdout",
     "output_type": "stream",
     "text": [
      "\u001b[H\u001b[JINFO - Email processed successfully: Senior Risk Analyst, Regulatory Reporting & Analytics, Capital Market Risk Management at CIBC and 7 more data and cibc jobs in Toronto, ON for you!\n",
      "INFO - No new emails found.\n",
      "INFO - Email fetched successfully: Subject: Your job alert for data and mcAfee, llc jobs in Toronto, ON is now active, Sender: Indeed <alert@indeed.com>\n",
      "ERROR - Failed to process email content: No objects to concatenate\n",
      "ERROR - Scraping failed for email Your job alert for data and mcAfee, llc jobs in Toronto, ON is now active (ID: 193ec1c2dde37238): No objects to concatenate\n",
      "ERROR - Email processing failed for ID 193ec1c2dde37238: No objects to concatenate\n",
      "INFO - Failed email saved to data\\failed_emails\\Indeed___Indeedalert@indeed.com\\2024_December_22___Time_02_04_49___Title_Your job alert for data and mc.html\n",
      "ERROR - Email processing failed for Your job alert for data and mcAfee, llc jobs in Toronto, ON is now active: No objects to concatenate\n",
      "INFO - No new emails found.\n",
      "INFO - Email fetched successfully: Subject: Senior Manager Data & Innovation Enablement at Royal Bank of Canada and 17 more data and rbc jobs in Toronto, ON for you!, Sender: Indeed <alert@indeed.com>\n",
      "INFO - Successfully processed email content for job data.\n",
      "INFO - Scraping successful for email: Senior Manager Data & Innovation Enablement at Royal Bank of Canada and 17 more data and rbc jobs in Toronto, ON for you!\n",
      "INFO - Successfully saved email: 'Senior Manager Data & Innovation Enablement at Royal Bank of Canada and 17 more data and rbc jobs in Toronto, ON for you!' to 'data\\Indeed___alert@indeed.com\\2024\\December\\22\\2024_December_22___Time_03_50_19_000___Title_Senior Manager Data  Innovati.html'.\n",
      "INFO - Email processed successfully: Senior Manager Data & Innovation Enablement at Royal Bank of Canada and 17 more data and rbc jobs in Toronto, ON for you!\n",
      "INFO - No new emails found.\n",
      "Waiting for new emails...\n"
     ]
    },
    {
     "name": "stderr",
     "output_type": "stream",
     "text": [
      "INFO:root:No new emails found.\n"
     ]
    },
    {
     "name": "stdout",
     "output_type": "stream",
     "text": [
      "Waiting for new emails...\n"
     ]
    },
    {
     "name": "stderr",
     "output_type": "stream",
     "text": [
      "INFO:root:No new emails found.\n"
     ]
    },
    {
     "name": "stdout",
     "output_type": "stream",
     "text": [
      "Waiting for new emails...\n"
     ]
    },
    {
     "name": "stderr",
     "output_type": "stream",
     "text": [
      "INFO:root:No new emails found.\n"
     ]
    },
    {
     "name": "stdout",
     "output_type": "stream",
     "text": [
      "Waiting for new emails...\n"
     ]
    },
    {
     "name": "stderr",
     "output_type": "stream",
     "text": [
      "INFO:root:No new emails found.\n"
     ]
    },
    {
     "name": "stdout",
     "output_type": "stream",
     "text": [
      "Waiting for new emails...\n"
     ]
    },
    {
     "name": "stderr",
     "output_type": "stream",
     "text": [
      "INFO:root:Email fetched successfully: Subject: Senior Risk Analyst, Regulatory Reporting & Analytics, Capital Market Risk Management at CIBC and 7 more data and cibc jobs in Toronto, ON for you!, Sender: Indeed <alert@indeed.com>\n",
      "INFO:root:Successfully processed email content for job data.\n",
      "INFO:root:Scraping successful for email: Senior Risk Analyst, Regulatory Reporting & Analytics, Capital Market Risk Management at CIBC and 7 more data and cibc jobs in Toronto, ON for you!\n",
      "INFO:root:Successfully saved email: 'Senior Risk Analyst, Regulatory Reporting & Analytics, Capital Market Risk Management at CIBC and 7 more data and cibc jobs in Toronto, ON for you!' to 'data\\Indeed___alert@indeed.com\\2024\\December\\22\\2024_December_22___Time_03_53_51_000___Title_Senior Risk Analyst Regulator.html'.\n"
     ]
    },
    {
     "name": "stdout",
     "output_type": "stream",
     "text": [
      "\u001b[H\u001b[JINFO - No new emails found.\n",
      "INFO - Email fetched successfully: Subject: Your job alert for data and mcAfee, llc jobs in Toronto, ON is now active, Sender: Indeed <alert@indeed.com>\n",
      "ERROR - Failed to process email content: No objects to concatenate\n",
      "ERROR - Scraping failed for email Your job alert for data and mcAfee, llc jobs in Toronto, ON is now active (ID: 193ec1c2dde37238): No objects to concatenate\n",
      "ERROR - Email processing failed for ID 193ec1c2dde37238: No objects to concatenate\n",
      "INFO - Failed email saved to data\\failed_emails\\Indeed___Indeedalert@indeed.com\\2024_December_22___Time_02_04_49___Title_Your job alert for data and mc.html\n",
      "ERROR - Email processing failed for Your job alert for data and mcAfee, llc jobs in Toronto, ON is now active: No objects to concatenate\n",
      "INFO - No new emails found.\n",
      "INFO - Email fetched successfully: Subject: Senior Manager Data & Innovation Enablement at Royal Bank of Canada and 17 more data and rbc jobs in Toronto, ON for you!, Sender: Indeed <alert@indeed.com>\n",
      "INFO - Successfully processed email content for job data.\n",
      "INFO - Scraping successful for email: Senior Manager Data & Innovation Enablement at Royal Bank of Canada and 17 more data and rbc jobs in Toronto, ON for you!\n",
      "INFO - Successfully saved email: 'Senior Manager Data & Innovation Enablement at Royal Bank of Canada and 17 more data and rbc jobs in Toronto, ON for you!' to 'data\\Indeed___alert@indeed.com\\2024\\December\\22\\2024_December_22___Time_03_50_19_000___Title_Senior Manager Data  Innovati.html'.\n",
      "INFO - Email processed successfully: Senior Manager Data & Innovation Enablement at Royal Bank of Canada and 17 more data and rbc jobs in Toronto, ON for you!\n",
      "INFO - No new emails found.\n",
      "INFO - Email fetched successfully: Subject: Senior Risk Analyst, Regulatory Reporting & Analytics, Capital Market Risk Management at CIBC and 7 more data and cibc jobs in Toronto, ON for you!, Sender: Indeed <alert@indeed.com>\n",
      "Data appended to ./data/raw_processed\\2024_12.csv.\n",
      "\u001b[H\u001b[JINFO - Email fetched successfully: Subject: Your job alert for data and mcAfee, llc jobs in Toronto, ON is now active, Sender: Indeed <alert@indeed.com>\n",
      "ERROR - Failed to process email content: No objects to concatenate\n",
      "ERROR - Scraping failed for email Your job alert for data and mcAfee, llc jobs in Toronto, ON is now active (ID: 193ec1c2dde37238): No objects to concatenate\n",
      "ERROR - Email processing failed for ID 193ec1c2dde37238: No objects to concatenate\n",
      "INFO - Failed email saved to data\\failed_emails\\Indeed___Indeedalert@indeed.com\\2024_December_22___Time_02_04_49___Title_Your job alert for data and mc.html\n",
      "ERROR - Email processing failed for Your job alert for data and mcAfee, llc jobs in Toronto, ON is now active: No objects to concatenate\n",
      "INFO - No new emails found.\n",
      "INFO - Email fetched successfully: Subject: Senior Manager Data & Innovation Enablement at Royal Bank of Canada and 17 more data and rbc jobs in Toronto, ON for you!, Sender: Indeed <alert@indeed.com>\n",
      "INFO - Successfully processed email content for job data.\n",
      "INFO - Scraping successful for email: Senior Manager Data & Innovation Enablement at Royal Bank of Canada and 17 more data and rbc jobs in Toronto, ON for you!\n",
      "INFO - Successfully saved email: 'Senior Manager Data & Innovation Enablement at Royal Bank of Canada and 17 more data and rbc jobs in Toronto, ON for you!' to 'data\\Indeed___alert@indeed.com\\2024\\December\\22\\2024_December_22___Time_03_50_19_000___Title_Senior Manager Data  Innovati.html'.\n",
      "INFO - Email processed successfully: Senior Manager Data & Innovation Enablement at Royal Bank of Canada and 17 more data and rbc jobs in Toronto, ON for you!\n",
      "INFO - No new emails found.\n",
      "INFO - Email fetched successfully: Subject: Senior Risk Analyst, Regulatory Reporting & Analytics, Capital Market Risk Management at CIBC and 7 more data and cibc jobs in Toronto, ON for you!, Sender: Indeed <alert@indeed.com>\n",
      "INFO - Successfully processed email content for job data.\n",
      "\u001b[H\u001b[JERROR - Failed to process email content: No objects to concatenate\n",
      "ERROR - Scraping failed for email Your job alert for data and mcAfee, llc jobs in Toronto, ON is now active (ID: 193ec1c2dde37238): No objects to concatenate\n",
      "ERROR - Email processing failed for ID 193ec1c2dde37238: No objects to concatenate\n",
      "INFO - Failed email saved to data\\failed_emails\\Indeed___Indeedalert@indeed.com\\2024_December_22___Time_02_04_49___Title_Your job alert for data and mc.html\n",
      "ERROR - Email processing failed for Your job alert for data and mcAfee, llc jobs in Toronto, ON is now active: No objects to concatenate\n",
      "INFO - No new emails found.\n",
      "INFO - Email fetched successfully: Subject: Senior Manager Data & Innovation Enablement at Royal Bank of Canada and 17 more data and rbc jobs in Toronto, ON for you!, Sender: Indeed <alert@indeed.com>\n",
      "INFO - Successfully processed email content for job data.\n",
      "INFO - Scraping successful for email: Senior Manager Data & Innovation Enablement at Royal Bank of Canada and 17 more data and rbc jobs in Toronto, ON for you!\n",
      "INFO - Successfully saved email: 'Senior Manager Data & Innovation Enablement at Royal Bank of Canada and 17 more data and rbc jobs in Toronto, ON for you!' to 'data\\Indeed___alert@indeed.com\\2024\\December\\22\\2024_December_22___Time_03_50_19_000___Title_Senior Manager Data  Innovati.html'.\n",
      "INFO - Email processed successfully: Senior Manager Data & Innovation Enablement at Royal Bank of Canada and 17 more data and rbc jobs in Toronto, ON for you!\n",
      "INFO - No new emails found.\n",
      "INFO - Email fetched successfully: Subject: Senior Risk Analyst, Regulatory Reporting & Analytics, Capital Market Risk Management at CIBC and 7 more data and cibc jobs in Toronto, ON for you!, Sender: Indeed <alert@indeed.com>\n",
      "INFO - Successfully processed email content for job data.\n",
      "INFO - Scraping successful for email: Senior Risk Analyst, Regulatory Reporting & Analytics, Capital Market Risk Management at CIBC and 7 more data and cibc jobs in Toronto, ON for you!\n",
      "\u001b[H\u001b[JERROR - Scraping failed for email Your job alert for data and mcAfee, llc jobs in Toronto, ON is now active (ID: 193ec1c2dde37238): No objects to concatenate\n",
      "ERROR - Email processing failed for ID 193ec1c2dde37238: No objects to concatenate\n",
      "INFO - Failed email saved to data\\failed_emails\\Indeed___Indeedalert@indeed.com\\2024_December_22___Time_02_04_49___Title_Your job alert for data and mc.html\n",
      "ERROR - Email processing failed for Your job alert for data and mcAfee, llc jobs in Toronto, ON is now active: No objects to concatenate\n",
      "INFO - No new emails found.\n",
      "INFO - Email fetched successfully: Subject: Senior Manager Data & Innovation Enablement at Royal Bank of Canada and 17 more data and rbc jobs in Toronto, ON for you!, Sender: Indeed <alert@indeed.com>\n",
      "INFO - Successfully processed email content for job data.\n",
      "INFO - Scraping successful for email: Senior Manager Data & Innovation Enablement at Royal Bank of Canada and 17 more data and rbc jobs in Toronto, ON for you!\n",
      "INFO - Successfully saved email: 'Senior Manager Data & Innovation Enablement at Royal Bank of Canada and 17 more data and rbc jobs in Toronto, ON for you!' to 'data\\Indeed___alert@indeed.com\\2024\\December\\22\\2024_December_22___Time_03_50_19_000___Title_Senior Manager Data  Innovati.html'.\n",
      "INFO - Email processed successfully: Senior Manager Data & Innovation Enablement at Royal Bank of Canada and 17 more data and rbc jobs in Toronto, ON for you!\n",
      "INFO - No new emails found.\n",
      "INFO - Email fetched successfully: Subject: Senior Risk Analyst, Regulatory Reporting & Analytics, Capital Market Risk Management at CIBC and 7 more data and cibc jobs in Toronto, ON for you!, Sender: Indeed <alert@indeed.com>\n",
      "INFO - Successfully processed email content for job data.\n",
      "INFO - Scraping successful for email: Senior Risk Analyst, Regulatory Reporting & Analytics, Capital Market Risk Management at CIBC and 7 more data and cibc jobs in Toronto, ON for you!\n",
      "INFO - Successfully saved email: 'Senior Risk Analyst, Regulatory Reporting & Analytics, Capital Market Risk Management at CIBC and 7 more data and cibc jobs in Toronto, ON for you!' to 'data\\Indeed___alert@indeed.com\\2024\\December\\22\\2024_December_22___Time_03_53_51_000___Title_Senior Risk Analyst Regulator.html'.\n",
      "Email saved to data\\Indeed___alert@indeed.com\\2024\\December\\22\\2024_December_22___Time_03_53_51_000___Title_Senior Risk Analyst Regulator.html\n",
      "Email with ID 193ec7ffff44c12c marked as read.\n"
     ]
    },
    {
     "name": "stderr",
     "output_type": "stream",
     "text": [
      "INFO:root:Email processed successfully: Senior Risk Analyst, Regulatory Reporting & Analytics, Capital Market Risk Management at CIBC and 7 more data and cibc jobs in Toronto, ON for you!\n"
     ]
    },
    {
     "name": "stdout",
     "output_type": "stream",
     "text": [
      "\u001b[H\u001b[JERROR - Email processing failed for ID 193ec1c2dde37238: No objects to concatenate\n",
      "INFO - Failed email saved to data\\failed_emails\\Indeed___Indeedalert@indeed.com\\2024_December_22___Time_02_04_49___Title_Your job alert for data and mc.html\n",
      "ERROR - Email processing failed for Your job alert for data and mcAfee, llc jobs in Toronto, ON is now active: No objects to concatenate\n",
      "INFO - No new emails found.\n",
      "INFO - Email fetched successfully: Subject: Senior Manager Data & Innovation Enablement at Royal Bank of Canada and 17 more data and rbc jobs in Toronto, ON for you!, Sender: Indeed <alert@indeed.com>\n",
      "INFO - Successfully processed email content for job data.\n",
      "INFO - Scraping successful for email: Senior Manager Data & Innovation Enablement at Royal Bank of Canada and 17 more data and rbc jobs in Toronto, ON for you!\n",
      "INFO - Successfully saved email: 'Senior Manager Data & Innovation Enablement at Royal Bank of Canada and 17 more data and rbc jobs in Toronto, ON for you!' to 'data\\Indeed___alert@indeed.com\\2024\\December\\22\\2024_December_22___Time_03_50_19_000___Title_Senior Manager Data  Innovati.html'.\n",
      "INFO - Email processed successfully: Senior Manager Data & Innovation Enablement at Royal Bank of Canada and 17 more data and rbc jobs in Toronto, ON for you!\n",
      "INFO - No new emails found.\n",
      "INFO - Email fetched successfully: Subject: Senior Risk Analyst, Regulatory Reporting & Analytics, Capital Market Risk Management at CIBC and 7 more data and cibc jobs in Toronto, ON for you!, Sender: Indeed <alert@indeed.com>\n",
      "INFO - Successfully processed email content for job data.\n",
      "INFO - Scraping successful for email: Senior Risk Analyst, Regulatory Reporting & Analytics, Capital Market Risk Management at CIBC and 7 more data and cibc jobs in Toronto, ON for you!\n",
      "INFO - Successfully saved email: 'Senior Risk Analyst, Regulatory Reporting & Analytics, Capital Market Risk Management at CIBC and 7 more data and cibc jobs in Toronto, ON for you!' to 'data\\Indeed___alert@indeed.com\\2024\\December\\22\\2024_December_22___Time_03_53_51_000___Title_Senior Risk Analyst Regulator.html'.\n",
      "INFO - Email processed successfully: Senior Risk Analyst, Regulatory Reporting & Analytics, Capital Market Risk Management at CIBC and 7 more data and cibc jobs in Toronto, ON for you!\n",
      "Waiting for new emails...\n"
     ]
    },
    {
     "name": "stderr",
     "output_type": "stream",
     "text": [
      "INFO:root:No new emails found.\n"
     ]
    },
    {
     "name": "stdout",
     "output_type": "stream",
     "text": [
      "\u001b[H\u001b[JINFO - Failed email saved to data\\failed_emails\\Indeed___Indeedalert@indeed.com\\2024_December_22___Time_02_04_49___Title_Your job alert for data and mc.html\n",
      "ERROR - Email processing failed for Your job alert for data and mcAfee, llc jobs in Toronto, ON is now active: No objects to concatenate\n",
      "INFO - No new emails found.\n",
      "INFO - Email fetched successfully: Subject: Senior Manager Data & Innovation Enablement at Royal Bank of Canada and 17 more data and rbc jobs in Toronto, ON for you!, Sender: Indeed <alert@indeed.com>\n",
      "INFO - Successfully processed email content for job data.\n",
      "INFO - Scraping successful for email: Senior Manager Data & Innovation Enablement at Royal Bank of Canada and 17 more data and rbc jobs in Toronto, ON for you!\n",
      "INFO - Successfully saved email: 'Senior Manager Data & Innovation Enablement at Royal Bank of Canada and 17 more data and rbc jobs in Toronto, ON for you!' to 'data\\Indeed___alert@indeed.com\\2024\\December\\22\\2024_December_22___Time_03_50_19_000___Title_Senior Manager Data  Innovati.html'.\n",
      "INFO - Email processed successfully: Senior Manager Data & Innovation Enablement at Royal Bank of Canada and 17 more data and rbc jobs in Toronto, ON for you!\n",
      "INFO - No new emails found.\n",
      "INFO - Email fetched successfully: Subject: Senior Risk Analyst, Regulatory Reporting & Analytics, Capital Market Risk Management at CIBC and 7 more data and cibc jobs in Toronto, ON for you!, Sender: Indeed <alert@indeed.com>\n",
      "INFO - Successfully processed email content for job data.\n",
      "INFO - Scraping successful for email: Senior Risk Analyst, Regulatory Reporting & Analytics, Capital Market Risk Management at CIBC and 7 more data and cibc jobs in Toronto, ON for you!\n",
      "INFO - Successfully saved email: 'Senior Risk Analyst, Regulatory Reporting & Analytics, Capital Market Risk Management at CIBC and 7 more data and cibc jobs in Toronto, ON for you!' to 'data\\Indeed___alert@indeed.com\\2024\\December\\22\\2024_December_22___Time_03_53_51_000___Title_Senior Risk Analyst Regulator.html'.\n",
      "INFO - Email processed successfully: Senior Risk Analyst, Regulatory Reporting & Analytics, Capital Market Risk Management at CIBC and 7 more data and cibc jobs in Toronto, ON for you!\n",
      "INFO - No new emails found.\n",
      "Waiting for new emails...\n"
     ]
    },
    {
     "name": "stderr",
     "output_type": "stream",
     "text": [
      "INFO:root:No new emails found.\n"
     ]
    },
    {
     "name": "stdout",
     "output_type": "stream",
     "text": [
      "Waiting for new emails...\n"
     ]
    },
    {
     "name": "stderr",
     "output_type": "stream",
     "text": [
      "INFO:root:No new emails found.\n"
     ]
    },
    {
     "name": "stdout",
     "output_type": "stream",
     "text": [
      "Waiting for new emails...\n"
     ]
    },
    {
     "name": "stderr",
     "output_type": "stream",
     "text": [
      "INFO:root:No new emails found.\n"
     ]
    },
    {
     "name": "stdout",
     "output_type": "stream",
     "text": [
      "Waiting for new emails...\n"
     ]
    },
    {
     "name": "stderr",
     "output_type": "stream",
     "text": [
      "INFO:root:No new emails found.\n"
     ]
    },
    {
     "name": "stdout",
     "output_type": "stream",
     "text": [
      "Waiting for new emails...\n"
     ]
    },
    {
     "name": "stderr",
     "output_type": "stream",
     "text": [
      "INFO:root:No new emails found.\n"
     ]
    },
    {
     "name": "stdout",
     "output_type": "stream",
     "text": [
      "Waiting for new emails...\n"
     ]
    },
    {
     "name": "stderr",
     "output_type": "stream",
     "text": [
      "INFO:root:No new emails found.\n"
     ]
    },
    {
     "name": "stdout",
     "output_type": "stream",
     "text": [
      "Waiting for new emails...\n"
     ]
    },
    {
     "name": "stderr",
     "output_type": "stream",
     "text": [
      "INFO:root:No new emails found.\n"
     ]
    },
    {
     "name": "stdout",
     "output_type": "stream",
     "text": [
      "Waiting for new emails...\n"
     ]
    },
    {
     "name": "stderr",
     "output_type": "stream",
     "text": [
      "INFO:root:No new emails found.\n"
     ]
    },
    {
     "name": "stdout",
     "output_type": "stream",
     "text": [
      "Waiting for new emails...\n"
     ]
    },
    {
     "name": "stderr",
     "output_type": "stream",
     "text": [
      "INFO:root:No new emails found.\n"
     ]
    },
    {
     "name": "stdout",
     "output_type": "stream",
     "text": [
      "Waiting for new emails...\n"
     ]
    },
    {
     "name": "stderr",
     "output_type": "stream",
     "text": [
      "INFO:root:No new emails found.\n"
     ]
    },
    {
     "name": "stdout",
     "output_type": "stream",
     "text": [
      "Waiting for new emails...\n"
     ]
    },
    {
     "name": "stderr",
     "output_type": "stream",
     "text": [
      "INFO:root:No new emails found.\n"
     ]
    },
    {
     "name": "stdout",
     "output_type": "stream",
     "text": [
      "Waiting for new emails...\n"
     ]
    },
    {
     "name": "stderr",
     "output_type": "stream",
     "text": [
      "INFO:root:No new emails found.\n"
     ]
    },
    {
     "name": "stdout",
     "output_type": "stream",
     "text": [
      "Waiting for new emails...\n"
     ]
    },
    {
     "name": "stderr",
     "output_type": "stream",
     "text": [
      "INFO:root:No new emails found.\n"
     ]
    },
    {
     "name": "stdout",
     "output_type": "stream",
     "text": [
      "Waiting for new emails...\n"
     ]
    },
    {
     "name": "stderr",
     "output_type": "stream",
     "text": [
      "INFO:root:No new emails found.\n"
     ]
    },
    {
     "name": "stdout",
     "output_type": "stream",
     "text": [
      "Waiting for new emails...\n"
     ]
    },
    {
     "name": "stderr",
     "output_type": "stream",
     "text": [
      "INFO:root:No new emails found.\n"
     ]
    },
    {
     "name": "stdout",
     "output_type": "stream",
     "text": [
      "Waiting for new emails...\n"
     ]
    },
    {
     "name": "stderr",
     "output_type": "stream",
     "text": [
      "INFO:root:No new emails found.\n"
     ]
    },
    {
     "name": "stdout",
     "output_type": "stream",
     "text": [
      "Waiting for new emails...\n"
     ]
    },
    {
     "name": "stderr",
     "output_type": "stream",
     "text": [
      "INFO:root:No new emails found.\n"
     ]
    },
    {
     "name": "stdout",
     "output_type": "stream",
     "text": [
      "Waiting for new emails...\n"
     ]
    },
    {
     "name": "stderr",
     "output_type": "stream",
     "text": [
      "INFO:root:No new emails found.\n"
     ]
    },
    {
     "name": "stdout",
     "output_type": "stream",
     "text": [
      "Waiting for new emails...\n"
     ]
    },
    {
     "name": "stderr",
     "output_type": "stream",
     "text": [
      "INFO:root:No new emails found.\n"
     ]
    },
    {
     "name": "stdout",
     "output_type": "stream",
     "text": [
      "Waiting for new emails...\n"
     ]
    },
    {
     "name": "stderr",
     "output_type": "stream",
     "text": [
      "INFO:root:No new emails found.\n"
     ]
    },
    {
     "name": "stdout",
     "output_type": "stream",
     "text": [
      "Waiting for new emails...\n"
     ]
    },
    {
     "name": "stderr",
     "output_type": "stream",
     "text": [
      "INFO:root:No new emails found.\n"
     ]
    },
    {
     "name": "stdout",
     "output_type": "stream",
     "text": [
      "Waiting for new emails...\n"
     ]
    },
    {
     "name": "stderr",
     "output_type": "stream",
     "text": [
      "INFO:root:No new emails found.\n"
     ]
    },
    {
     "name": "stdout",
     "output_type": "stream",
     "text": [
      "Waiting for new emails...\n"
     ]
    },
    {
     "name": "stderr",
     "output_type": "stream",
     "text": [
      "INFO:root:No new emails found.\n"
     ]
    },
    {
     "name": "stdout",
     "output_type": "stream",
     "text": [
      "Waiting for new emails...\n"
     ]
    },
    {
     "name": "stderr",
     "output_type": "stream",
     "text": [
      "INFO:root:No new emails found.\n"
     ]
    },
    {
     "name": "stdout",
     "output_type": "stream",
     "text": [
      "Waiting for new emails...\n"
     ]
    },
    {
     "name": "stderr",
     "output_type": "stream",
     "text": [
      "INFO:root:No new emails found.\n"
     ]
    },
    {
     "name": "stdout",
     "output_type": "stream",
     "text": [
      "Waiting for new emails...\n"
     ]
    },
    {
     "name": "stderr",
     "output_type": "stream",
     "text": [
      "INFO:root:No new emails found.\n"
     ]
    },
    {
     "name": "stdout",
     "output_type": "stream",
     "text": [
      "Waiting for new emails...\n"
     ]
    },
    {
     "name": "stderr",
     "output_type": "stream",
     "text": [
      "INFO:root:No new emails found.\n"
     ]
    },
    {
     "name": "stdout",
     "output_type": "stream",
     "text": [
      "Waiting for new emails...\n"
     ]
    },
    {
     "name": "stderr",
     "output_type": "stream",
     "text": [
      "INFO:root:No new emails found.\n"
     ]
    },
    {
     "name": "stdout",
     "output_type": "stream",
     "text": [
      "Waiting for new emails...\n"
     ]
    },
    {
     "name": "stderr",
     "output_type": "stream",
     "text": [
      "INFO:root:No new emails found.\n"
     ]
    },
    {
     "name": "stdout",
     "output_type": "stream",
     "text": [
      "Waiting for new emails...\n"
     ]
    },
    {
     "name": "stderr",
     "output_type": "stream",
     "text": [
      "INFO:root:No new emails found.\n"
     ]
    },
    {
     "name": "stdout",
     "output_type": "stream",
     "text": [
      "Waiting for new emails...\n"
     ]
    },
    {
     "name": "stderr",
     "output_type": "stream",
     "text": [
      "INFO:root:No new emails found.\n"
     ]
    },
    {
     "name": "stdout",
     "output_type": "stream",
     "text": [
      "Waiting for new emails...\n"
     ]
    },
    {
     "name": "stderr",
     "output_type": "stream",
     "text": [
      "INFO:root:No new emails found.\n"
     ]
    },
    {
     "name": "stdout",
     "output_type": "stream",
     "text": [
      "Waiting for new emails...\n"
     ]
    },
    {
     "name": "stderr",
     "output_type": "stream",
     "text": [
      "INFO:root:No new emails found.\n"
     ]
    },
    {
     "name": "stdout",
     "output_type": "stream",
     "text": [
      "Waiting for new emails...\n"
     ]
    },
    {
     "name": "stderr",
     "output_type": "stream",
     "text": [
      "INFO:root:No new emails found.\n"
     ]
    },
    {
     "name": "stdout",
     "output_type": "stream",
     "text": [
      "Waiting for new emails...\n"
     ]
    },
    {
     "name": "stderr",
     "output_type": "stream",
     "text": [
      "INFO:root:No new emails found.\n"
     ]
    },
    {
     "name": "stdout",
     "output_type": "stream",
     "text": [
      "Waiting for new emails...\n"
     ]
    },
    {
     "name": "stderr",
     "output_type": "stream",
     "text": [
      "INFO:root:No new emails found.\n"
     ]
    },
    {
     "name": "stdout",
     "output_type": "stream",
     "text": [
      "Waiting for new emails...\n"
     ]
    },
    {
     "name": "stderr",
     "output_type": "stream",
     "text": [
      "INFO:root:No new emails found.\n"
     ]
    },
    {
     "name": "stdout",
     "output_type": "stream",
     "text": [
      "Waiting for new emails...\n"
     ]
    },
    {
     "name": "stderr",
     "output_type": "stream",
     "text": [
      "INFO:root:No new emails found.\n"
     ]
    },
    {
     "name": "stdout",
     "output_type": "stream",
     "text": [
      "Waiting for new emails...\n"
     ]
    },
    {
     "name": "stderr",
     "output_type": "stream",
     "text": [
      "INFO:root:No new emails found.\n"
     ]
    },
    {
     "name": "stdout",
     "output_type": "stream",
     "text": [
      "Waiting for new emails...\n"
     ]
    },
    {
     "name": "stderr",
     "output_type": "stream",
     "text": [
      "INFO:root:No new emails found.\n"
     ]
    },
    {
     "name": "stdout",
     "output_type": "stream",
     "text": [
      "Waiting for new emails...\n"
     ]
    },
    {
     "name": "stderr",
     "output_type": "stream",
     "text": [
      "INFO:root:No new emails found.\n"
     ]
    },
    {
     "name": "stdout",
     "output_type": "stream",
     "text": [
      "Waiting for new emails...\n"
     ]
    },
    {
     "name": "stderr",
     "output_type": "stream",
     "text": [
      "INFO:root:No new emails found.\n"
     ]
    },
    {
     "name": "stdout",
     "output_type": "stream",
     "text": [
      "Waiting for new emails...\n"
     ]
    },
    {
     "name": "stderr",
     "output_type": "stream",
     "text": [
      "INFO:root:No new emails found.\n"
     ]
    },
    {
     "name": "stdout",
     "output_type": "stream",
     "text": [
      "Waiting for new emails...\n"
     ]
    },
    {
     "name": "stderr",
     "output_type": "stream",
     "text": [
      "INFO:root:No new emails found.\n"
     ]
    },
    {
     "name": "stdout",
     "output_type": "stream",
     "text": [
      "Waiting for new emails...\n"
     ]
    },
    {
     "name": "stderr",
     "output_type": "stream",
     "text": [
      "INFO:root:No new emails found.\n"
     ]
    },
    {
     "name": "stdout",
     "output_type": "stream",
     "text": [
      "Waiting for new emails...\n"
     ]
    },
    {
     "name": "stderr",
     "output_type": "stream",
     "text": [
      "INFO:root:No new emails found.\n"
     ]
    },
    {
     "name": "stdout",
     "output_type": "stream",
     "text": [
      "Waiting for new emails...\n"
     ]
    },
    {
     "name": "stderr",
     "output_type": "stream",
     "text": [
      "INFO:root:No new emails found.\n"
     ]
    },
    {
     "name": "stdout",
     "output_type": "stream",
     "text": [
      "Waiting for new emails...\n"
     ]
    },
    {
     "name": "stderr",
     "output_type": "stream",
     "text": [
      "INFO:root:No new emails found.\n"
     ]
    },
    {
     "name": "stdout",
     "output_type": "stream",
     "text": [
      "Waiting for new emails...\n"
     ]
    },
    {
     "name": "stderr",
     "output_type": "stream",
     "text": [
      "INFO:root:No new emails found.\n"
     ]
    },
    {
     "name": "stdout",
     "output_type": "stream",
     "text": [
      "Waiting for new emails...\n"
     ]
    },
    {
     "name": "stderr",
     "output_type": "stream",
     "text": [
      "INFO:root:No new emails found.\n"
     ]
    },
    {
     "name": "stdout",
     "output_type": "stream",
     "text": [
      "Waiting for new emails...\n"
     ]
    },
    {
     "name": "stderr",
     "output_type": "stream",
     "text": [
      "INFO:root:No new emails found.\n"
     ]
    },
    {
     "name": "stdout",
     "output_type": "stream",
     "text": [
      "Waiting for new emails...\n"
     ]
    },
    {
     "name": "stderr",
     "output_type": "stream",
     "text": [
      "INFO:root:No new emails found.\n"
     ]
    },
    {
     "name": "stdout",
     "output_type": "stream",
     "text": [
      "Waiting for new emails...\n"
     ]
    },
    {
     "name": "stderr",
     "output_type": "stream",
     "text": [
      "INFO:root:No new emails found.\n"
     ]
    },
    {
     "name": "stdout",
     "output_type": "stream",
     "text": [
      "Waiting for new emails...\n"
     ]
    },
    {
     "name": "stderr",
     "output_type": "stream",
     "text": [
      "INFO:root:No new emails found.\n"
     ]
    },
    {
     "name": "stdout",
     "output_type": "stream",
     "text": [
      "Waiting for new emails...\n"
     ]
    },
    {
     "name": "stderr",
     "output_type": "stream",
     "text": [
      "INFO:root:No new emails found.\n"
     ]
    },
    {
     "name": "stdout",
     "output_type": "stream",
     "text": [
      "Waiting for new emails...\n"
     ]
    },
    {
     "name": "stderr",
     "output_type": "stream",
     "text": [
      "INFO:root:No new emails found.\n"
     ]
    },
    {
     "name": "stdout",
     "output_type": "stream",
     "text": [
      "Waiting for new emails...\n"
     ]
    },
    {
     "name": "stderr",
     "output_type": "stream",
     "text": [
      "INFO:root:No new emails found.\n"
     ]
    },
    {
     "name": "stdout",
     "output_type": "stream",
     "text": [
      "Waiting for new emails...\n"
     ]
    },
    {
     "name": "stderr",
     "output_type": "stream",
     "text": [
      "INFO:root:No new emails found.\n"
     ]
    },
    {
     "name": "stdout",
     "output_type": "stream",
     "text": [
      "Waiting for new emails...\n"
     ]
    },
    {
     "name": "stderr",
     "output_type": "stream",
     "text": [
      "INFO:root:No new emails found.\n"
     ]
    },
    {
     "name": "stdout",
     "output_type": "stream",
     "text": [
      "Waiting for new emails...\n"
     ]
    },
    {
     "name": "stderr",
     "output_type": "stream",
     "text": [
      "INFO:root:No new emails found.\n"
     ]
    },
    {
     "name": "stdout",
     "output_type": "stream",
     "text": [
      "Waiting for new emails...\n"
     ]
    },
    {
     "name": "stderr",
     "output_type": "stream",
     "text": [
      "INFO:root:No new emails found.\n"
     ]
    },
    {
     "name": "stdout",
     "output_type": "stream",
     "text": [
      "Waiting for new emails...\n"
     ]
    },
    {
     "name": "stderr",
     "output_type": "stream",
     "text": [
      "INFO:root:No new emails found.\n"
     ]
    },
    {
     "name": "stdout",
     "output_type": "stream",
     "text": [
      "Waiting for new emails...\n"
     ]
    },
    {
     "name": "stderr",
     "output_type": "stream",
     "text": [
      "INFO:root:No new emails found.\n"
     ]
    },
    {
     "name": "stdout",
     "output_type": "stream",
     "text": [
      "Waiting for new emails...\n"
     ]
    },
    {
     "name": "stderr",
     "output_type": "stream",
     "text": [
      "INFO:root:No new emails found.\n"
     ]
    },
    {
     "name": "stdout",
     "output_type": "stream",
     "text": [
      "Waiting for new emails...\n"
     ]
    },
    {
     "name": "stderr",
     "output_type": "stream",
     "text": [
      "INFO:root:No new emails found.\n"
     ]
    },
    {
     "name": "stdout",
     "output_type": "stream",
     "text": [
      "Waiting for new emails...\n"
     ]
    },
    {
     "name": "stderr",
     "output_type": "stream",
     "text": [
      "INFO:root:No new emails found.\n"
     ]
    },
    {
     "name": "stdout",
     "output_type": "stream",
     "text": [
      "Waiting for new emails...\n"
     ]
    },
    {
     "name": "stderr",
     "output_type": "stream",
     "text": [
      "INFO:root:No new emails found.\n"
     ]
    },
    {
     "name": "stdout",
     "output_type": "stream",
     "text": [
      "Waiting for new emails...\n"
     ]
    },
    {
     "name": "stderr",
     "output_type": "stream",
     "text": [
      "INFO:root:No new emails found.\n"
     ]
    },
    {
     "name": "stdout",
     "output_type": "stream",
     "text": [
      "Waiting for new emails...\n"
     ]
    },
    {
     "name": "stderr",
     "output_type": "stream",
     "text": [
      "INFO:root:No new emails found.\n"
     ]
    },
    {
     "name": "stdout",
     "output_type": "stream",
     "text": [
      "Waiting for new emails...\n"
     ]
    },
    {
     "name": "stderr",
     "output_type": "stream",
     "text": [
      "INFO:root:No new emails found.\n"
     ]
    },
    {
     "name": "stdout",
     "output_type": "stream",
     "text": [
      "Waiting for new emails...\n"
     ]
    },
    {
     "name": "stderr",
     "output_type": "stream",
     "text": [
      "INFO:root:No new emails found.\n"
     ]
    },
    {
     "name": "stdout",
     "output_type": "stream",
     "text": [
      "Waiting for new emails...\n"
     ]
    },
    {
     "name": "stderr",
     "output_type": "stream",
     "text": [
      "INFO:root:No new emails found.\n"
     ]
    },
    {
     "name": "stdout",
     "output_type": "stream",
     "text": [
      "Waiting for new emails...\n"
     ]
    },
    {
     "name": "stderr",
     "output_type": "stream",
     "text": [
      "INFO:root:No new emails found.\n"
     ]
    },
    {
     "name": "stdout",
     "output_type": "stream",
     "text": [
      "Waiting for new emails...\n"
     ]
    },
    {
     "name": "stderr",
     "output_type": "stream",
     "text": [
      "INFO:root:No new emails found.\n"
     ]
    },
    {
     "name": "stdout",
     "output_type": "stream",
     "text": [
      "Waiting for new emails...\n"
     ]
    }
   ],
   "source": [
    "listener.gmail_listener.start_email_fetch(service, SEARCH_SENDERS, ERROR_NOTIFICATION_EMAIL, interval=10)"
   ]
  }
 ],
 "metadata": {
  "kernelspec": {
   "display_name": "Python 3 (ipykernel)",
   "language": "python",
   "name": "python3"
  },
  "language_info": {
   "codemirror_mode": {
    "name": "ipython",
    "version": 3
   },
   "file_extension": ".py",
   "mimetype": "text/x-python",
   "name": "python",
   "nbconvert_exporter": "python",
   "pygments_lexer": "ipython3",
   "version": "3.13.1"
  }
 },
 "nbformat": 4,
 "nbformat_minor": 5
}
