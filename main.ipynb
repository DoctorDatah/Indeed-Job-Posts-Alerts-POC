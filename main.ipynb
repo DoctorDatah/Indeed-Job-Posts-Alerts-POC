{
 "cells": [
  {
   "cell_type": "code",
   "execution_count": 4,
   "id": "18ee869d-52a2-4d7c-9fc9-7417220e6e91",
   "metadata": {},
   "outputs": [
    {
     "name": "stdout",
     "output_type": "stream",
     "text": [
      "Gmail API authenticated successfully!\n",
      "Email fetching started.\n"
     ]
    },
    {
     "name": "stderr",
     "output_type": "stream",
     "text": [
      "INFO:root:No new emails found.\n"
     ]
    },
    {
     "name": "stdout",
     "output_type": "stream",
     "text": [
      "\u001b[H\u001b[JINFO - Logging configured successfully.\n",
      "INFO - No new emails found.\n",
      "Waiting for new emails...\n"
     ]
    },
    {
     "name": "stderr",
     "output_type": "stream",
     "text": [
      "INFO:root:No new emails found.\n"
     ]
    },
    {
     "name": "stdout",
     "output_type": "stream",
     "text": [
      "Waiting for new emails...\n"
     ]
    },
    {
     "name": "stderr",
     "output_type": "stream",
     "text": [
      "INFO:root:No new emails found.\n"
     ]
    },
    {
     "name": "stdout",
     "output_type": "stream",
     "text": [
      "Waiting for new emails...\n"
     ]
    },
    {
     "name": "stderr",
     "output_type": "stream",
     "text": [
      "INFO:root:No new emails found.\n"
     ]
    },
    {
     "name": "stdout",
     "output_type": "stream",
     "text": [
      "Waiting for new emails...\n"
     ]
    },
    {
     "name": "stderr",
     "output_type": "stream",
     "text": [
      "INFO:root:No new emails found.\n"
     ]
    },
    {
     "name": "stdout",
     "output_type": "stream",
     "text": [
      "Waiting for new emails...\n"
     ]
    }
   ],
   "source": [
    "import os \n",
    "import scraping.scrap_job_blocks\n",
    "import scraping.scrap_job_elements\n",
    "import processing.latest_emails\n",
    "import scraping.overall_scrap\n",
    "import listener.gmail_listener\n",
    "import processing.logs\n",
    "from datetime import datetime\n",
    "import threading\n",
    "import time\n",
    "from bs4 import BeautifulSoup\n",
    "from datetime import datetime\n",
    "import threading\n",
    "import os\n",
    "import subprocess\n",
    "import auth.gmail_auth\n",
    "import utils.html_module \n",
    "import processing.latest_emails \n",
    "import scraping.scrap_job_blocks\n",
    "import scraping.scrap_job_elements\n",
    "import scraping.overall_scrap\n",
    "import listener.gmail_listener\n",
    "\n",
    "\n",
    "SEARCH_SENDERS = [\"malikhqtech@gmail.com\", \"alert@indeed.com\", \"noreply@example.com\"] \n",
    "LABEL_NAME_SUCCESS = \"fetched_by_app\"\n",
    "LABEL_NAME_FAILURE = \"fetch_failed_for_job_app\"\n",
    "ERROR_NOTIFICATION_EMAIL = \"malikhqtech@gmail.com\"\n",
    "is_fetching = False\n",
    "fetch_thread = None\n",
    "\n",
    "\n",
    "\n",
    "if __name__ == \"__main__\":\n",
    "    try:\n",
    "        service = auth.gmail_auth.authenticate_gmail()\n",
    "        print(\"Gmail API authenticated successfully!\")\n",
    "    except Exception as e:\n",
    "        print(\"Error during authentication:\", e)\n",
    "            \n",
    "        \n",
    "    listener.gmail_listener.start_email_fetch(service, SEARCH_SENDERS, ERROR_NOTIFICATION_EMAIL, interval=10)"
   ]
  },
  {
   "cell_type": "code",
   "execution_count": null,
   "id": "e76ae05c-1d40-415f-ba03-a4a3d07899d9",
   "metadata": {},
   "outputs": [],
   "source": [
    "try:\n",
    "    service = auth.gmail_auth.authenticate_gmail()\n",
    "    print(\"Gmail API authenticated successfully!\")\n",
    "except Exception as e:\n",
    "    print(\"Error during authentication:\", e)\n",
    "        "
   ]
  },
  {
   "cell_type": "code",
   "execution_count": null,
   "id": "f57d5023-675e-4853-9f8f-071219fd7eb1",
   "metadata": {},
   "outputs": [],
   "source": [
    "service"
   ]
  },
  {
   "cell_type": "code",
   "execution_count": null,
   "id": "47bd5e36-7030-4200-acef-48bc763a0caa",
   "metadata": {},
   "outputs": [],
   "source": []
  }
 ],
 "metadata": {
  "kernelspec": {
   "display_name": "Python 3 (ipykernel)",
   "language": "python",
   "name": "python3"
  },
  "language_info": {
   "codemirror_mode": {
    "name": "ipython",
    "version": 3
   },
   "file_extension": ".py",
   "mimetype": "text/x-python",
   "name": "python",
   "nbconvert_exporter": "python",
   "pygments_lexer": "ipython3",
   "version": "3.13.1"
  }
 },
 "nbformat": 4,
 "nbformat_minor": 5
}
