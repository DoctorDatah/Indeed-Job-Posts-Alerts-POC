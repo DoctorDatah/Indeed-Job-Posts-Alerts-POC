{
 "cells": [
  {
   "cell_type": "markdown",
   "id": "65328405-07f5-4095-84a8-7f6ed81af13d",
   "metadata": {
    "editable": true,
    "slideshow": {
     "slide_type": ""
    },
    "tags": []
   },
   "source": [
    "# Libraries"
   ]
  },
  {
   "cell_type": "code",
   "execution_count": 1,
   "id": "6774c5ed-7f52-41e3-8fca-6118f60f609a",
   "metadata": {},
   "outputs": [],
   "source": [
    "import auth.gmail_auth\n",
    "import utils.html_module \n",
    "import scraping.scrap_job_blocks\n",
    "import scraping.scrap_job_elements\n",
    "import processing.latest_emails\n",
    "import scraping.overall_scrap\n",
    "import pandas as pd"
   ]
  },
  {
   "cell_type": "code",
   "execution_count": 2,
   "id": "ac5ec916-71d0-4b39-b58c-931746bc88b7",
   "metadata": {},
   "outputs": [],
   "source": [
    "import logging\n",
    "\n",
    "logging.basicConfig(level=logging.INFO)"
   ]
  },
  {
   "cell_type": "code",
   "execution_count": 3,
   "id": "73440b20-a83c-40a4-a296-31a3c496c8e2",
   "metadata": {},
   "outputs": [],
   "source": [
    "import os\n",
    "import pickle\n",
    "from google.auth.transport.requests import Request\n",
    "from google.oauth2.credentials import Credentials\n",
    "from googleapiclient.discovery import build\n",
    "from google_auth_oauthlib.flow import InstalledAppFlow\n",
    "from bs4 import BeautifulSoup\n",
    "import requests\n",
    "import webbrowser\n",
    "from tempfile import NamedTemporaryFile\n",
    "import re"
   ]
  },
  {
   "cell_type": "code",
   "execution_count": null,
   "id": "7703de5b-5416-46ef-b124-21d0d7251894",
   "metadata": {},
   "outputs": [],
   "source": []
  },
  {
   "cell_type": "code",
   "execution_count": null,
   "id": "105bd78e-7c15-48af-a4d5-226cb51ac409",
   "metadata": {},
   "outputs": [],
   "source": []
  },
  {
   "cell_type": "markdown",
   "id": "55c0db79-6b34-4d95-9266-e1832a2d5460",
   "metadata": {},
   "source": [
    "# Google Authentication"
   ]
  },
  {
   "cell_type": "code",
   "execution_count": 4,
   "id": "4f48e846-b49b-4988-89c2-3eb318303cda",
   "metadata": {},
   "outputs": [
    {
     "name": "stderr",
     "output_type": "stream",
     "text": [
      "INFO:googleapiclient.discovery_cache:file_cache is only supported with oauth2client<4.0.0\n"
     ]
    },
    {
     "name": "stdout",
     "output_type": "stream",
     "text": [
      "Gmail API authenticated successfully!\n"
     ]
    }
   ],
   "source": [
    "try:\n",
    "    service = auth.gmail_auth.authenticate_gmail()\n",
    "    print(\"Gmail API authenticated successfully!\")\n",
    "except Exception as e:\n",
    "    print(\"Error during authentication:\", e)"
   ]
  },
  {
   "cell_type": "code",
   "execution_count": null,
   "id": "3fb26c17-8d84-4cff-a841-a6eb8cf3defd",
   "metadata": {},
   "outputs": [],
   "source": []
  },
  {
   "cell_type": "markdown",
   "id": "7d08089a-500f-469d-99e1-c3aac37ef144",
   "metadata": {},
   "source": [
    "# Sample email saved as html webpage \n",
    "So we can judge the struture and write the logic"
   ]
  },
  {
   "cell_type": "code",
   "execution_count": 5,
   "id": "99ab0759-d322-4f44-9438-c1f49b604b93",
   "metadata": {},
   "outputs": [
    {
     "name": "stdout",
     "output_type": "stream",
     "text": [
      "Email saved as src/usecase_most_recent/indeed_alert.html. Open this file in a browser to examine it.\n"
     ]
    }
   ],
   "source": [
    "# Fetch the email and save it as an HTML file\n",
    "utils.html_module.fetch_email_and_save_as_html(service)\n"
   ]
  },
  {
   "cell_type": "markdown",
   "id": "ef97f4d1-943f-4b47-b22d-727d1e7608c2",
   "metadata": {},
   "source": [
    "# Parsing Local and online emails"
   ]
  },
  {
   "cell_type": "markdown",
   "id": "718ec36e-fb56-494e-a1a0-d956e501dcf0",
   "metadata": {},
   "source": [
    "####  3 use cases files\n",
    "v1 offline files \n",
    "- intial email - offline, \n",
    "- subsiquest email - offiline\n",
    "  \n",
    "Most recent\n",
    "- current most recent - Fetch at the moment then made offline"
   ]
  },
  {
   "cell_type": "code",
   "execution_count": 6,
   "id": "6d14411f-b533-4445-937d-1d220905cd1c",
   "metadata": {},
   "outputs": [
    {
     "name": "stdout",
     "output_type": "stream",
     "text": [
      "Local HTML file parsed successfully.\n",
      "Local HTML file parsed successfully.\n",
      "Email HTML content fetched and parsed successfully.\n"
     ]
    }
   ],
   "source": [
    "initial_email_local = utils.html_module.parse_local_html(\"src/usecases_v1_offline/indeed_alert_initial.html\")\n",
    "initial_email_subsiquest = utils.html_module.parse_local_html(\"src/usecases_v1_offline/indeed_alert_subsiquest.html\")\n",
    "online_email = utils.html_module.fetch_email_html_content_most_recent_only(service)"
   ]
  },
  {
   "cell_type": "code",
   "execution_count": 7,
   "id": "95d8f638-a33d-4707-a526-da127f71174e",
   "metadata": {},
   "outputs": [],
   "source": [
    "# online_email"
   ]
  },
  {
   "cell_type": "code",
   "execution_count": 8,
   "id": "86394f0f-09c7-4efa-acc1-bfaa0ae96a28",
   "metadata": {},
   "outputs": [
    {
     "name": "stdout",
     "output_type": "stream",
     "text": [
      "Local HTML file parsed successfully.\n"
     ]
    }
   ],
   "source": [
    "no_job_edge_case = utils.html_module.parse_local_html(\"src/usecases_v1_offline/indeed_alert_edge_case_no_job_in_alert.html\")\n"
   ]
  },
  {
   "cell_type": "code",
   "execution_count": 9,
   "id": "61303183-834c-48fc-8344-35cb0a244145",
   "metadata": {},
   "outputs": [
    {
     "data": {
      "text/plain": [
       "bs4.BeautifulSoup"
      ]
     },
     "execution_count": 9,
     "metadata": {},
     "output_type": "execute_result"
    }
   ],
   "source": [
    "# All types are sounp object \n",
    "type(initial_email_local)\n",
    "type(initial_email_subsiquest)\n",
    "type(online_email)"
   ]
  },
  {
   "cell_type": "code",
   "execution_count": 10,
   "id": "77d687ab-7b46-45a4-9e2c-4a4c80eb60d9",
   "metadata": {},
   "outputs": [],
   "source": [
    "# Look at the HTML of each from here \n",
    "# If Required:\n",
    "    # copy to https://html.onlineviewer.net/ to understand more\n",
    "    # Copy the content to file renamd it .html and see \n",
    "\n",
    "## Uncoment below so check\n",
    "# initial_email_local # Fine\n",
    "# initial_email_subsiquest # Fine \n",
    "# online_email # fine"
   ]
  },
  {
   "cell_type": "code",
   "execution_count": 11,
   "id": "03b10011-f6fb-43b4-b988-fefc02aa52c4",
   "metadata": {},
   "outputs": [],
   "source": [
    "# Find all specific type of the tag \n",
    "initial_email_subsiquest.find_all('table') # change the object to explore other use cases \n",
    "\n",
    "# put those type of tags in list \n",
    "list_of_tags = list(initial_email_subsiquest)  # Explicitly converting to a list\n",
    "# tbodies_list # for all objects\n",
    "# list_of_tags\n",
    "\n",
    "# For a single tag \n",
    "# list_of_tags[1] # change index to explore"
   ]
  },
  {
   "cell_type": "code",
   "execution_count": null,
   "id": "d135c775-4a11-4310-b7fe-8f8bfd2236d5",
   "metadata": {},
   "outputs": [],
   "source": []
  },
  {
   "cell_type": "markdown",
   "id": "f22e4c5b-5d95-4c9c-a05b-5d00e0ad4819",
   "metadata": {},
   "source": [
    "# Scrapping mindset\n",
    "Extract job postings by leveraging relative positions and contextual cues from the provided static HTML files. just the dynamic words based on static words.\n",
    "\n",
    "#### Key Point:\n",
    "Rely on positional relationships and contextual keywords, not static tags or class names.\n"
   ]
  },
  {
   "cell_type": "markdown",
   "id": "2c41283a-0b94-4863-bc78-64a36f2a600d",
   "metadata": {},
   "source": [
    "# 1. List of Job Blocks Fetch "
   ]
  },
  {
   "cell_type": "markdown",
   "id": "64855c37-543b-47d7-ad6f-df9bdb5c039f",
   "metadata": {},
   "source": [
    "Identify elements containing text like \"X days ago\" or \"Just posted\" as anchors. \n",
    "\n"
   ]
  },
  {
   "cell_type": "code",
   "execution_count": 12,
   "id": "3fbcb8cf-2ef9-45c3-9d4f-d4c3aa4c68fd",
   "metadata": {},
   "outputs": [
    {
     "data": {
      "text/plain": [
       "list"
      ]
     },
     "execution_count": 12,
     "metadata": {},
     "output_type": "execute_result"
    }
   ],
   "source": [
    "# This extracts the individual job posts blocks\n",
    "\n",
    "job_blocks_initial_email_local = scraping.scrap_job_blocks.extract_individual_job_blocks(initial_email_local)\n",
    "job_blocks_subsiquest_email_local =  scraping.scrap_job_blocks.extract_individual_job_blocks(initial_email_subsiquest)\n",
    "job_blocks_online_email = scraping.scrap_job_blocks.extract_individual_job_blocks(online_email)\n",
    "\n",
    "type(job_blocks_initial_email_local) # list"
   ]
  },
  {
   "cell_type": "markdown",
   "id": "9d068b89-f2f5-4489-ab0d-046879e9c2e9",
   "metadata": {},
   "source": [
    "#### Opening in browser to see how do they look\n",
    "\n",
    "try looking for mupliple indexes"
   ]
  },
  {
   "cell_type": "code",
   "execution_count": 13,
   "id": "074dfbeb-7c7f-41e2-824e-fa0d44163631",
   "metadata": {},
   "outputs": [],
   "source": [
    "# utils.html_module.open_html_in_browser(utils.html_module.render_html(job_blocks_initial_email_local[2]))\n",
    "# utils.html_module.open_html_in_browser(utils.html_module.render_html(job_blocks_subsiquest_email_local[3]))\n",
    "# utils.html_module.open_html_in_browser(utils.html_module.render_html(job_blocks_online_email[1]))"
   ]
  },
  {
   "cell_type": "markdown",
   "id": "f7bde5c3-2061-4ebb-9f3f-909228828002",
   "metadata": {},
   "source": [
    "# 2. Scrapping individual Job Post data"
   ]
  },
  {
   "cell_type": "markdown",
   "id": "7cc1fd2a-8d63-4b33-87fa-2eeafa2f501c",
   "metadata": {},
   "source": [
    "Fetch\n",
    "- Title\n",
    "- Company\n",
    "- Posted Days \n"
   ]
  },
  {
   "cell_type": "code",
   "execution_count": 14,
   "id": "173cc8ed-5e22-41c5-948f-6694b37d72fd",
   "metadata": {},
   "outputs": [
    {
     "data": {
      "text/plain": [
       "bs4.element.Tag"
      ]
     },
     "execution_count": 14,
     "metadata": {},
     "output_type": "execute_result"
    }
   ],
   "source": [
    "type(job_blocks_online_email[2])"
   ]
  },
  {
   "cell_type": "code",
   "execution_count": 15,
   "id": "d1e6740c-831f-4446-90c9-945a30a8c634",
   "metadata": {},
   "outputs": [],
   "source": [
    "soup = job_blocks_online_email[1]"
   ]
  },
  {
   "cell_type": "code",
   "execution_count": 16,
   "id": "35f48f6b-f365-47db-aa22-c174c80068ff",
   "metadata": {},
   "outputs": [
    {
     "data": {
      "text/html": [
       "<div>\n",
       "<style scoped>\n",
       "    .dataframe tbody tr th:only-of-type {\n",
       "        vertical-align: middle;\n",
       "    }\n",
       "\n",
       "    .dataframe tbody tr th {\n",
       "        vertical-align: top;\n",
       "    }\n",
       "\n",
       "    .dataframe thead th {\n",
       "        text-align: right;\n",
       "    }\n",
       "</style>\n",
       "<table border=\"1\" class=\"dataframe\">\n",
       "  <thead>\n",
       "    <tr style=\"text-align: right;\">\n",
       "      <th></th>\n",
       "      <th>Number</th>\n",
       "      <th>TR HTML</th>\n",
       "      <th>Link</th>\n",
       "      <th>Data 1</th>\n",
       "      <th>Data 2</th>\n",
       "      <th>Data 3</th>\n",
       "      <th>Data 4</th>\n",
       "    </tr>\n",
       "  </thead>\n",
       "  <tbody>\n",
       "    <tr>\n",
       "      <th>0</th>\n",
       "      <td>1</td>\n",
       "      <td>&lt;tr&gt;&lt;td align=\"left\" valign=\"top\"&gt;&lt;h2 style=\"c...</td>\n",
       "      <td>https://ca.indeed.com/rc/clk/dl?jk=933e47c1319...</td>\n",
       "      <td>Consultant, Risk Analytics (10 M Secondment)</td>\n",
       "      <td>NaN</td>\n",
       "      <td>NaN</td>\n",
       "      <td>NaN</td>\n",
       "    </tr>\n",
       "    <tr>\n",
       "      <th>1</th>\n",
       "      <td>2</td>\n",
       "      <td>&lt;tr&gt;&lt;td align=\"left\" valign=\"top\"&gt;&lt;table borde...</td>\n",
       "      <td>None</td>\n",
       "      <td>CIBC3.7</td>\n",
       "      <td>CIBC</td>\n",
       "      <td>3.7</td>\n",
       "      <td></td>\n",
       "    </tr>\n",
       "    <tr>\n",
       "      <th>2</th>\n",
       "      <td>3</td>\n",
       "      <td>&lt;tr&gt;&lt;td style=\"padding:0 12px 0 0;color:#2d2d2...</td>\n",
       "      <td>None</td>\n",
       "      <td>CIBC</td>\n",
       "      <td>3.7</td>\n",
       "      <td></td>\n",
       "      <td>NaN</td>\n",
       "    </tr>\n",
       "    <tr>\n",
       "      <th>3</th>\n",
       "      <td>4</td>\n",
       "      <td>&lt;tr&gt;&lt;td align=\"left\" style=\"color:#2d2d2d;font...</td>\n",
       "      <td>None</td>\n",
       "      <td>Toronto, ON</td>\n",
       "      <td>NaN</td>\n",
       "      <td>NaN</td>\n",
       "      <td>NaN</td>\n",
       "    </tr>\n",
       "    <tr>\n",
       "      <th>4</th>\n",
       "      <td>5</td>\n",
       "      <td>&lt;tr&gt;&lt;td align=\"left\" style=\"padding:0;color:#7...</td>\n",
       "      <td>None</td>\n",
       "      <td>Use data-driven processes to effectively manag...</td>\n",
       "      <td>NaN</td>\n",
       "      <td>NaN</td>\n",
       "      <td>NaN</td>\n",
       "    </tr>\n",
       "    <tr>\n",
       "      <th>5</th>\n",
       "      <td>6</td>\n",
       "      <td>&lt;tr&gt;&lt;td align=\"left\" style=\"padding:8px 0 0;co...</td>\n",
       "      <td>None</td>\n",
       "      <td>2 days ago</td>\n",
       "      <td>NaN</td>\n",
       "      <td>NaN</td>\n",
       "      <td>NaN</td>\n",
       "    </tr>\n",
       "  </tbody>\n",
       "</table>\n",
       "</div>"
      ],
      "text/plain": [
       "   Number                                            TR HTML  \\\n",
       "0       1  <tr><td align=\"left\" valign=\"top\"><h2 style=\"c...   \n",
       "1       2  <tr><td align=\"left\" valign=\"top\"><table borde...   \n",
       "2       3  <tr><td style=\"padding:0 12px 0 0;color:#2d2d2...   \n",
       "3       4  <tr><td align=\"left\" style=\"color:#2d2d2d;font...   \n",
       "4       5  <tr><td align=\"left\" style=\"padding:0;color:#7...   \n",
       "5       6  <tr><td align=\"left\" style=\"padding:8px 0 0;co...   \n",
       "\n",
       "                                                Link  \\\n",
       "0  https://ca.indeed.com/rc/clk/dl?jk=933e47c1319...   \n",
       "1                                               None   \n",
       "2                                               None   \n",
       "3                                               None   \n",
       "4                                               None   \n",
       "5                                               None   \n",
       "\n",
       "                                              Data 1 Data 2 Data 3 Data 4  \n",
       "0       Consultant, Risk Analytics (10 M Secondment)    NaN    NaN    NaN  \n",
       "1                                            CIBC3.7   CIBC    3.7         \n",
       "2                                               CIBC    3.7           NaN  \n",
       "3                                        Toronto, ON    NaN    NaN    NaN  \n",
       "4  Use data-driven processes to effectively manag...    NaN    NaN    NaN  \n",
       "5                                         2 days ago    NaN    NaN    NaN  "
      ]
     },
     "execution_count": 16,
     "metadata": {},
     "output_type": "execute_result"
    }
   ],
   "source": [
    "rows = soup.find_all('tr')\n",
    "\n",
    "# Prepare data for the DataFrame\n",
    "# Prepare data for the DataFrame with an additional \"Link\" column\n",
    "data = []\n",
    "for idx, row in enumerate(rows, start=1):  # Start numbering at 1\n",
    "    columns = [td.text.strip() for td in row.find_all('td')]\n",
    "    link = row.find('a', href=True)  # Find the first <a> tag with href attribute\n",
    "    row_data = {\n",
    "        \"Number\": idx,\n",
    "        \"TR HTML\": str(row),\n",
    "        \"Link\": link['href'] if link else None,  # Add the link if present\n",
    "    }\n",
    "    # Dynamically add data columns\n",
    "    for i, col in enumerate(columns, start=1):\n",
    "        row_data[f\"Data {i}\"] = col\n",
    "    data.append(row_data)\n",
    "\n",
    "# Create the DataFrame\n",
    "df = pd.DataFrame(data)\n",
    "\n",
    "# Display the DataFrame\n",
    "\n",
    "df"
   ]
  },
  {
   "cell_type": "code",
   "execution_count": 17,
   "id": "6a9a3cd1-7a2e-4382-9637-464dc6e1698c",
   "metadata": {},
   "outputs": [
    {
     "data": {
      "text/html": [
       "<div>\n",
       "<style scoped>\n",
       "    .dataframe tbody tr th:only-of-type {\n",
       "        vertical-align: middle;\n",
       "    }\n",
       "\n",
       "    .dataframe tbody tr th {\n",
       "        vertical-align: top;\n",
       "    }\n",
       "\n",
       "    .dataframe thead th {\n",
       "        text-align: right;\n",
       "    }\n",
       "</style>\n",
       "<table border=\"1\" class=\"dataframe\">\n",
       "  <thead>\n",
       "    <tr style=\"text-align: right;\">\n",
       "      <th></th>\n",
       "      <th>title</th>\n",
       "      <th>link</th>\n",
       "      <th>company</th>\n",
       "      <th>rating</th>\n",
       "      <th>location</th>\n",
       "      <th>type</th>\n",
       "      <th>description</th>\n",
       "      <th>days_posted</th>\n",
       "      <th>days</th>\n",
       "      <th>posting_date</th>\n",
       "      <th>fetched_date</th>\n",
       "    </tr>\n",
       "  </thead>\n",
       "  <tbody>\n",
       "    <tr>\n",
       "      <th>0</th>\n",
       "      <td>Consultant, Risk Analytics (10 M Secondment)</td>\n",
       "      <td>https://ca.indeed.com/rc/clk/dl?jk=933e47c1319...</td>\n",
       "      <td>CIBC</td>\n",
       "      <td>3.7</td>\n",
       "      <td>Toronto, ON</td>\n",
       "      <td>None</td>\n",
       "      <td>Use data-driven processes to effectively manag...</td>\n",
       "      <td>2 days ago</td>\n",
       "      <td>2</td>\n",
       "      <td>2024-12-21</td>\n",
       "      <td>2024-12-23</td>\n",
       "    </tr>\n",
       "  </tbody>\n",
       "</table>\n",
       "</div>"
      ],
      "text/plain": [
       "                                          title  \\\n",
       "0  Consultant, Risk Analytics (10 M Secondment)   \n",
       "\n",
       "                                                link company rating  \\\n",
       "0  https://ca.indeed.com/rc/clk/dl?jk=933e47c1319...    CIBC    3.7   \n",
       "\n",
       "      location  type                                        description  \\\n",
       "0  Toronto, ON  None  Use data-driven processes to effectively manag...   \n",
       "\n",
       "  days_posted  days posting_date fetched_date  \n",
       "0  2 days ago     2   2024-12-21   2024-12-23  "
      ]
     },
     "execution_count": 17,
     "metadata": {},
     "output_type": "execute_result"
    }
   ],
   "source": [
    "scraping.scrap_job_elements.get_individual_job(job_blocks_online_email[1])"
   ]
  },
  {
   "cell_type": "markdown",
   "id": "966dbe73-06bb-47da-926c-8be25ad54149",
   "metadata": {},
   "source": [
    "# Scrapping all jobs at once, as dataframe from single file"
   ]
  },
  {
   "cell_type": "code",
   "execution_count": 18,
   "id": "fa53eb06-8bfd-406c-813a-17e7b484e546",
   "metadata": {},
   "outputs": [
    {
     "data": {
      "text/html": [
       "<div>\n",
       "<style scoped>\n",
       "    .dataframe tbody tr th:only-of-type {\n",
       "        vertical-align: middle;\n",
       "    }\n",
       "\n",
       "    .dataframe tbody tr th {\n",
       "        vertical-align: top;\n",
       "    }\n",
       "\n",
       "    .dataframe thead th {\n",
       "        text-align: right;\n",
       "    }\n",
       "</style>\n",
       "<table border=\"1\" class=\"dataframe\">\n",
       "  <thead>\n",
       "    <tr style=\"text-align: right;\">\n",
       "      <th></th>\n",
       "      <th>title</th>\n",
       "      <th>link</th>\n",
       "      <th>company</th>\n",
       "      <th>rating</th>\n",
       "      <th>location</th>\n",
       "      <th>type</th>\n",
       "      <th>description</th>\n",
       "      <th>days_posted</th>\n",
       "      <th>days</th>\n",
       "      <th>posting_date</th>\n",
       "      <th>fetched_date</th>\n",
       "    </tr>\n",
       "  </thead>\n",
       "  <tbody>\n",
       "    <tr>\n",
       "      <th>0</th>\n",
       "      <td>Senior Risk Analyst, Regulatory Reporting &amp; An...</td>\n",
       "      <td>https://ca.indeed.com/rc/clk/dl?jk=fc622f9c1db...</td>\n",
       "      <td>CIBC</td>\n",
       "      <td>3.7</td>\n",
       "      <td>Toronto, ON</td>\n",
       "      <td>Hybrid remote</td>\n",
       "      <td>You also have some experience in the areas of ...</td>\n",
       "      <td>1 day ago</td>\n",
       "      <td>1</td>\n",
       "      <td>2024-12-22</td>\n",
       "      <td>2024-12-23</td>\n",
       "    </tr>\n",
       "    <tr>\n",
       "      <th>1</th>\n",
       "      <td>Consultant, Risk Analytics (10 M Secondment)</td>\n",
       "      <td>https://ca.indeed.com/rc/clk/dl?jk=933e47c1319...</td>\n",
       "      <td>CIBC</td>\n",
       "      <td>3.7</td>\n",
       "      <td>Toronto, ON</td>\n",
       "      <td>None</td>\n",
       "      <td>Use data-driven processes to effectively manag...</td>\n",
       "      <td>2 days ago</td>\n",
       "      <td>2</td>\n",
       "      <td>2024-12-21</td>\n",
       "      <td>2024-12-23</td>\n",
       "    </tr>\n",
       "    <tr>\n",
       "      <th>2</th>\n",
       "      <td>Senior Analyst, Business Controls</td>\n",
       "      <td>https://ca.indeed.com/rc/clk/dl?jk=853a47848de...</td>\n",
       "      <td>CIBC</td>\n",
       "      <td>3.7</td>\n",
       "      <td>Toronto, ON</td>\n",
       "      <td>Hybrid remote</td>\n",
       "      <td>Reporting to the Senior Manager, Central Regul...</td>\n",
       "      <td>4 days ago</td>\n",
       "      <td>4</td>\n",
       "      <td>2024-12-19</td>\n",
       "      <td>2024-12-23</td>\n",
       "    </tr>\n",
       "    <tr>\n",
       "      <th>3</th>\n",
       "      <td>Senior AI Data Scientist</td>\n",
       "      <td>https://ca.indeed.com/rc/clk/dl?jk=67b7df3d1b0...</td>\n",
       "      <td>CIBC</td>\n",
       "      <td>3.7</td>\n",
       "      <td>Toronto, ON</td>\n",
       "      <td>Hybrid remote</td>\n",
       "      <td>The Decision Science team is a central hub of ...</td>\n",
       "      <td>1 day ago</td>\n",
       "      <td>1</td>\n",
       "      <td>2024-12-22</td>\n",
       "      <td>2024-12-23</td>\n",
       "    </tr>\n",
       "    <tr>\n",
       "      <th>4</th>\n",
       "      <td>Analyst, Global Markets</td>\n",
       "      <td>https://ca.indeed.com/rc/clk/dl?jk=0be29db6266...</td>\n",
       "      <td>CIBC</td>\n",
       "      <td>3.7</td>\n",
       "      <td>Toronto, ON</td>\n",
       "      <td>None</td>\n",
       "      <td>You give meaning to data. You will support the...</td>\n",
       "      <td>2 days ago</td>\n",
       "      <td>2</td>\n",
       "      <td>2024-12-21</td>\n",
       "      <td>2024-12-23</td>\n",
       "    </tr>\n",
       "    <tr>\n",
       "      <th>5</th>\n",
       "      <td>Sr. Consultant, Data Security Operations</td>\n",
       "      <td>https://ca.indeed.com/rc/clk/dl?jk=2ccb9d02956...</td>\n",
       "      <td>CIBC</td>\n",
       "      <td>3.7</td>\n",
       "      <td>Toronto, ON</td>\n",
       "      <td>Hybrid remote</td>\n",
       "      <td>You have been a key contributor or have led da...</td>\n",
       "      <td>5 days ago</td>\n",
       "      <td>5</td>\n",
       "      <td>2024-12-18</td>\n",
       "      <td>2024-12-23</td>\n",
       "    </tr>\n",
       "    <tr>\n",
       "      <th>6</th>\n",
       "      <td>Analyst, Global Mining &amp; Forestry, Corporate B...</td>\n",
       "      <td>https://ca.indeed.com/rc/clk/dl?jk=dea2a483946...</td>\n",
       "      <td>CIBC</td>\n",
       "      <td>3.7</td>\n",
       "      <td>Toronto, ON</td>\n",
       "      <td>None</td>\n",
       "      <td>As an Analyst on the Global Mining &amp; Forestry ...</td>\n",
       "      <td>5 days ago</td>\n",
       "      <td>5</td>\n",
       "      <td>2024-12-18</td>\n",
       "      <td>2024-12-23</td>\n",
       "    </tr>\n",
       "    <tr>\n",
       "      <th>7</th>\n",
       "      <td>Sr. Financial Analyst, Treasury Product Control</td>\n",
       "      <td>https://ca.indeed.com/rc/clk/dl?jk=96a60b177c8...</td>\n",
       "      <td>CIBC</td>\n",
       "      <td>3.7</td>\n",
       "      <td>Toronto, ON</td>\n",
       "      <td>Hybrid remote</td>\n",
       "      <td>Stay current on tools and information availabl...</td>\n",
       "      <td>3 days ago</td>\n",
       "      <td>3</td>\n",
       "      <td>2024-12-20</td>\n",
       "      <td>2024-12-23</td>\n",
       "    </tr>\n",
       "  </tbody>\n",
       "</table>\n",
       "</div>"
      ],
      "text/plain": [
       "                                               title  \\\n",
       "0  Senior Risk Analyst, Regulatory Reporting & An...   \n",
       "1       Consultant, Risk Analytics (10 M Secondment)   \n",
       "2                  Senior Analyst, Business Controls   \n",
       "3                           Senior AI Data Scientist   \n",
       "4                            Analyst, Global Markets   \n",
       "5           Sr. Consultant, Data Security Operations   \n",
       "6  Analyst, Global Mining & Forestry, Corporate B...   \n",
       "7    Sr. Financial Analyst, Treasury Product Control   \n",
       "\n",
       "                                                link company rating  \\\n",
       "0  https://ca.indeed.com/rc/clk/dl?jk=fc622f9c1db...    CIBC    3.7   \n",
       "1  https://ca.indeed.com/rc/clk/dl?jk=933e47c1319...    CIBC    3.7   \n",
       "2  https://ca.indeed.com/rc/clk/dl?jk=853a47848de...    CIBC    3.7   \n",
       "3  https://ca.indeed.com/rc/clk/dl?jk=67b7df3d1b0...    CIBC    3.7   \n",
       "4  https://ca.indeed.com/rc/clk/dl?jk=0be29db6266...    CIBC    3.7   \n",
       "5  https://ca.indeed.com/rc/clk/dl?jk=2ccb9d02956...    CIBC    3.7   \n",
       "6  https://ca.indeed.com/rc/clk/dl?jk=dea2a483946...    CIBC    3.7   \n",
       "7  https://ca.indeed.com/rc/clk/dl?jk=96a60b177c8...    CIBC    3.7   \n",
       "\n",
       "      location           type  \\\n",
       "0  Toronto, ON  Hybrid remote   \n",
       "1  Toronto, ON           None   \n",
       "2  Toronto, ON  Hybrid remote   \n",
       "3  Toronto, ON  Hybrid remote   \n",
       "4  Toronto, ON           None   \n",
       "5  Toronto, ON  Hybrid remote   \n",
       "6  Toronto, ON           None   \n",
       "7  Toronto, ON  Hybrid remote   \n",
       "\n",
       "                                         description days_posted  days  \\\n",
       "0  You also have some experience in the areas of ...   1 day ago     1   \n",
       "1  Use data-driven processes to effectively manag...  2 days ago     2   \n",
       "2  Reporting to the Senior Manager, Central Regul...  4 days ago     4   \n",
       "3  The Decision Science team is a central hub of ...   1 day ago     1   \n",
       "4  You give meaning to data. You will support the...  2 days ago     2   \n",
       "5  You have been a key contributor or have led da...  5 days ago     5   \n",
       "6  As an Analyst on the Global Mining & Forestry ...  5 days ago     5   \n",
       "7  Stay current on tools and information availabl...  3 days ago     3   \n",
       "\n",
       "  posting_date fetched_date  \n",
       "0   2024-12-22   2024-12-23  \n",
       "1   2024-12-21   2024-12-23  \n",
       "2   2024-12-19   2024-12-23  \n",
       "3   2024-12-22   2024-12-23  \n",
       "4   2024-12-21   2024-12-23  \n",
       "5   2024-12-18   2024-12-23  \n",
       "6   2024-12-18   2024-12-23  \n",
       "7   2024-12-20   2024-12-23  "
      ]
     },
     "execution_count": 18,
     "metadata": {},
     "output_type": "execute_result"
    }
   ],
   "source": [
    "all_jobs_from_a_email = scraping.overall_scrap.scrap_all_individual_jobs(job_blocks_online_email)\n",
    "all_jobs_from_a_email"
   ]
  },
  {
   "cell_type": "markdown",
   "id": "f269fa72-b1b6-4ed3-bab3-cc675f08cb0f",
   "metadata": {},
   "source": [
    "# Create and updating monthly csv raw processed file for conolidated raw monthly data "
   ]
  },
  {
   "cell_type": "code",
   "execution_count": 19,
   "id": "17eb5227-be12-4cc8-8a30-a7e7d2a27fb0",
   "metadata": {},
   "outputs": [
    {
     "name": "stdout",
     "output_type": "stream",
     "text": [
      "Data appended to ./data/raw_processed\\2024_12.csv.\n"
     ]
    }
   ],
   "source": [
    "scraping.overall_scrap.results_create_or_append_to_csv(all_jobs_from_a_email, reset_file = False)"
   ]
  },
  {
   "cell_type": "markdown",
   "id": "1417e26c-37a1-4184-8fcb-652f5c806365",
   "metadata": {},
   "source": [
    "So Basically\n",
    "- frist get => scraping.scrap_job_blocks.extract_individual_job_blocks(soup)\n",
    "- 2nd get =>  scraping.scrap_job_elements.scrap_all_jobs(list of soups) => data frame of all jobs as dataframe\n",
    "- 3rd perfrom consolidation => scraping.scrap_job_elements.create_or_append_to_csv(all_jobs_from_a_email, reset_file = False)\n",
    "  which is basiclly a runnig raw file for a month \n"
   ]
  },
  {
   "cell_type": "code",
   "execution_count": 20,
   "id": "60749e41-2590-4571-8dfe-ed5f8b80dc41",
   "metadata": {},
   "outputs": [
    {
     "name": "stderr",
     "output_type": "stream",
     "text": [
      "INFO:root:Successfully processed email content for job data.\n"
     ]
    },
    {
     "name": "stdout",
     "output_type": "stream",
     "text": [
      "Data appended to ./data/raw_processed\\2024_12.csv.\n"
     ]
    }
   ],
   "source": [
    "# Functiion for all steps togther\n",
    "scraping.overall_scrap.scrap_process_email_content_to_csv(initial_email_local)"
   ]
  },
  {
   "cell_type": "markdown",
   "id": "b9ea82bd-5592-404f-be34-38032998e700",
   "metadata": {
    "jp-MarkdownHeadingCollapsed": true
   },
   "source": [
    "# Next, encoprate this in the live email fetch "
   ]
  },
  {
   "cell_type": "markdown",
   "id": "88477b17-febc-4bb2-92e1-35ef288fdb69",
   "metadata": {},
   "source": [
    "# --------------------------------------------------------------"
   ]
  },
  {
   "cell_type": "markdown",
   "id": "216e1003-4708-4a82-8ee4-59b5a6c1a5bb",
   "metadata": {},
   "source": [
    "# On email receive trigger the parser - Active Listner\n",
    "This listens to all the new eamil from a spcified sender"
   ]
  },
  {
   "cell_type": "code",
   "execution_count": 21,
   "id": "c561e051-4000-4a9c-b037-584090a02bf9",
   "metadata": {},
   "outputs": [],
   "source": [
    "# import time\n",
    "# from googleapiclient.discovery import build\n",
    "# from googleapiclient.errors import HttpError\n",
    "\n",
    "# # Define the sender and query for filtering\n",
    "# SEARCH_SENDER = \"malikhq27@gmail.com\"\n",
    "\n",
    "# def list_new_emails(service):\n",
    "#     \"\"\"List new emails from a specific sender and print their titles.\"\"\"\n",
    "#     try:\n",
    "#         # Search for emails matching the query (e.g., from:alert@indeed.com)\n",
    "#         query = f\"from:{SEARCH_SENDER} is:unread\"\n",
    "#         results = service.users().messages().list(userId='me', q=query).execute()\n",
    "#         messages = results.get('messages', [])\n",
    "\n",
    "#         if not messages:\n",
    "#             print(\"No new emails found.\")\n",
    "#             return\n",
    "\n",
    "#         print(f\"Found {len(messages)} new email(s) from {SEARCH_SENDER}.\")\n",
    "#         for message in messages:\n",
    "#             # Fetch email details\n",
    "#             msg = service.users().messages().get(userId='me', id=message['id']).execute()\n",
    "#             headers = msg['payload']['headers']\n",
    "\n",
    "#             # Extract subject from email headers\n",
    "#             subject = next((header['value'] for header in headers if header['name'] == 'Subject'), \"No Subject\")\n",
    "#             print(f\"New Email Title: {subject}\")\n",
    "\n",
    "#             # Mark the email as read (optional)\n",
    "#             service.users().messages().modify(\n",
    "#                 userId='me',\n",
    "#                 id=message['id'],\n",
    "#                 body={\"removeLabelIds\": [\"UNREAD\"]}\n",
    "#             ).execute()\n",
    "\n",
    "#     except HttpError as error:\n",
    "#         print(f\"An error occurred: {error}\")\n",
    "\n",
    "\n",
    "# if __name__ == '__main__':\n",
    "#     try:\n",
    "#         # Authenticate using Gmail API\n",
    "#         service = authenticate_gmail()\n",
    "#         print(\"Gmail API authenticated successfully!\")\n",
    "\n",
    "#         # Continuously check for new emails\n",
    "#         while True:\n",
    "#             list_new_emails(service)\n",
    "#             print(\"Waiting for new emails...\")\n",
    "#             time.sleep(10)  # Poll every 10 seconds\n",
    "\n",
    "#     except Exception as e:\n",
    "#         print(\"Error:\", e)\n"
   ]
  },
  {
   "cell_type": "code",
   "execution_count": null,
   "id": "962bfb74-fa7a-4cde-b2d8-5ebcdd88c63e",
   "metadata": {},
   "outputs": [],
   "source": []
  },
  {
   "cell_type": "code",
   "execution_count": null,
   "id": "eeee71f1-d623-4396-99ea-97a5b6f109ac",
   "metadata": {},
   "outputs": [],
   "source": []
  },
  {
   "cell_type": "code",
   "execution_count": null,
   "id": "353593f1-9cbd-4f67-89b0-a8af6c21f948",
   "metadata": {},
   "outputs": [],
   "source": []
  },
  {
   "cell_type": "code",
   "execution_count": null,
   "id": "b022acbe-904a-4b4c-b91f-3bc3c115cea2",
   "metadata": {},
   "outputs": [],
   "source": []
  }
 ],
 "metadata": {
  "kernelspec": {
   "display_name": "Python 3 (ipykernel)",
   "language": "python",
   "name": "python3"
  },
  "language_info": {
   "codemirror_mode": {
    "name": "ipython",
    "version": 3
   },
   "file_extension": ".py",
   "mimetype": "text/x-python",
   "name": "python",
   "nbconvert_exporter": "python",
   "pygments_lexer": "ipython3",
   "version": "3.13.1"
  }
 },
 "nbformat": 4,
 "nbformat_minor": 5
}
