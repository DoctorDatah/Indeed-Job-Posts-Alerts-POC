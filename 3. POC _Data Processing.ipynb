{
 "cells": [
  {
   "cell_type": "code",
   "execution_count": 1,
   "id": "48b7ee5b-0226-4783-a3e3-f7881666f181",
   "metadata": {},
   "outputs": [],
   "source": [
    "import utils.gmail_auth\n",
    "import utils.html_module \n",
    "from utils.html_module import *\n",
    "import scraping.scrap_job_blocks\n",
    "from scraping.scrap_job_blocks import *\n",
    "import scraping.scrap_job_elements\n",
    "from scraping.scrap_job_elements import *\n",
    "# from processing.data_prep import calculate_posted_date\n"
   ]
  },
  {
   "cell_type": "code",
   "execution_count": 2,
   "id": "dfe9adff-9e2d-4179-877d-be6a6de249e2",
   "metadata": {},
   "outputs": [],
   "source": [
    "import os\n",
    "import pickle\n",
    "from google.auth.transport.requests import Request\n",
    "from google.oauth2.credentials import Credentials\n",
    "from googleapiclient.discovery import build\n",
    "from google_auth_oauthlib.flow import InstalledAppFlow\n",
    "from bs4 import BeautifulSoup\n",
    "import requests\n",
    "import webbrowser\n",
    "from tempfile import NamedTemporaryFile\n",
    "import re\n"
   ]
  },
  {
   "cell_type": "code",
   "execution_count": 3,
   "id": "1cfc5b09-81af-4400-bb74-e1a02837eb8c",
   "metadata": {},
   "outputs": [],
   "source": [
    "import os\n",
    "import pandas as pd\n",
    "from datetime import datetime, timedelta\n",
    "from typing import List, Dict"
   ]
  },
  {
   "cell_type": "code",
   "execution_count": 4,
   "id": "dab07784-d4ad-4918-8126-14a3b2259018",
   "metadata": {},
   "outputs": [
    {
     "name": "stdout",
     "output_type": "stream",
     "text": [
      "Gmail API authenticated successfully!\n"
     ]
    }
   ],
   "source": [
    "try:\n",
    "    service = utils.gmail_auth.authenticate_gmail()\n",
    "    print(\"Gmail API authenticated successfully!\")\n",
    "except Exception as e:\n",
    "    print(\"Error during authentication:\", e)"
   ]
  },
  {
   "cell_type": "markdown",
   "id": "f6d81b12-06df-4a1b-a4ac-7ddc07164f99",
   "metadata": {},
   "source": [
    "# Scrap the whole file \n",
    " idea is to scrpe email write after it fetched and saved"
   ]
  },
  {
   "cell_type": "markdown",
   "id": "b834111a-d1f0-45a3-8c76-b77a03f574e2",
   "metadata": {},
   "source": [
    "get each file and apply the scarpping "
   ]
  },
  {
   "cell_type": "code",
   "execution_count": 5,
   "id": "4fa8af32-4b4b-40a1-9e6b-f0b2fac19c89",
   "metadata": {},
   "outputs": [
    {
     "name": "stdout",
     "output_type": "stream",
     "text": [
      "Local HTML file parsed successfully.\n"
     ]
    }
   ],
   "source": [
    "# referecne file for building logic\n",
    "html_file = utils.html_module.parse_local_html(\"src/usecases_v1_offline/indeed_alert_initial.html\")"
   ]
  },
  {
   "cell_type": "code",
   "execution_count": 6,
   "id": "9f82fdcd-c12d-4289-ad32-56fde3cc8307",
   "metadata": {},
   "outputs": [
    {
     "data": {
      "text/plain": [
       "7"
      ]
     },
     "execution_count": 6,
     "metadata": {},
     "output_type": "execute_result"
    }
   ],
   "source": [
    " list_of_job_posts_soups = scraping.scrap_job_blocks.extract_individual_job_blocks(html_file)\n",
    "len(list_of_job_posts_soups)"
   ]
  },
  {
   "cell_type": "code",
   "execution_count": null,
   "id": "72c095bc-ef4a-4cff-a576-512b690c98f1",
   "metadata": {},
   "outputs": [],
   "source": []
  },
  {
   "cell_type": "code",
   "execution_count": 7,
   "id": "b6bd7749-f851-4834-a1e2-b992f9d7ea42",
   "metadata": {},
   "outputs": [
    {
     "data": {
      "text/html": [
       "<div>\n",
       "<style scoped>\n",
       "    .dataframe tbody tr th:only-of-type {\n",
       "        vertical-align: middle;\n",
       "    }\n",
       "\n",
       "    .dataframe tbody tr th {\n",
       "        vertical-align: top;\n",
       "    }\n",
       "\n",
       "    .dataframe thead th {\n",
       "        text-align: right;\n",
       "    }\n",
       "</style>\n",
       "<table border=\"1\" class=\"dataframe\">\n",
       "  <thead>\n",
       "    <tr style=\"text-align: right;\">\n",
       "      <th></th>\n",
       "      <th>title</th>\n",
       "      <th>link</th>\n",
       "      <th>location</th>\n",
       "      <th>days_posted</th>\n",
       "    </tr>\n",
       "  </thead>\n",
       "  <tbody>\n",
       "    <tr>\n",
       "      <th>0</th>\n",
       "      <td>Risk Governance, Lead</td>\n",
       "      <td>https://ca.indeed.com/rc/clk/dl?jk=7059d9bc0f4...</td>\n",
       "      <td>Interac Corp.</td>\n",
       "      <td>6 days ago</td>\n",
       "    </tr>\n",
       "  </tbody>\n",
       "</table>\n",
       "</div>"
      ],
      "text/plain": [
       "                   title                                               link  \\\n",
       "0  Risk Governance, Lead  https://ca.indeed.com/rc/clk/dl?jk=7059d9bc0f4...   \n",
       "\n",
       "        location days_posted  \n",
       "0  Interac Corp.  6 days ago  "
      ]
     },
     "execution_count": 7,
     "metadata": {},
     "output_type": "execute_result"
    }
   ],
   "source": [
    "scraping.scrap_job_elements.get_data(list_of_job_posts_soups[2])"
   ]
  },
  {
   "cell_type": "code",
   "execution_count": null,
   "id": "972b9690-6576-4e57-be6a-7c8547ce1c69",
   "metadata": {},
   "outputs": [],
   "source": []
  },
  {
   "cell_type": "code",
   "execution_count": 8,
   "id": "9a1409b8-7def-4e09-aba5-062b6c9416d4",
   "metadata": {},
   "outputs": [],
   "source": [
    "soup_to_dic = scraping.scrap_job_elements.scrap_all_jobs(list_of_job_posts_soups)"
   ]
  },
  {
   "cell_type": "code",
   "execution_count": 9,
   "id": "81464a04-117a-4a51-a42e-9f55ac25d050",
   "metadata": {},
   "outputs": [
    {
     "data": {
      "text/html": [
       "<div>\n",
       "<style scoped>\n",
       "    .dataframe tbody tr th:only-of-type {\n",
       "        vertical-align: middle;\n",
       "    }\n",
       "\n",
       "    .dataframe tbody tr th {\n",
       "        vertical-align: top;\n",
       "    }\n",
       "\n",
       "    .dataframe thead th {\n",
       "        text-align: right;\n",
       "    }\n",
       "</style>\n",
       "<table border=\"1\" class=\"dataframe\">\n",
       "  <thead>\n",
       "    <tr style=\"text-align: right;\">\n",
       "      <th></th>\n",
       "      <th>title</th>\n",
       "      <th>link</th>\n",
       "      <th>location</th>\n",
       "      <th>days_posted</th>\n",
       "    </tr>\n",
       "  </thead>\n",
       "  <tbody>\n",
       "    <tr>\n",
       "      <th>0</th>\n",
       "      <td>Data Governance, Senior Specialist</td>\n",
       "      <td>https://ca.indeed.com/rc/clk/dl?jk=4a3fbdf0057...</td>\n",
       "      <td>Interac Corp.</td>\n",
       "      <td>2 days ago</td>\n",
       "    </tr>\n",
       "    <tr>\n",
       "      <th>1</th>\n",
       "      <td>Sr. Business Intelligence (BI) Specialist</td>\n",
       "      <td>https://ca.indeed.com/rc/clk/dl?jk=6f7bb4bcddc...</td>\n",
       "      <td>Interac Corp.</td>\n",
       "      <td>5 days ago</td>\n",
       "    </tr>\n",
       "    <tr>\n",
       "      <th>2</th>\n",
       "      <td>Risk Governance, Lead</td>\n",
       "      <td>https://ca.indeed.com/rc/clk/dl?jk=7059d9bc0f4...</td>\n",
       "      <td>Interac Corp.</td>\n",
       "      <td>6 days ago</td>\n",
       "    </tr>\n",
       "    <tr>\n",
       "      <th>3</th>\n",
       "      <td>Leader, Risk Governance and Operational Risk M...</td>\n",
       "      <td>https://ca.indeed.com/rc/clk/dl?jk=dd217a80afa...</td>\n",
       "      <td>Interac Corp.</td>\n",
       "      <td>6 days ago</td>\n",
       "    </tr>\n",
       "    <tr>\n",
       "      <th>4</th>\n",
       "      <td>Cloud Engineering, Lead</td>\n",
       "      <td>https://ca.indeed.com/rc/clk/dl?jk=482983ba5a8...</td>\n",
       "      <td>Interac Corp.</td>\n",
       "      <td>5 days ago</td>\n",
       "    </tr>\n",
       "    <tr>\n",
       "      <th>5</th>\n",
       "      <td>Financial Planning &amp; Analysis, Senior Business...</td>\n",
       "      <td>https://ca.indeed.com/rc/clk/dl?jk=8798066f8be...</td>\n",
       "      <td>Interac Corp.</td>\n",
       "      <td>4 days ago</td>\n",
       "    </tr>\n",
       "    <tr>\n",
       "      <th>6</th>\n",
       "      <td>Financial Planning &amp; Analysis, Senior Business...</td>\n",
       "      <td>https://ca.indeed.com/rc/clk/dl?jk=38f19dda211...</td>\n",
       "      <td>Interac Corp.</td>\n",
       "      <td>2 days ago</td>\n",
       "    </tr>\n",
       "  </tbody>\n",
       "</table>\n",
       "</div>"
      ],
      "text/plain": [
       "                                               title  \\\n",
       "0                 Data Governance, Senior Specialist   \n",
       "1          Sr. Business Intelligence (BI) Specialist   \n",
       "2                              Risk Governance, Lead   \n",
       "3  Leader, Risk Governance and Operational Risk M...   \n",
       "4                            Cloud Engineering, Lead   \n",
       "5  Financial Planning & Analysis, Senior Business...   \n",
       "6  Financial Planning & Analysis, Senior Business...   \n",
       "\n",
       "                                                link       location  \\\n",
       "0  https://ca.indeed.com/rc/clk/dl?jk=4a3fbdf0057...  Interac Corp.   \n",
       "1  https://ca.indeed.com/rc/clk/dl?jk=6f7bb4bcddc...  Interac Corp.   \n",
       "2  https://ca.indeed.com/rc/clk/dl?jk=7059d9bc0f4...  Interac Corp.   \n",
       "3  https://ca.indeed.com/rc/clk/dl?jk=dd217a80afa...  Interac Corp.   \n",
       "4  https://ca.indeed.com/rc/clk/dl?jk=482983ba5a8...  Interac Corp.   \n",
       "5  https://ca.indeed.com/rc/clk/dl?jk=8798066f8be...  Interac Corp.   \n",
       "6  https://ca.indeed.com/rc/clk/dl?jk=38f19dda211...  Interac Corp.   \n",
       "\n",
       "  days_posted  \n",
       "0  2 days ago  \n",
       "1  5 days ago  \n",
       "2  6 days ago  \n",
       "3  6 days ago  \n",
       "4  5 days ago  \n",
       "5  4 days ago  \n",
       "6  2 days ago  "
      ]
     },
     "execution_count": 9,
     "metadata": {},
     "output_type": "execute_result"
    }
   ],
   "source": [
    "soup_to_dic"
   ]
  },
  {
   "cell_type": "code",
   "execution_count": null,
   "id": "c13f22e8-4158-40d1-8462-ae20962f5ef4",
   "metadata": {},
   "outputs": [],
   "source": []
  }
 ],
 "metadata": {
  "kernelspec": {
   "display_name": "Python 3 (ipykernel)",
   "language": "python",
   "name": "python3"
  },
  "language_info": {
   "codemirror_mode": {
    "name": "ipython",
    "version": 3
   },
   "file_extension": ".py",
   "mimetype": "text/x-python",
   "name": "python",
   "nbconvert_exporter": "python",
   "pygments_lexer": "ipython3",
   "version": "3.13.1"
  }
 },
 "nbformat": 4,
 "nbformat_minor": 5
}
