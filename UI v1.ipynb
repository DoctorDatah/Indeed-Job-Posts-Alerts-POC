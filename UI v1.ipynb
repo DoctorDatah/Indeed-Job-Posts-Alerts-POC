{
 "cells": [
  {
   "cell_type": "code",
   "execution_count": 1,
   "id": "4ecf0e47-3444-4066-9b46-b1a17049e0c4",
   "metadata": {},
   "outputs": [
    {
     "name": "stderr",
     "output_type": "stream",
     "text": [
      "INFO:root:Logging configured successfully.\n"
     ]
    },
    {
     "name": "stdout",
     "output_type": "stream",
     "text": [
      "\u001b[H\u001b[JINFO - Logging configured successfully.\n"
     ]
    }
   ],
   "source": [
    "import os \n",
    "import auth.gmail_auth\n",
    "import utils.html_module \n",
    "import scraping.scrap_job_blocks\n",
    "import scraping.scrap_job_elements\n",
    "import processing.latest_emails\n",
    "import scraping.overall_scrap\n",
    "import listener.gmail_listener\n",
    "import processing.logs\n",
    "import tkinter as tk\n",
    "from tkinter import ttk, messagebox, Toplevel\n",
    "from datetime import datetime\n",
    "from tkinter.scrolledtext import ScrolledText  # Import ScrolledText for better log display\n",
    "import threading\n",
    "import time\n",
    "from bs4 import BeautifulSoup\n",
    "from tkinter import ttk, messagebox, Toplevel\n",
    "from datetime import datetime\n",
    "import threading\n",
    "import os\n",
    "import subprocess\n",
    "\n",
    "\n",
    "SEARCH_SENDERS = [\"malikhqtech@gmail.com\", \"alert@indeed.com\", \"noreply@example.com\"] \n",
    "LABEL_NAME_SUCCESS = \"fetched_by_app\"\n",
    "LABEL_NAME_FAILURE = \"fetch_failed_for_job_app\"\n",
    "ERROR_NOTIFICATION_EMAIL = \"malikhqtech@gmail.com\"\n",
    "is_fetching = False\n",
    "fetch_thread = None"
   ]
  },
  {
   "cell_type": "code",
   "execution_count": 2,
   "id": "2d9dbd70-1438-4dc0-8e2d-a8ca58ed532c",
   "metadata": {},
   "outputs": [],
   "source": [
    "import os \n",
    "import auth.gmail_auth\n",
    "import utils.html_module \n",
    "import scraping.scrap_job_blocks\n",
    "import scraping.scrap_job_elements\n",
    "import processing.latest_emails\n",
    "import scraping.overall_scrap\n",
    "import listener.gmail_listener\n",
    "import processing.logs\n",
    "import tkinter as tk\n",
    "from tkinter import ttk, messagebox, Toplevel\n",
    "from datetime import datetime\n",
    "from tkinter.scrolledtext import ScrolledText  # Import ScrolledText for better log display\n",
    "import threading\n",
    "import time\n",
    "from bs4 import BeautifulSoup\n",
    "from tkinter import ttk, messagebox, Toplevel\n",
    "from datetime import datetime\n",
    "import threading\n",
    "import os\n",
    "import subprocess\n",
    "\n",
    "\n",
    "SEARCH_SENDERS = [\"malikhqtech@gmail.com\", \"alert@indeed.com\", \"noreply@example.com\"] \n",
    "LABEL_NAME_SUCCESS = \"fetched_by_app\"\n",
    "LABEL_NAME_FAILURE = \"fetch_failed_for_job_app\"\n",
    "ERROR_NOTIFICATION_EMAIL = \"malikhqtech@gmail.com\"\n",
    "is_fetching = False\n",
    "fetch_thread = None"
   ]
  },
  {
   "cell_type": "code",
   "execution_count": 3,
   "id": "7fd65c00-0e27-446f-845f-43fdf38e820a",
   "metadata": {},
   "outputs": [],
   "source": [
    "\n",
    "\n",
    "class EmailProcessingApp:\n",
    "    def __init__(self, root):\n",
    "        self.root = root\n",
    "        self.root.title(\"Email Processing App\")\n",
    "        self.is_fetching = False\n",
    "        self.service = None  # Gmail API service\n",
    "        self.email_address = None  # Email address of the signed-in user\n",
    "        self.root.configure(bg=\"#f7f9fc\")  # Subtle light background\n",
    "\n",
    "        # Configure window close event\n",
    "        self.root.protocol(\"WM_DELETE_WINDOW\", self.confirm_exit)\n",
    "\n",
    "        # Frame for Gmail Actions\n",
    "        gmail_frame = tk.LabelFrame(root, text=\"Gmail Actions\", padx=10, pady=10, bg=\"#ffffff\", font=(\"Arial\", 10, \"bold\"))\n",
    "        gmail_frame.grid(row=0, column=0, columnspan=2, padx=10, pady=10, sticky=\"ew\")\n",
    "\n",
    "        self.auth_button = tk.Button(gmail_frame, text=\"Sign In\", command=self.handle_sign_in_out, bg=\"#d4edda\", fg=\"#155724\", font=(\"Arial\", 10, \"bold\"), relief=\"raised\")\n",
    "        self.auth_button.grid(row=0, column=0, padx=5, pady=5)\n",
    "\n",
    "        self.status_label = tk.Label(gmail_frame, text=\"Not Signed In\", fg=\"#721c24\", bg=\"#ffffff\", font=(\"Arial\", 10))\n",
    "        self.status_label.grid(row=0, column=1, padx=10, pady=5, sticky=\"w\")\n",
    "\n",
    "        # Start/Stop Fetching Button\n",
    "        action_frame = tk.LabelFrame(root, text=\"Actions\", padx=10, pady=10, bg=\"#ffffff\", font=(\"Arial\", 10, \"bold\"))\n",
    "        action_frame.grid(row=1, column=0, columnspan=2, padx=10, pady=10, sticky=\"ew\")\n",
    "\n",
    "        self.fetch_button = tk.Button(action_frame, text=\"Start Fetching\", command=self.handle_fetching, state=\"disabled\", bg=\"#cce5ff\", fg=\"#004085\", font=(\"Arial\", 10, \"bold\"), relief=\"raised\")\n",
    "        self.fetch_button.grid(row=0, column=0, padx=5, pady=5)\n",
    "\n",
    "        self.fetch_status_label = tk.Label(action_frame, text=\"Not Fetching\", fg=\"#721c24\", bg=\"#ffffff\", font=(\"Arial\", 10))\n",
    "        self.fetch_status_label.grid(row=0, column=1, padx=10, pady=5, sticky=\"w\")\n",
    "\n",
    "        # Log Buttons Section\n",
    "        log_frame = tk.LabelFrame(root, text=\"Logs\", padx=10, pady=10, bg=\"#ffffff\", font=(\"Arial\", 10, \"bold\"))\n",
    "        log_frame.grid(row=2, column=0, columnspan=2, padx=10, pady=10, sticky=\"ew\")\n",
    "\n",
    "        self.ui_log_button = tk.Button(log_frame, text=\"UI Log\", command=lambda: threading.Thread(target=self.open_log_window, args=(\"UI Logs\",), daemon=True).start(), bg=\"#e2e3e5\", fg=\"#383d41\", font=(\"Arial\", 10, \"bold\"), relief=\"raised\")\n",
    "        self.ui_log_button.pack(side=\"left\", padx=5, pady=5)\n",
    "\n",
    "        self.daily_log_button = tk.Button(log_frame, text=\"Daily Log\", command=lambda: threading.Thread(target=self.open_log_directory, args=(\"./logs/daily\",), daemon=True).start(), bg=\"#e2e3e5\", fg=\"#383d41\", font=(\"Arial\", 10, \"bold\"), relief=\"raised\")\n",
    "        self.daily_log_button.pack(side=\"left\", padx=5, pady=5)\n",
    "\n",
    "        self.monthly_log_button = tk.Button(log_frame, text=\"Monthly Log\", command=lambda: threading.Thread(target=self.open_log_directory, args=(\"./logs/monthly\",), daemon=True).start(), bg=\"#e2e3e5\", fg=\"#383d41\", font=(\"Arial\", 10, \"bold\"), relief=\"raised\")\n",
    "        self.monthly_log_button.pack(side=\"left\", padx=5, pady=5)\n",
    "\n",
    "        self.logs = []\n",
    "\n",
    "    def log(self, message):\n",
    "        timestamp = datetime.now().strftime('%Y-%m-%d %H:%M')\n",
    "        self.logs.append((timestamp, message))\n",
    "        print(f\"[LOG] {timestamp}: {message}\")  # Debug output\n",
    "\n",
    "    def open_log_directory(self, path):\n",
    "        try:\n",
    "            if os.path.exists(path):\n",
    "                subprocess.Popen(f'explorer {os.path.realpath(path)}')\n",
    "            else:\n",
    "                messagebox.showerror(\"Error\", f\"Directory not found: {path}\")\n",
    "        except Exception as e:\n",
    "            messagebox.showerror(\"Error\", f\"Failed to open directory: {e}\")\n",
    "\n",
    "    def handle_sign_in_out(self):\n",
    "        self.auth_button.config(state=\"disabled\")\n",
    "        threading.Thread(target=self.toggle_sign_in_out, daemon=True).start()\n",
    "\n",
    "    def toggle_sign_in_out(self):\n",
    "        if self.service:\n",
    "            self.confirm_action(\"Sign Out\")\n",
    "        else:\n",
    "            self.gmail_sign_in()\n",
    "        self.auth_button.config(state=\"normal\")\n",
    "\n",
    "    def gmail_sign_in(self):\n",
    "        self.status_label.config(text=\"Signing In...\", fg=\"#ffc107\")\n",
    "        try:\n",
    "            self.service = auth.gmail_auth.authenticate_gmail()\n",
    "            self.email_address = auth.gmail_auth.get_account_email(self.service)\n",
    "            sign_in_time = datetime.now().strftime('%Y-%m-%d %H:%M')\n",
    "            self.status_label.config(text=f\"Signed in as: {self.email_address} at {sign_in_time}\", fg=\"#155724\")\n",
    "            self.auth_button.config(text=\"Sign Out\", bg=\"#f8d7da\", fg=\"#721c24\")\n",
    "            self.fetch_button.config(state=\"normal\")\n",
    "            self.log(f\"Signed in as {self.email_address} at {sign_in_time}.\")\n",
    "        except Exception as e:\n",
    "            self.status_label.config(text=\"Sign In Failed\", fg=\"#721c24\")\n",
    "            self.log(f\"Error during sign in: {e}\")\n",
    "            messagebox.showerror(\"Error\", f\"Sign In failed: {e}\")\n",
    "\n",
    "    def confirm_action(self, action):\n",
    "        confirmation_dialog = Toplevel(self.root)\n",
    "        confirmation_dialog.title(f\"Confirm {action}\")\n",
    "        tk.Label(confirmation_dialog, text=f\"To confirm {action}, enter the keyword 'Kush Raho'\").pack(pady=10)\n",
    "        keyword_entry = tk.Entry(confirmation_dialog)\n",
    "        keyword_entry.pack(pady=5)\n",
    "\n",
    "        def validate_action():\n",
    "            if keyword_entry.get() == \"Kush Raho\":\n",
    "                confirmation_dialog.destroy()\n",
    "                if action == \"Sign Out\":\n",
    "                    self.gmail_sign_out()\n",
    "                elif action == \"Stop Fetching\":\n",
    "                    self.stop_fetching()\n",
    "                elif action == \"Exit\":\n",
    "                    self.send_notification_email(ERROR_NOTIFICATION_EMAIL,f\"Application Closed by User at {datetime.now()}\")\n",
    "                    self.root.destroy()\n",
    "            else:\n",
    "                messagebox.showerror(\"Error\", \"Incorrect keyword. Action canceled.\")\n",
    "\n",
    "        tk.Button(confirmation_dialog, text=\"Confirm\", command=validate_action).pack(pady=10)\n",
    "\n",
    "    def confirm_exit(self):\n",
    "        self.confirm_action(\"Exit\")\n",
    "\n",
    "    def handle_fetching(self):\n",
    "        self.fetch_button.config(state=\"disabled\")\n",
    "        threading.Thread(target=self.toggle_fetching, daemon=True).start()\n",
    "\n",
    "    def toggle_fetching(self):\n",
    "        if self.is_fetching:\n",
    "            self.confirm_action(\"Stop Fetching\")\n",
    "        else:\n",
    "            self.start_fetching()\n",
    "        self.fetch_button.config(state=\"normal\")\n",
    "\n",
    "    def start_fetching(self):\n",
    "        self.fetch_status_label.config(text=\"Starting Fetching...\", fg=\"#ffc107\")\n",
    "        try:\n",
    "            self.is_fetching = True\n",
    "            self.fetch_button.config(text=\"Stop Fetching\", bg=\"#f8d7da\", fg=\"#721c24\")\n",
    "            self.fetch_status_label.config(text=\"Fetching Started\", fg=\"#155724\")\n",
    "            self.log(\"Fetching started...\")\n",
    "            listener.gmail_listener.start_email_fetch(self.service, SEARCH_SENDERS, ERROR_NOTIFICATION_EMAIL)\n",
    "        except Exception as e:\n",
    "            self.fetch_status_label.config(text=\"Error Fetching\", fg=\"#721c24\")\n",
    "            self.log(f\"Error during fetching: {e}\")\n",
    "            messagebox.showerror(\"Error\", f\"Fetching failed: {e}\")\n",
    "\n",
    "    def stop_fetching(self):\n",
    "        self.fetch_status_label.config(text=\"Stopping Fetching...\", fg=\"#ffc107\")\n",
    "        try:\n",
    "            listener.gmail_listener.stop_email_fetch()\n",
    "            self.is_fetching = False\n",
    "            self.fetch_button.config(text=\"Start Fetching\", bg=\"#cce5ff\", fg=\"#004085\")\n",
    "            self.fetch_status_label.config(text=\"Fetching Stopped\", fg=\"#721c24\")\n",
    "            self.log(\"Fetching process stopped.\")\n",
    "            self.send_notification_email(ERROR_NOTIFICATION_EMAIL,\"Fetching stopped by user.\")\n",
    "        except Exception as e:\n",
    "            self.fetch_status_label.config(text=\"Error Stopping\", fg=\"#721c24\")\n",
    "            self.log(f\"Error during stopping fetch: {e}\")\n",
    "            messagebox.showerror(\"Error\", f\"Stopping fetching failed: {e}\")\n",
    "\n",
    "\n",
    "    def open_log_window(self, title):\n",
    "        log_window = Toplevel(self.root)\n",
    "        log_window.title(title)\n",
    "\n",
    "        text_widget = ScrolledText(log_window, wrap=tk.WORD, font=(\"Arial\", 10))\n",
    "        text_widget.pack(fill=\"both\", expand=True)\n",
    "\n",
    "        for entry in self.logs:\n",
    "            text_widget.insert(tk.END, f\"{entry[0]} - {entry[1]}\\n\")\n",
    "    \n",
    "    def send_notification_email(self, recipient, description):\n",
    "        \"\"\"\n",
    "        Sends a simple notification email using the Gmail service object.\n",
    "    \n",
    "        Args:\n",
    "            service: The Gmail API service object for sending emails.\n",
    "            recipient (str): The email address to send the notification to.\n",
    "            description (str): A short description to include in the email content.\n",
    "    \n",
    "        Example:\n",
    "            self.send_notification_email(service, \"example@gmail.com\", \"Job Scraper was interrupted unexpectedly.\")\n",
    "        \"\"\"\n",
    "        service =  auth.gmail_auth.authenticate_gmail()\n",
    "        if not service:\n",
    "            self.log(\"Cannot send email: Gmail service object is not provided.\")\n",
    "            return\n",
    "    \n",
    "        if not recipient:\n",
    "            self.log(\"Cannot send email: Recipient email address is missing.\")\n",
    "            return\n",
    "    \n",
    "        try:\n",
    "            from email.mime.text import MIMEText\n",
    "            import base64\n",
    "    \n",
    "            # Construct the email\n",
    "            subject = \"Job Scraper Has Been Interrupted\"\n",
    "            content = f\"\"\"\n",
    "            Dear User,\n",
    "    \n",
    "            The job scraper has been interrupted. Below is the description of the issue:\n",
    "    \n",
    "            {description}\n",
    "    \n",
    "            Please take necessary action to resolve the issue.\n",
    "    \n",
    "            Regards,\n",
    "            Job Scraper Application\n",
    "            \"\"\"\n",
    "            message = MIMEText(content)  # Construct the email body with the description\n",
    "            message['to'] = recipient\n",
    "            message['from'] = \"<Your Service Authenticated Email>\"  # Replace with authenticated email address\n",
    "            message['subject'] = subject\n",
    "    \n",
    "            # Encode the message in base64\n",
    "            raw_message = base64.urlsafe_b64encode(message.as_bytes()).decode(\"utf-8\")\n",
    "            message_body = {'raw': raw_message}\n",
    "    \n",
    "            # Log the preparation step\n",
    "            self.log(f\"Preparing to send email to {recipient} with subject: {subject}\")\n",
    "    \n",
    "            # Send the email\n",
    "            service.users().messages().send(userId='me', body=message_body).execute()\n",
    "            self.log(f\"Notification email successfully sent to {recipient}.\")\n",
    "        except Exception as e:\n",
    "            error_message = f\"Failed to send email to {recipient}: {e}\"\n",
    "            self.log(error_message)\n",
    "            print(f\"Error sending email: {e}\")\n"
   ]
  },
  {
   "cell_type": "code",
   "execution_count": null,
   "id": "de1c8b7b-fcef-40ea-b2be-dac1d85bc661",
   "metadata": {},
   "outputs": [
    {
     "name": "stderr",
     "output_type": "stream",
     "text": [
      "INFO:root:Logging configured successfully.\n"
     ]
    },
    {
     "name": "stdout",
     "output_type": "stream",
     "text": [
      "\u001b[H\u001b[JINFO - Logging configured successfully.\n",
      "Please visit this URL to authorize this application: https://accounts.google.com/o/oauth2/auth?response_type=code&client_id=416298047261-pgh55f954cr71omfj22djkcudkjh8t36.apps.googleusercontent.com&redirect_uri=http%3A%2F%2Flocalhost%3A8080%2F&scope=https%3A%2F%2Fwww.googleapis.com%2Fauth%2Fgmail.modify&state=OlOOjsnzt4JQxM3YIFj2r29g8yfXzj&access_type=offline\n"
     ]
    },
    {
     "name": "stderr",
     "output_type": "stream",
     "text": [
      "INFO:google_auth_oauthlib.flow:\"GET /?state=OlOOjsnzt4JQxM3YIFj2r29g8yfXzj&code=4%2F0AanRRrumZQPqs91sldB6Zsexcc-CjUOKLk3boMmXtkCalhBT-ZtmSnJi4XYkz7jN_zkFlg&scope=https%3A%2F%2Fwww.googleapis.com%2Fauth%2Fgmail.modify HTTP/1.1\" 200 65\n"
     ]
    },
    {
     "name": "stdout",
     "output_type": "stream",
     "text": [
      "\u001b[H\u001b[JINFO - Logging configured successfully.\n",
      "INFO - \"GET /?state=OlOOjsnzt4JQxM3YIFj2r29g8yfXzj&code=4%2F0AanRRrumZQPqs91sldB6Zsexcc-CjUOKLk3boMmXtkCalhBT-ZtmSnJi4XYkz7jN_zkFlg&scope=https%3A%2F%2Fwww.googleapis.com%2Fauth%2Fgmail.modify HTTP/1.1\" 200 65\n",
      "\u001b[H\u001b[JINFO - Logging configured successfully.\n",
      "INFO - \"GET /?state=OlOOjsnzt4JQxM3YIFj2r29g8yfXzj&code=4%2F0AanRRrumZQPqs91sldB6Zsexcc-CjUOKLk3boMmXtkCalhBT-ZtmSnJi4XYkz7jN_zkFlg&scope=https%3A%2F%2Fwww.googleapis.com%2Fauth%2Fgmail.modify HTTP/1.1\" 200 65\n"
     ]
    },
    {
     "name": "stderr",
     "output_type": "stream",
     "text": [
      "INFO:googleapiclient.discovery_cache:file_cache is only supported with oauth2client<4.0.0\n"
     ]
    },
    {
     "name": "stdout",
     "output_type": "stream",
     "text": [
      "\u001b[H\u001b[JINFO - Logging configured successfully.\n",
      "INFO - \"GET /?state=OlOOjsnzt4JQxM3YIFj2r29g8yfXzj&code=4%2F0AanRRrumZQPqs91sldB6Zsexcc-CjUOKLk3boMmXtkCalhBT-ZtmSnJi4XYkz7jN_zkFlg&scope=https%3A%2F%2Fwww.googleapis.com%2Fauth%2Fgmail.modify HTTP/1.1\" 200 65\n",
      "INFO - file_cache is only supported with oauth2client<4.0.0\n",
      "\u001b[H\u001b[JINFO - Logging configured successfully.\n",
      "INFO - \"GET /?state=OlOOjsnzt4JQxM3YIFj2r29g8yfXzj&code=4%2F0AanRRrumZQPqs91sldB6Zsexcc-CjUOKLk3boMmXtkCalhBT-ZtmSnJi4XYkz7jN_zkFlg&scope=https%3A%2F%2Fwww.googleapis.com%2Fauth%2Fgmail.modify HTTP/1.1\" 200 65\n",
      "INFO - file_cache is only supported with oauth2client<4.0.0\n",
      "Authenticated Email Address: malickhasun@gmail.com\n",
      "[LOG] 2024-12-22 20:40: Signed in as malickhasun@gmail.com at 2024-12-22 20:40.\n"
     ]
    },
    {
     "name": "stderr",
     "output_type": "stream",
     "text": [
      "INFO:googleapiclient.discovery_cache:file_cache is only supported with oauth2client<4.0.0\n"
     ]
    },
    {
     "name": "stdout",
     "output_type": "stream",
     "text": [
      "[LOG] 2024-12-22 20:40: Fetching started...\n",
      "Email fetching started.\n"
     ]
    },
    {
     "name": "stderr",
     "output_type": "stream",
     "text": [
      "INFO:root:Email fetched successfully: Subject: Senior Risk Analyst, Regulatory Reporting & Analytics, Capital Market Risk Management at CIBC and 7 more data and cibc jobs in Toronto, ON for you!, Sender: Indeed <alert@indeed.com>\n",
      "INFO:root:Successfully processed email content for job data.\n",
      "INFO:root:Scraping successful for email: Senior Risk Analyst, Regulatory Reporting & Analytics, Capital Market Risk Management at CIBC and 7 more data and cibc jobs in Toronto, ON for you!\n",
      "INFO:root:Successfully saved email: 'Senior Risk Analyst, Regulatory Reporting & Analytics, Capital Market Risk Management at CIBC and 7 more data and cibc jobs in Toronto, ON for you!' to 'data\\Indeed___alert@indeed.com\\2024\\December\\22\\2024_December_22___Time_03_53_51_000___Title_Senior Risk Analyst Regulator.html'.\n"
     ]
    },
    {
     "name": "stdout",
     "output_type": "stream",
     "text": [
      "\u001b[H\u001b[JINFO - Logging configured successfully.\n",
      "INFO - \"GET /?state=OlOOjsnzt4JQxM3YIFj2r29g8yfXzj&code=4%2F0AanRRrumZQPqs91sldB6Zsexcc-CjUOKLk3boMmXtkCalhBT-ZtmSnJi4XYkz7jN_zkFlg&scope=https%3A%2F%2Fwww.googleapis.com%2Fauth%2Fgmail.modify HTTP/1.1\" 200 65\n",
      "INFO - file_cache is only supported with oauth2client<4.0.0\n",
      "INFO - Email fetched successfully: Subject: Senior Risk Analyst, Regulatory Reporting & Analytics, Capital Market Risk Management at CIBC and 7 more data and cibc jobs in Toronto, ON for you!, Sender: Indeed <alert@indeed.com>\n",
      "\u001b[H\u001b[JINFO - Logging configured successfully.\n",
      "INFO - \"GET /?state=OlOOjsnzt4JQxM3YIFj2r29g8yfXzj&code=4%2F0AanRRrumZQPqs91sldB6Zsexcc-CjUOKLk3boMmXtkCalhBT-ZtmSnJi4XYkz7jN_zkFlg&scope=https%3A%2F%2Fwww.googleapis.com%2Fauth%2Fgmail.modify HTTP/1.1\" 200 65\n",
      "INFO - file_cache is only supported with oauth2client<4.0.0\n",
      "INFO - Email fetched successfully: Subject: Senior Risk Analyst, Regulatory Reporting & Analytics, Capital Market Risk Management at CIBC and 7 more data and cibc jobs in Toronto, ON for you!, Sender: Indeed <alert@indeed.com>\n",
      "Data appended to ./data/raw_processed\\2024_12.csv.\n",
      "\u001b[H\u001b[JINFO - Logging configured successfully.\n",
      "INFO - \"GET /?state=OlOOjsnzt4JQxM3YIFj2r29g8yfXzj&code=4%2F0AanRRrumZQPqs91sldB6Zsexcc-CjUOKLk3boMmXtkCalhBT-ZtmSnJi4XYkz7jN_zkFlg&scope=https%3A%2F%2Fwww.googleapis.com%2Fauth%2Fgmail.modify HTTP/1.1\" 200 65\n",
      "INFO - file_cache is only supported with oauth2client<4.0.0\n",
      "INFO - Email fetched successfully: Subject: Senior Risk Analyst, Regulatory Reporting & Analytics, Capital Market Risk Management at CIBC and 7 more data and cibc jobs in Toronto, ON for you!, Sender: Indeed <alert@indeed.com>\n",
      "INFO - Successfully processed email content for job data.\n",
      "\u001b[H\u001b[JINFO - Logging configured successfully.\n",
      "INFO - \"GET /?state=OlOOjsnzt4JQxM3YIFj2r29g8yfXzj&code=4%2F0AanRRrumZQPqs91sldB6Zsexcc-CjUOKLk3boMmXtkCalhBT-ZtmSnJi4XYkz7jN_zkFlg&scope=https%3A%2F%2Fwww.googleapis.com%2Fauth%2Fgmail.modify HTTP/1.1\" 200 65\n",
      "INFO - file_cache is only supported with oauth2client<4.0.0\n",
      "INFO - Email fetched successfully: Subject: Senior Risk Analyst, Regulatory Reporting & Analytics, Capital Market Risk Management at CIBC and 7 more data and cibc jobs in Toronto, ON for you!, Sender: Indeed <alert@indeed.com>\n",
      "INFO - Successfully processed email content for job data.\n",
      "\u001b[H\u001b[JINFO - Logging configured successfully.\n",
      "INFO - \"GET /?state=OlOOjsnzt4JQxM3YIFj2r29g8yfXzj&code=4%2F0AanRRrumZQPqs91sldB6Zsexcc-CjUOKLk3boMmXtkCalhBT-ZtmSnJi4XYkz7jN_zkFlg&scope=https%3A%2F%2Fwww.googleapis.com%2Fauth%2Fgmail.modify HTTP/1.1\" 200 65\n",
      "INFO - file_cache is only supported with oauth2client<4.0.0\n",
      "INFO - Email fetched successfully: Subject: Senior Risk Analyst, Regulatory Reporting & Analytics, Capital Market Risk Management at CIBC and 7 more data and cibc jobs in Toronto, ON for you!, Sender: Indeed <alert@indeed.com>\n",
      "INFO - Successfully processed email content for job data.\n",
      "INFO - Scraping successful for email: Senior Risk Analyst, Regulatory Reporting & Analytics, Capital Market Risk Management at CIBC and 7 more data and cibc jobs in Toronto, ON for you!\n",
      "\u001b[H\u001b[JINFO - Logging configured successfully.\n",
      "INFO - \"GET /?state=OlOOjsnzt4JQxM3YIFj2r29g8yfXzj&code=4%2F0AanRRrumZQPqs91sldB6Zsexcc-CjUOKLk3boMmXtkCalhBT-ZtmSnJi4XYkz7jN_zkFlg&scope=https%3A%2F%2Fwww.googleapis.com%2Fauth%2Fgmail.modify HTTP/1.1\" 200 65\n",
      "INFO - file_cache is only supported with oauth2client<4.0.0\n",
      "INFO - Email fetched successfully: Subject: Senior Risk Analyst, Regulatory Reporting & Analytics, Capital Market Risk Management at CIBC and 7 more data and cibc jobs in Toronto, ON for you!, Sender: Indeed <alert@indeed.com>\n",
      "INFO - Successfully processed email content for job data.\n",
      "INFO - Scraping successful for email: Senior Risk Analyst, Regulatory Reporting & Analytics, Capital Market Risk Management at CIBC and 7 more data and cibc jobs in Toronto, ON for you!\n",
      "\u001b[H\u001b[JINFO - Logging configured successfully.\n",
      "INFO - \"GET /?state=OlOOjsnzt4JQxM3YIFj2r29g8yfXzj&code=4%2F0AanRRrumZQPqs91sldB6Zsexcc-CjUOKLk3boMmXtkCalhBT-ZtmSnJi4XYkz7jN_zkFlg&scope=https%3A%2F%2Fwww.googleapis.com%2Fauth%2Fgmail.modify HTTP/1.1\" 200 65\n",
      "INFO - file_cache is only supported with oauth2client<4.0.0\n",
      "INFO - Email fetched successfully: Subject: Senior Risk Analyst, Regulatory Reporting & Analytics, Capital Market Risk Management at CIBC and 7 more data and cibc jobs in Toronto, ON for you!, Sender: Indeed <alert@indeed.com>\n",
      "INFO - Successfully processed email content for job data.\n",
      "INFO - Scraping successful for email: Senior Risk Analyst, Regulatory Reporting & Analytics, Capital Market Risk Management at CIBC and 7 more data and cibc jobs in Toronto, ON for you!\n",
      "INFO - Successfully saved email: 'Senior Risk Analyst, Regulatory Reporting & Analytics, Capital Market Risk Management at CIBC and 7 more data and cibc jobs in Toronto, ON for you!' to 'data\\Indeed___alert@indeed.com\\2024\\December\\22\\2024_December_22___Time_03_53_51_000___Title_Senior Risk Analyst Regulator.html'.\n",
      "\u001b[H\u001b[JINFO - Logging configured successfully.\n",
      "INFO - \"GET /?state=OlOOjsnzt4JQxM3YIFj2r29g8yfXzj&code=4%2F0AanRRrumZQPqs91sldB6Zsexcc-CjUOKLk3boMmXtkCalhBT-ZtmSnJi4XYkz7jN_zkFlg&scope=https%3A%2F%2Fwww.googleapis.com%2Fauth%2Fgmail.modify HTTP/1.1\" 200 65\n",
      "INFO - file_cache is only supported with oauth2client<4.0.0\n",
      "INFO - Email fetched successfully: Subject: Senior Risk Analyst, Regulatory Reporting & Analytics, Capital Market Risk Management at CIBC and 7 more data and cibc jobs in Toronto, ON for you!, Sender: Indeed <alert@indeed.com>\n",
      "INFO - Successfully processed email content for job data.\n",
      "INFO - Scraping successful for email: Senior Risk Analyst, Regulatory Reporting & Analytics, Capital Market Risk Management at CIBC and 7 more data and cibc jobs in Toronto, ON for you!\n",
      "INFO - Successfully saved email: 'Senior Risk Analyst, Regulatory Reporting & Analytics, Capital Market Risk Management at CIBC and 7 more data and cibc jobs in Toronto, ON for you!' to 'data\\Indeed___alert@indeed.com\\2024\\December\\22\\2024_December_22___Time_03_53_51_000___Title_Senior Risk Analyst Regulator.html'.\n",
      "Email saved to data\\Indeed___alert@indeed.com\\2024\\December\\22\\2024_December_22___Time_03_53_51_000___Title_Senior Risk Analyst Regulator.html\n",
      "Email with ID 193ec7ffff44c12c marked as read.\n"
     ]
    },
    {
     "name": "stderr",
     "output_type": "stream",
     "text": [
      "INFO:root:Email processed successfully: Senior Risk Analyst, Regulatory Reporting & Analytics, Capital Market Risk Management at CIBC and 7 more data and cibc jobs in Toronto, ON for you!\n"
     ]
    },
    {
     "name": "stdout",
     "output_type": "stream",
     "text": [
      "\u001b[H\u001b[JINFO - Logging configured successfully.\n",
      "INFO - \"GET /?state=OlOOjsnzt4JQxM3YIFj2r29g8yfXzj&code=4%2F0AanRRrumZQPqs91sldB6Zsexcc-CjUOKLk3boMmXtkCalhBT-ZtmSnJi4XYkz7jN_zkFlg&scope=https%3A%2F%2Fwww.googleapis.com%2Fauth%2Fgmail.modify HTTP/1.1\" 200 65\n",
      "INFO - file_cache is only supported with oauth2client<4.0.0\n",
      "INFO - Email fetched successfully: Subject: Senior Risk Analyst, Regulatory Reporting & Analytics, Capital Market Risk Management at CIBC and 7 more data and cibc jobs in Toronto, ON for you!, Sender: Indeed <alert@indeed.com>\n",
      "INFO - Successfully processed email content for job data.\n",
      "INFO - Scraping successful for email: Senior Risk Analyst, Regulatory Reporting & Analytics, Capital Market Risk Management at CIBC and 7 more data and cibc jobs in Toronto, ON for you!\n",
      "INFO - Successfully saved email: 'Senior Risk Analyst, Regulatory Reporting & Analytics, Capital Market Risk Management at CIBC and 7 more data and cibc jobs in Toronto, ON for you!' to 'data\\Indeed___alert@indeed.com\\2024\\December\\22\\2024_December_22___Time_03_53_51_000___Title_Senior Risk Analyst Regulator.html'.\n",
      "INFO - Email processed successfully: Senior Risk Analyst, Regulatory Reporting & Analytics, Capital Market Risk Management at CIBC and 7 more data and cibc jobs in Toronto, ON for you!\n",
      "\u001b[H\u001b[JINFO - Logging configured successfully.\n",
      "INFO - \"GET /?state=OlOOjsnzt4JQxM3YIFj2r29g8yfXzj&code=4%2F0AanRRrumZQPqs91sldB6Zsexcc-CjUOKLk3boMmXtkCalhBT-ZtmSnJi4XYkz7jN_zkFlg&scope=https%3A%2F%2Fwww.googleapis.com%2Fauth%2Fgmail.modify HTTP/1.1\" 200 65\n",
      "INFO - file_cache is only supported with oauth2client<4.0.0\n",
      "INFO - Email fetched successfully: Subject: Senior Risk Analyst, Regulatory Reporting & Analytics, Capital Market Risk Management at CIBC and 7 more data and cibc jobs in Toronto, ON for you!, Sender: Indeed <alert@indeed.com>\n",
      "INFO - Successfully processed email content for job data.\n",
      "INFO - Scraping successful for email: Senior Risk Analyst, Regulatory Reporting & Analytics, Capital Market Risk Management at CIBC and 7 more data and cibc jobs in Toronto, ON for you!\n",
      "INFO - Successfully saved email: 'Senior Risk Analyst, Regulatory Reporting & Analytics, Capital Market Risk Management at CIBC and 7 more data and cibc jobs in Toronto, ON for you!' to 'data\\Indeed___alert@indeed.com\\2024\\December\\22\\2024_December_22___Time_03_53_51_000___Title_Senior Risk Analyst Regulator.html'.\n",
      "INFO - Email processed successfully: Senior Risk Analyst, Regulatory Reporting & Analytics, Capital Market Risk Management at CIBC and 7 more data and cibc jobs in Toronto, ON for you!\n",
      "Waiting for new emails...\n"
     ]
    },
    {
     "name": "stderr",
     "output_type": "stream",
     "text": [
      "INFO:root:No new emails found.\n"
     ]
    },
    {
     "name": "stdout",
     "output_type": "stream",
     "text": [
      "\u001b[H\u001b[JINFO - Logging configured successfully.\n",
      "INFO - \"GET /?state=OlOOjsnzt4JQxM3YIFj2r29g8yfXzj&code=4%2F0AanRRrumZQPqs91sldB6Zsexcc-CjUOKLk3boMmXtkCalhBT-ZtmSnJi4XYkz7jN_zkFlg&scope=https%3A%2F%2Fwww.googleapis.com%2Fauth%2Fgmail.modify HTTP/1.1\" 200 65\n",
      "INFO - file_cache is only supported with oauth2client<4.0.0\n",
      "INFO - Email fetched successfully: Subject: Senior Risk Analyst, Regulatory Reporting & Analytics, Capital Market Risk Management at CIBC and 7 more data and cibc jobs in Toronto, ON for you!, Sender: Indeed <alert@indeed.com>\n",
      "INFO - Successfully processed email content for job data.\n",
      "INFO - Scraping successful for email: Senior Risk Analyst, Regulatory Reporting & Analytics, Capital Market Risk Management at CIBC and 7 more data and cibc jobs in Toronto, ON for you!\n",
      "INFO - Successfully saved email: 'Senior Risk Analyst, Regulatory Reporting & Analytics, Capital Market Risk Management at CIBC and 7 more data and cibc jobs in Toronto, ON for you!' to 'data\\Indeed___alert@indeed.com\\2024\\December\\22\\2024_December_22___Time_03_53_51_000___Title_Senior Risk Analyst Regulator.html'.\n",
      "INFO - Email processed successfully: Senior Risk Analyst, Regulatory Reporting & Analytics, Capital Market Risk Management at CIBC and 7 more data and cibc jobs in Toronto, ON for you!\n",
      "INFO - No new emails found.\n",
      "\u001b[H\u001b[JINFO - Logging configured successfully.\n",
      "INFO - \"GET /?state=OlOOjsnzt4JQxM3YIFj2r29g8yfXzj&code=4%2F0AanRRrumZQPqs91sldB6Zsexcc-CjUOKLk3boMmXtkCalhBT-ZtmSnJi4XYkz7jN_zkFlg&scope=https%3A%2F%2Fwww.googleapis.com%2Fauth%2Fgmail.modify HTTP/1.1\" 200 65\n",
      "INFO - file_cache is only supported with oauth2client<4.0.0\n",
      "INFO - Email fetched successfully: Subject: Senior Risk Analyst, Regulatory Reporting & Analytics, Capital Market Risk Management at CIBC and 7 more data and cibc jobs in Toronto, ON for you!, Sender: Indeed <alert@indeed.com>\n",
      "INFO - Successfully processed email content for job data.\n",
      "INFO - Scraping successful for email: Senior Risk Analyst, Regulatory Reporting & Analytics, Capital Market Risk Management at CIBC and 7 more data and cibc jobs in Toronto, ON for you!\n",
      "INFO - Successfully saved email: 'Senior Risk Analyst, Regulatory Reporting & Analytics, Capital Market Risk Management at CIBC and 7 more data and cibc jobs in Toronto, ON for you!' to 'data\\Indeed___alert@indeed.com\\2024\\December\\22\\2024_December_22___Time_03_53_51_000___Title_Senior Risk Analyst Regulator.html'.\n",
      "INFO - Email processed successfully: Senior Risk Analyst, Regulatory Reporting & Analytics, Capital Market Risk Management at CIBC and 7 more data and cibc jobs in Toronto, ON for you!\n",
      "INFO - No new emails found.\n",
      "Waiting for new emails...\n"
     ]
    },
    {
     "name": "stderr",
     "output_type": "stream",
     "text": [
      "INFO:root:No new emails found.\n"
     ]
    },
    {
     "name": "stdout",
     "output_type": "stream",
     "text": [
      "Waiting for new emails...\n"
     ]
    },
    {
     "name": "stderr",
     "output_type": "stream",
     "text": [
      "INFO:root:No new emails found.\n"
     ]
    },
    {
     "name": "stdout",
     "output_type": "stream",
     "text": [
      "Waiting for new emails...\n"
     ]
    },
    {
     "name": "stderr",
     "output_type": "stream",
     "text": [
      "INFO:root:No new emails found.\n"
     ]
    },
    {
     "name": "stdout",
     "output_type": "stream",
     "text": [
      "Waiting for new emails...\n"
     ]
    },
    {
     "name": "stderr",
     "output_type": "stream",
     "text": [
      "INFO:root:No new emails found.\n"
     ]
    },
    {
     "name": "stdout",
     "output_type": "stream",
     "text": [
      "Waiting for new emails...\n"
     ]
    },
    {
     "name": "stderr",
     "output_type": "stream",
     "text": [
      "INFO:root:No new emails found.\n"
     ]
    },
    {
     "name": "stdout",
     "output_type": "stream",
     "text": [
      "Waiting for new emails...\n"
     ]
    },
    {
     "name": "stderr",
     "output_type": "stream",
     "text": [
      "INFO:root:No new emails found.\n"
     ]
    },
    {
     "name": "stdout",
     "output_type": "stream",
     "text": [
      "Waiting for new emails...\n"
     ]
    },
    {
     "name": "stderr",
     "output_type": "stream",
     "text": [
      "INFO:root:No new emails found.\n"
     ]
    },
    {
     "name": "stdout",
     "output_type": "stream",
     "text": [
      "Waiting for new emails...\n"
     ]
    },
    {
     "name": "stderr",
     "output_type": "stream",
     "text": [
      "INFO:root:No new emails found.\n"
     ]
    },
    {
     "name": "stdout",
     "output_type": "stream",
     "text": [
      "Waiting for new emails...\n"
     ]
    },
    {
     "name": "stderr",
     "output_type": "stream",
     "text": [
      "INFO:root:No new emails found.\n"
     ]
    },
    {
     "name": "stdout",
     "output_type": "stream",
     "text": [
      "Waiting for new emails...\n"
     ]
    },
    {
     "name": "stderr",
     "output_type": "stream",
     "text": [
      "INFO:root:No new emails found.\n"
     ]
    },
    {
     "name": "stdout",
     "output_type": "stream",
     "text": [
      "Waiting for new emails...\n"
     ]
    },
    {
     "name": "stderr",
     "output_type": "stream",
     "text": [
      "INFO:root:No new emails found.\n"
     ]
    },
    {
     "name": "stdout",
     "output_type": "stream",
     "text": [
      "Waiting for new emails...\n"
     ]
    },
    {
     "name": "stderr",
     "output_type": "stream",
     "text": [
      "INFO:root:No new emails found.\n"
     ]
    },
    {
     "name": "stdout",
     "output_type": "stream",
     "text": [
      "Waiting for new emails...\n"
     ]
    },
    {
     "name": "stderr",
     "output_type": "stream",
     "text": [
      "INFO:root:No new emails found.\n"
     ]
    },
    {
     "name": "stdout",
     "output_type": "stream",
     "text": [
      "Waiting for new emails...\n"
     ]
    },
    {
     "name": "stderr",
     "output_type": "stream",
     "text": [
      "INFO:root:No new emails found.\n"
     ]
    },
    {
     "name": "stdout",
     "output_type": "stream",
     "text": [
      "Waiting for new emails...\n"
     ]
    },
    {
     "name": "stderr",
     "output_type": "stream",
     "text": [
      "INFO:root:No new emails found.\n"
     ]
    },
    {
     "name": "stdout",
     "output_type": "stream",
     "text": [
      "Waiting for new emails...\n"
     ]
    },
    {
     "name": "stderr",
     "output_type": "stream",
     "text": [
      "INFO:root:No new emails found.\n"
     ]
    },
    {
     "name": "stdout",
     "output_type": "stream",
     "text": [
      "Waiting for new emails...\n"
     ]
    },
    {
     "name": "stderr",
     "output_type": "stream",
     "text": [
      "INFO:root:No new emails found.\n"
     ]
    },
    {
     "name": "stdout",
     "output_type": "stream",
     "text": [
      "Waiting for new emails...\n"
     ]
    },
    {
     "name": "stderr",
     "output_type": "stream",
     "text": [
      "INFO:root:No new emails found.\n"
     ]
    },
    {
     "name": "stdout",
     "output_type": "stream",
     "text": [
      "Waiting for new emails...\n"
     ]
    },
    {
     "name": "stderr",
     "output_type": "stream",
     "text": [
      "INFO:root:No new emails found.\n"
     ]
    },
    {
     "name": "stdout",
     "output_type": "stream",
     "text": [
      "Waiting for new emails...\n"
     ]
    },
    {
     "name": "stderr",
     "output_type": "stream",
     "text": [
      "INFO:root:No new emails found.\n"
     ]
    },
    {
     "name": "stdout",
     "output_type": "stream",
     "text": [
      "Waiting for new emails...\n"
     ]
    },
    {
     "name": "stderr",
     "output_type": "stream",
     "text": [
      "INFO:root:No new emails found.\n"
     ]
    },
    {
     "name": "stdout",
     "output_type": "stream",
     "text": [
      "Waiting for new emails...\n"
     ]
    },
    {
     "name": "stderr",
     "output_type": "stream",
     "text": [
      "INFO:root:No new emails found.\n"
     ]
    },
    {
     "name": "stdout",
     "output_type": "stream",
     "text": [
      "Waiting for new emails...\n"
     ]
    },
    {
     "name": "stderr",
     "output_type": "stream",
     "text": [
      "INFO:root:No new emails found.\n"
     ]
    },
    {
     "name": "stdout",
     "output_type": "stream",
     "text": [
      "Waiting for new emails...\n"
     ]
    },
    {
     "name": "stderr",
     "output_type": "stream",
     "text": [
      "INFO:root:No new emails found.\n"
     ]
    },
    {
     "name": "stdout",
     "output_type": "stream",
     "text": [
      "Waiting for new emails...\n"
     ]
    },
    {
     "name": "stderr",
     "output_type": "stream",
     "text": [
      "INFO:root:No new emails found.\n"
     ]
    },
    {
     "name": "stdout",
     "output_type": "stream",
     "text": [
      "Waiting for new emails...\n"
     ]
    },
    {
     "name": "stderr",
     "output_type": "stream",
     "text": [
      "INFO:root:No new emails found.\n"
     ]
    },
    {
     "name": "stdout",
     "output_type": "stream",
     "text": [
      "Waiting for new emails...\n"
     ]
    },
    {
     "name": "stderr",
     "output_type": "stream",
     "text": [
      "INFO:root:No new emails found.\n"
     ]
    },
    {
     "name": "stdout",
     "output_type": "stream",
     "text": [
      "Waiting for new emails...\n"
     ]
    },
    {
     "name": "stderr",
     "output_type": "stream",
     "text": [
      "INFO:root:No new emails found.\n"
     ]
    },
    {
     "name": "stdout",
     "output_type": "stream",
     "text": [
      "Waiting for new emails...\n"
     ]
    },
    {
     "name": "stderr",
     "output_type": "stream",
     "text": [
      "INFO:root:No new emails found.\n"
     ]
    },
    {
     "name": "stdout",
     "output_type": "stream",
     "text": [
      "Waiting for new emails...\n"
     ]
    },
    {
     "name": "stderr",
     "output_type": "stream",
     "text": [
      "INFO:root:No new emails found.\n"
     ]
    },
    {
     "name": "stdout",
     "output_type": "stream",
     "text": [
      "Waiting for new emails...\n"
     ]
    },
    {
     "name": "stderr",
     "output_type": "stream",
     "text": [
      "INFO:root:No new emails found.\n"
     ]
    },
    {
     "name": "stdout",
     "output_type": "stream",
     "text": [
      "Waiting for new emails...\n"
     ]
    },
    {
     "name": "stderr",
     "output_type": "stream",
     "text": [
      "INFO:root:No new emails found.\n"
     ]
    },
    {
     "name": "stdout",
     "output_type": "stream",
     "text": [
      "Waiting for new emails...\n"
     ]
    },
    {
     "name": "stderr",
     "output_type": "stream",
     "text": [
      "INFO:root:No new emails found.\n"
     ]
    },
    {
     "name": "stdout",
     "output_type": "stream",
     "text": [
      "Waiting for new emails...\n"
     ]
    },
    {
     "name": "stderr",
     "output_type": "stream",
     "text": [
      "INFO:root:No new emails found.\n"
     ]
    },
    {
     "name": "stdout",
     "output_type": "stream",
     "text": [
      "Waiting for new emails...\n"
     ]
    },
    {
     "name": "stderr",
     "output_type": "stream",
     "text": [
      "INFO:root:No new emails found.\n"
     ]
    },
    {
     "name": "stdout",
     "output_type": "stream",
     "text": [
      "Waiting for new emails...\n"
     ]
    },
    {
     "name": "stderr",
     "output_type": "stream",
     "text": [
      "INFO:root:No new emails found.\n"
     ]
    },
    {
     "name": "stdout",
     "output_type": "stream",
     "text": [
      "Waiting for new emails...\n"
     ]
    },
    {
     "name": "stderr",
     "output_type": "stream",
     "text": [
      "INFO:root:No new emails found.\n"
     ]
    },
    {
     "name": "stdout",
     "output_type": "stream",
     "text": [
      "Waiting for new emails...\n"
     ]
    },
    {
     "name": "stderr",
     "output_type": "stream",
     "text": [
      "INFO:root:No new emails found.\n"
     ]
    },
    {
     "name": "stdout",
     "output_type": "stream",
     "text": [
      "Waiting for new emails...\n"
     ]
    },
    {
     "name": "stderr",
     "output_type": "stream",
     "text": [
      "INFO:root:No new emails found.\n"
     ]
    },
    {
     "name": "stdout",
     "output_type": "stream",
     "text": [
      "Waiting for new emails...\n"
     ]
    },
    {
     "name": "stderr",
     "output_type": "stream",
     "text": [
      "INFO:root:No new emails found.\n"
     ]
    },
    {
     "name": "stdout",
     "output_type": "stream",
     "text": [
      "Waiting for new emails...\n"
     ]
    },
    {
     "name": "stderr",
     "output_type": "stream",
     "text": [
      "INFO:root:No new emails found.\n"
     ]
    },
    {
     "name": "stdout",
     "output_type": "stream",
     "text": [
      "Waiting for new emails...\n"
     ]
    },
    {
     "name": "stderr",
     "output_type": "stream",
     "text": [
      "INFO:root:No new emails found.\n"
     ]
    },
    {
     "name": "stdout",
     "output_type": "stream",
     "text": [
      "Waiting for new emails...\n"
     ]
    },
    {
     "name": "stderr",
     "output_type": "stream",
     "text": [
      "INFO:root:No new emails found.\n"
     ]
    },
    {
     "name": "stdout",
     "output_type": "stream",
     "text": [
      "Waiting for new emails...\n"
     ]
    },
    {
     "name": "stderr",
     "output_type": "stream",
     "text": [
      "INFO:root:No new emails found.\n"
     ]
    },
    {
     "name": "stdout",
     "output_type": "stream",
     "text": [
      "Waiting for new emails...\n"
     ]
    },
    {
     "name": "stderr",
     "output_type": "stream",
     "text": [
      "INFO:root:No new emails found.\n"
     ]
    },
    {
     "name": "stdout",
     "output_type": "stream",
     "text": [
      "Waiting for new emails...\n"
     ]
    },
    {
     "name": "stderr",
     "output_type": "stream",
     "text": [
      "INFO:root:No new emails found.\n"
     ]
    },
    {
     "name": "stdout",
     "output_type": "stream",
     "text": [
      "Waiting for new emails...\n"
     ]
    },
    {
     "name": "stderr",
     "output_type": "stream",
     "text": [
      "INFO:root:No new emails found.\n"
     ]
    },
    {
     "name": "stdout",
     "output_type": "stream",
     "text": [
      "Waiting for new emails...\n"
     ]
    },
    {
     "name": "stderr",
     "output_type": "stream",
     "text": [
      "INFO:root:No new emails found.\n"
     ]
    },
    {
     "name": "stdout",
     "output_type": "stream",
     "text": [
      "Waiting for new emails...\n"
     ]
    },
    {
     "name": "stderr",
     "output_type": "stream",
     "text": [
      "INFO:root:No new emails found.\n"
     ]
    },
    {
     "name": "stdout",
     "output_type": "stream",
     "text": [
      "Waiting for new emails...\n"
     ]
    },
    {
     "name": "stderr",
     "output_type": "stream",
     "text": [
      "INFO:root:No new emails found.\n"
     ]
    },
    {
     "name": "stdout",
     "output_type": "stream",
     "text": [
      "Waiting for new emails...\n"
     ]
    },
    {
     "name": "stderr",
     "output_type": "stream",
     "text": [
      "INFO:root:No new emails found.\n"
     ]
    },
    {
     "name": "stdout",
     "output_type": "stream",
     "text": [
      "Waiting for new emails...\n"
     ]
    },
    {
     "name": "stderr",
     "output_type": "stream",
     "text": [
      "INFO:root:No new emails found.\n"
     ]
    },
    {
     "name": "stdout",
     "output_type": "stream",
     "text": [
      "Waiting for new emails...\n"
     ]
    },
    {
     "name": "stderr",
     "output_type": "stream",
     "text": [
      "INFO:root:No new emails found.\n"
     ]
    },
    {
     "name": "stdout",
     "output_type": "stream",
     "text": [
      "Waiting for new emails...\n"
     ]
    },
    {
     "name": "stderr",
     "output_type": "stream",
     "text": [
      "INFO:root:No new emails found.\n"
     ]
    },
    {
     "name": "stdout",
     "output_type": "stream",
     "text": [
      "Waiting for new emails...\n"
     ]
    },
    {
     "name": "stderr",
     "output_type": "stream",
     "text": [
      "INFO:root:No new emails found.\n"
     ]
    },
    {
     "name": "stdout",
     "output_type": "stream",
     "text": [
      "Waiting for new emails...\n"
     ]
    },
    {
     "name": "stderr",
     "output_type": "stream",
     "text": [
      "INFO:root:No new emails found.\n"
     ]
    },
    {
     "name": "stdout",
     "output_type": "stream",
     "text": [
      "Waiting for new emails...\n"
     ]
    },
    {
     "name": "stderr",
     "output_type": "stream",
     "text": [
      "INFO:root:No new emails found.\n"
     ]
    },
    {
     "name": "stdout",
     "output_type": "stream",
     "text": [
      "Waiting for new emails...\n"
     ]
    },
    {
     "name": "stderr",
     "output_type": "stream",
     "text": [
      "INFO:root:No new emails found.\n"
     ]
    },
    {
     "name": "stdout",
     "output_type": "stream",
     "text": [
      "Waiting for new emails...\n"
     ]
    },
    {
     "name": "stderr",
     "output_type": "stream",
     "text": [
      "INFO:root:No new emails found.\n"
     ]
    },
    {
     "name": "stdout",
     "output_type": "stream",
     "text": [
      "Waiting for new emails...\n"
     ]
    },
    {
     "name": "stderr",
     "output_type": "stream",
     "text": [
      "INFO:root:No new emails found.\n"
     ]
    },
    {
     "name": "stdout",
     "output_type": "stream",
     "text": [
      "Waiting for new emails...\n"
     ]
    },
    {
     "name": "stderr",
     "output_type": "stream",
     "text": [
      "INFO:root:No new emails found.\n"
     ]
    },
    {
     "name": "stdout",
     "output_type": "stream",
     "text": [
      "Waiting for new emails...\n"
     ]
    },
    {
     "name": "stderr",
     "output_type": "stream",
     "text": [
      "INFO:root:No new emails found.\n"
     ]
    },
    {
     "name": "stdout",
     "output_type": "stream",
     "text": [
      "Waiting for new emails...\n"
     ]
    },
    {
     "name": "stderr",
     "output_type": "stream",
     "text": [
      "INFO:root:No new emails found.\n"
     ]
    },
    {
     "name": "stdout",
     "output_type": "stream",
     "text": [
      "Waiting for new emails...\n"
     ]
    },
    {
     "name": "stderr",
     "output_type": "stream",
     "text": [
      "INFO:root:No new emails found.\n"
     ]
    },
    {
     "name": "stdout",
     "output_type": "stream",
     "text": [
      "Waiting for new emails...\n"
     ]
    },
    {
     "name": "stderr",
     "output_type": "stream",
     "text": [
      "INFO:root:No new emails found.\n"
     ]
    },
    {
     "name": "stdout",
     "output_type": "stream",
     "text": [
      "Waiting for new emails...\n"
     ]
    },
    {
     "name": "stderr",
     "output_type": "stream",
     "text": [
      "INFO:root:No new emails found.\n"
     ]
    },
    {
     "name": "stdout",
     "output_type": "stream",
     "text": [
      "Waiting for new emails...\n"
     ]
    },
    {
     "name": "stderr",
     "output_type": "stream",
     "text": [
      "INFO:root:No new emails found.\n"
     ]
    },
    {
     "name": "stdout",
     "output_type": "stream",
     "text": [
      "Waiting for new emails...\n"
     ]
    },
    {
     "name": "stderr",
     "output_type": "stream",
     "text": [
      "INFO:root:No new emails found.\n"
     ]
    },
    {
     "name": "stdout",
     "output_type": "stream",
     "text": [
      "Waiting for new emails...\n"
     ]
    },
    {
     "name": "stderr",
     "output_type": "stream",
     "text": [
      "INFO:root:No new emails found.\n"
     ]
    },
    {
     "name": "stdout",
     "output_type": "stream",
     "text": [
      "Waiting for new emails...\n"
     ]
    },
    {
     "name": "stderr",
     "output_type": "stream",
     "text": [
      "INFO:root:No new emails found.\n"
     ]
    },
    {
     "name": "stdout",
     "output_type": "stream",
     "text": [
      "Waiting for new emails...\n"
     ]
    },
    {
     "name": "stderr",
     "output_type": "stream",
     "text": [
      "INFO:root:No new emails found.\n"
     ]
    },
    {
     "name": "stdout",
     "output_type": "stream",
     "text": [
      "Waiting for new emails...\n"
     ]
    },
    {
     "name": "stderr",
     "output_type": "stream",
     "text": [
      "INFO:root:No new emails found.\n"
     ]
    },
    {
     "name": "stdout",
     "output_type": "stream",
     "text": [
      "Waiting for new emails...\n"
     ]
    },
    {
     "name": "stderr",
     "output_type": "stream",
     "text": [
      "INFO:root:No new emails found.\n"
     ]
    },
    {
     "name": "stdout",
     "output_type": "stream",
     "text": [
      "Waiting for new emails...\n"
     ]
    },
    {
     "name": "stderr",
     "output_type": "stream",
     "text": [
      "INFO:root:No new emails found.\n"
     ]
    },
    {
     "name": "stdout",
     "output_type": "stream",
     "text": [
      "Waiting for new emails...\n"
     ]
    },
    {
     "name": "stderr",
     "output_type": "stream",
     "text": [
      "INFO:root:No new emails found.\n"
     ]
    },
    {
     "name": "stdout",
     "output_type": "stream",
     "text": [
      "Waiting for new emails...\n"
     ]
    },
    {
     "name": "stderr",
     "output_type": "stream",
     "text": [
      "INFO:root:No new emails found.\n"
     ]
    },
    {
     "name": "stdout",
     "output_type": "stream",
     "text": [
      "Waiting for new emails...\n"
     ]
    },
    {
     "name": "stderr",
     "output_type": "stream",
     "text": [
      "INFO:root:No new emails found.\n"
     ]
    },
    {
     "name": "stdout",
     "output_type": "stream",
     "text": [
      "Waiting for new emails...\n"
     ]
    },
    {
     "name": "stderr",
     "output_type": "stream",
     "text": [
      "INFO:root:No new emails found.\n"
     ]
    },
    {
     "name": "stdout",
     "output_type": "stream",
     "text": [
      "Waiting for new emails...\n"
     ]
    },
    {
     "name": "stderr",
     "output_type": "stream",
     "text": [
      "INFO:root:No new emails found.\n"
     ]
    },
    {
     "name": "stdout",
     "output_type": "stream",
     "text": [
      "Waiting for new emails...\n"
     ]
    },
    {
     "name": "stderr",
     "output_type": "stream",
     "text": [
      "INFO:root:No new emails found.\n"
     ]
    },
    {
     "name": "stdout",
     "output_type": "stream",
     "text": [
      "Waiting for new emails...\n"
     ]
    },
    {
     "name": "stderr",
     "output_type": "stream",
     "text": [
      "INFO:root:No new emails found.\n"
     ]
    },
    {
     "name": "stdout",
     "output_type": "stream",
     "text": [
      "Waiting for new emails...\n"
     ]
    },
    {
     "name": "stderr",
     "output_type": "stream",
     "text": [
      "INFO:root:No new emails found.\n"
     ]
    },
    {
     "name": "stdout",
     "output_type": "stream",
     "text": [
      "Waiting for new emails...\n"
     ]
    },
    {
     "name": "stderr",
     "output_type": "stream",
     "text": [
      "INFO:root:No new emails found.\n"
     ]
    },
    {
     "name": "stdout",
     "output_type": "stream",
     "text": [
      "Waiting for new emails...\n"
     ]
    },
    {
     "name": "stderr",
     "output_type": "stream",
     "text": [
      "INFO:root:No new emails found.\n"
     ]
    },
    {
     "name": "stdout",
     "output_type": "stream",
     "text": [
      "Waiting for new emails...\n"
     ]
    },
    {
     "name": "stderr",
     "output_type": "stream",
     "text": [
      "INFO:root:No new emails found.\n"
     ]
    },
    {
     "name": "stdout",
     "output_type": "stream",
     "text": [
      "Waiting for new emails...\n"
     ]
    },
    {
     "name": "stderr",
     "output_type": "stream",
     "text": [
      "INFO:root:No new emails found.\n"
     ]
    },
    {
     "name": "stdout",
     "output_type": "stream",
     "text": [
      "Waiting for new emails...\n"
     ]
    },
    {
     "name": "stderr",
     "output_type": "stream",
     "text": [
      "INFO:root:No new emails found.\n"
     ]
    },
    {
     "name": "stdout",
     "output_type": "stream",
     "text": [
      "Waiting for new emails...\n"
     ]
    },
    {
     "name": "stderr",
     "output_type": "stream",
     "text": [
      "INFO:root:No new emails found.\n"
     ]
    },
    {
     "name": "stdout",
     "output_type": "stream",
     "text": [
      "Waiting for new emails...\n"
     ]
    },
    {
     "name": "stderr",
     "output_type": "stream",
     "text": [
      "INFO:root:No new emails found.\n"
     ]
    },
    {
     "name": "stdout",
     "output_type": "stream",
     "text": [
      "Waiting for new emails...\n"
     ]
    },
    {
     "name": "stderr",
     "output_type": "stream",
     "text": [
      "INFO:root:No new emails found.\n"
     ]
    },
    {
     "name": "stdout",
     "output_type": "stream",
     "text": [
      "Waiting for new emails...\n"
     ]
    },
    {
     "name": "stderr",
     "output_type": "stream",
     "text": [
      "INFO:root:No new emails found.\n"
     ]
    },
    {
     "name": "stdout",
     "output_type": "stream",
     "text": [
      "Waiting for new emails...\n"
     ]
    },
    {
     "name": "stderr",
     "output_type": "stream",
     "text": [
      "INFO:root:No new emails found.\n"
     ]
    },
    {
     "name": "stdout",
     "output_type": "stream",
     "text": [
      "Waiting for new emails...\n"
     ]
    },
    {
     "name": "stderr",
     "output_type": "stream",
     "text": [
      "INFO:root:No new emails found.\n"
     ]
    },
    {
     "name": "stdout",
     "output_type": "stream",
     "text": [
      "Waiting for new emails...\n"
     ]
    },
    {
     "name": "stderr",
     "output_type": "stream",
     "text": [
      "INFO:root:No new emails found.\n"
     ]
    },
    {
     "name": "stdout",
     "output_type": "stream",
     "text": [
      "Waiting for new emails...\n"
     ]
    },
    {
     "name": "stderr",
     "output_type": "stream",
     "text": [
      "INFO:root:No new emails found.\n"
     ]
    },
    {
     "name": "stdout",
     "output_type": "stream",
     "text": [
      "Waiting for new emails...\n"
     ]
    },
    {
     "name": "stderr",
     "output_type": "stream",
     "text": [
      "INFO:root:No new emails found.\n"
     ]
    },
    {
     "name": "stdout",
     "output_type": "stream",
     "text": [
      "Waiting for new emails...\n"
     ]
    },
    {
     "name": "stderr",
     "output_type": "stream",
     "text": [
      "INFO:root:No new emails found.\n"
     ]
    },
    {
     "name": "stdout",
     "output_type": "stream",
     "text": [
      "Waiting for new emails...\n"
     ]
    },
    {
     "name": "stderr",
     "output_type": "stream",
     "text": [
      "INFO:root:No new emails found.\n"
     ]
    },
    {
     "name": "stdout",
     "output_type": "stream",
     "text": [
      "Waiting for new emails...\n"
     ]
    },
    {
     "name": "stderr",
     "output_type": "stream",
     "text": [
      "INFO:root:No new emails found.\n"
     ]
    },
    {
     "name": "stdout",
     "output_type": "stream",
     "text": [
      "Waiting for new emails...\n"
     ]
    },
    {
     "name": "stderr",
     "output_type": "stream",
     "text": [
      "INFO:root:No new emails found.\n"
     ]
    },
    {
     "name": "stdout",
     "output_type": "stream",
     "text": [
      "Waiting for new emails...\n"
     ]
    },
    {
     "name": "stderr",
     "output_type": "stream",
     "text": [
      "INFO:root:No new emails found.\n"
     ]
    },
    {
     "name": "stdout",
     "output_type": "stream",
     "text": [
      "Waiting for new emails...\n"
     ]
    },
    {
     "name": "stderr",
     "output_type": "stream",
     "text": [
      "INFO:root:No new emails found.\n"
     ]
    },
    {
     "name": "stdout",
     "output_type": "stream",
     "text": [
      "Waiting for new emails...\n"
     ]
    },
    {
     "name": "stderr",
     "output_type": "stream",
     "text": [
      "INFO:root:No new emails found.\n"
     ]
    },
    {
     "name": "stdout",
     "output_type": "stream",
     "text": [
      "Waiting for new emails...\n"
     ]
    },
    {
     "name": "stderr",
     "output_type": "stream",
     "text": [
      "INFO:root:No new emails found.\n"
     ]
    },
    {
     "name": "stdout",
     "output_type": "stream",
     "text": [
      "Waiting for new emails...\n"
     ]
    },
    {
     "name": "stderr",
     "output_type": "stream",
     "text": [
      "INFO:root:No new emails found.\n"
     ]
    },
    {
     "name": "stdout",
     "output_type": "stream",
     "text": [
      "Waiting for new emails...\n"
     ]
    },
    {
     "name": "stderr",
     "output_type": "stream",
     "text": [
      "INFO:root:No new emails found.\n"
     ]
    },
    {
     "name": "stdout",
     "output_type": "stream",
     "text": [
      "Waiting for new emails...\n"
     ]
    },
    {
     "name": "stderr",
     "output_type": "stream",
     "text": [
      "INFO:root:No new emails found.\n"
     ]
    },
    {
     "name": "stdout",
     "output_type": "stream",
     "text": [
      "Waiting for new emails...\n"
     ]
    },
    {
     "name": "stderr",
     "output_type": "stream",
     "text": [
      "INFO:root:No new emails found.\n"
     ]
    },
    {
     "name": "stdout",
     "output_type": "stream",
     "text": [
      "Waiting for new emails...\n"
     ]
    },
    {
     "name": "stderr",
     "output_type": "stream",
     "text": [
      "INFO:root:No new emails found.\n"
     ]
    },
    {
     "name": "stdout",
     "output_type": "stream",
     "text": [
      "Waiting for new emails...\n"
     ]
    },
    {
     "name": "stderr",
     "output_type": "stream",
     "text": [
      "INFO:root:No new emails found.\n"
     ]
    },
    {
     "name": "stdout",
     "output_type": "stream",
     "text": [
      "Waiting for new emails...\n"
     ]
    },
    {
     "name": "stderr",
     "output_type": "stream",
     "text": [
      "INFO:root:No new emails found.\n"
     ]
    },
    {
     "name": "stdout",
     "output_type": "stream",
     "text": [
      "Waiting for new emails...\n"
     ]
    },
    {
     "name": "stderr",
     "output_type": "stream",
     "text": [
      "INFO:root:No new emails found.\n"
     ]
    },
    {
     "name": "stdout",
     "output_type": "stream",
     "text": [
      "Waiting for new emails...\n"
     ]
    },
    {
     "name": "stderr",
     "output_type": "stream",
     "text": [
      "INFO:root:No new emails found.\n"
     ]
    },
    {
     "name": "stdout",
     "output_type": "stream",
     "text": [
      "Waiting for new emails...\n"
     ]
    },
    {
     "name": "stderr",
     "output_type": "stream",
     "text": [
      "INFO:root:No new emails found.\n"
     ]
    },
    {
     "name": "stdout",
     "output_type": "stream",
     "text": [
      "Waiting for new emails...\n"
     ]
    },
    {
     "name": "stderr",
     "output_type": "stream",
     "text": [
      "INFO:root:No new emails found.\n"
     ]
    },
    {
     "name": "stdout",
     "output_type": "stream",
     "text": [
      "Waiting for new emails...\n"
     ]
    },
    {
     "name": "stderr",
     "output_type": "stream",
     "text": [
      "INFO:root:No new emails found.\n"
     ]
    },
    {
     "name": "stdout",
     "output_type": "stream",
     "text": [
      "Waiting for new emails...\n"
     ]
    },
    {
     "name": "stderr",
     "output_type": "stream",
     "text": [
      "INFO:root:No new emails found.\n"
     ]
    },
    {
     "name": "stdout",
     "output_type": "stream",
     "text": [
      "Waiting for new emails...\n"
     ]
    },
    {
     "name": "stderr",
     "output_type": "stream",
     "text": [
      "INFO:root:No new emails found.\n"
     ]
    },
    {
     "name": "stdout",
     "output_type": "stream",
     "text": [
      "Waiting for new emails...\n"
     ]
    },
    {
     "name": "stderr",
     "output_type": "stream",
     "text": [
      "INFO:root:No new emails found.\n"
     ]
    },
    {
     "name": "stdout",
     "output_type": "stream",
     "text": [
      "Waiting for new emails...\n"
     ]
    },
    {
     "name": "stderr",
     "output_type": "stream",
     "text": [
      "INFO:root:No new emails found.\n"
     ]
    },
    {
     "name": "stdout",
     "output_type": "stream",
     "text": [
      "Waiting for new emails...\n"
     ]
    },
    {
     "name": "stderr",
     "output_type": "stream",
     "text": [
      "INFO:root:No new emails found.\n"
     ]
    },
    {
     "name": "stdout",
     "output_type": "stream",
     "text": [
      "Waiting for new emails...\n"
     ]
    },
    {
     "name": "stderr",
     "output_type": "stream",
     "text": [
      "INFO:root:No new emails found.\n"
     ]
    },
    {
     "name": "stdout",
     "output_type": "stream",
     "text": [
      "Waiting for new emails...\n"
     ]
    },
    {
     "name": "stderr",
     "output_type": "stream",
     "text": [
      "INFO:root:No new emails found.\n"
     ]
    },
    {
     "name": "stdout",
     "output_type": "stream",
     "text": [
      "Waiting for new emails...\n"
     ]
    },
    {
     "name": "stderr",
     "output_type": "stream",
     "text": [
      "INFO:root:No new emails found.\n"
     ]
    },
    {
     "name": "stdout",
     "output_type": "stream",
     "text": [
      "Waiting for new emails...\n"
     ]
    },
    {
     "name": "stderr",
     "output_type": "stream",
     "text": [
      "INFO:root:No new emails found.\n"
     ]
    },
    {
     "name": "stdout",
     "output_type": "stream",
     "text": [
      "Waiting for new emails...\n"
     ]
    },
    {
     "name": "stderr",
     "output_type": "stream",
     "text": [
      "INFO:root:No new emails found.\n"
     ]
    },
    {
     "name": "stdout",
     "output_type": "stream",
     "text": [
      "Waiting for new emails...\n"
     ]
    },
    {
     "name": "stderr",
     "output_type": "stream",
     "text": [
      "INFO:root:No new emails found.\n"
     ]
    },
    {
     "name": "stdout",
     "output_type": "stream",
     "text": [
      "Waiting for new emails...\n"
     ]
    },
    {
     "name": "stderr",
     "output_type": "stream",
     "text": [
      "INFO:root:No new emails found.\n"
     ]
    },
    {
     "name": "stdout",
     "output_type": "stream",
     "text": [
      "Waiting for new emails...\n"
     ]
    },
    {
     "name": "stderr",
     "output_type": "stream",
     "text": [
      "INFO:root:No new emails found.\n"
     ]
    },
    {
     "name": "stdout",
     "output_type": "stream",
     "text": [
      "Waiting for new emails...\n"
     ]
    },
    {
     "name": "stderr",
     "output_type": "stream",
     "text": [
      "INFO:root:No new emails found.\n"
     ]
    },
    {
     "name": "stdout",
     "output_type": "stream",
     "text": [
      "Waiting for new emails...\n"
     ]
    },
    {
     "name": "stderr",
     "output_type": "stream",
     "text": [
      "INFO:root:No new emails found.\n"
     ]
    },
    {
     "name": "stdout",
     "output_type": "stream",
     "text": [
      "Waiting for new emails...\n"
     ]
    },
    {
     "name": "stderr",
     "output_type": "stream",
     "text": [
      "INFO:root:No new emails found.\n"
     ]
    },
    {
     "name": "stdout",
     "output_type": "stream",
     "text": [
      "Waiting for new emails...\n"
     ]
    },
    {
     "name": "stderr",
     "output_type": "stream",
     "text": [
      "INFO:root:No new emails found.\n"
     ]
    },
    {
     "name": "stdout",
     "output_type": "stream",
     "text": [
      "Waiting for new emails...\n"
     ]
    },
    {
     "name": "stderr",
     "output_type": "stream",
     "text": [
      "INFO:root:No new emails found.\n"
     ]
    },
    {
     "name": "stdout",
     "output_type": "stream",
     "text": [
      "Waiting for new emails...\n"
     ]
    },
    {
     "name": "stderr",
     "output_type": "stream",
     "text": [
      "INFO:root:No new emails found.\n"
     ]
    },
    {
     "name": "stdout",
     "output_type": "stream",
     "text": [
      "Waiting for new emails...\n"
     ]
    },
    {
     "name": "stderr",
     "output_type": "stream",
     "text": [
      "INFO:root:No new emails found.\n"
     ]
    },
    {
     "name": "stdout",
     "output_type": "stream",
     "text": [
      "Waiting for new emails...\n"
     ]
    },
    {
     "name": "stderr",
     "output_type": "stream",
     "text": [
      "INFO:root:No new emails found.\n"
     ]
    },
    {
     "name": "stdout",
     "output_type": "stream",
     "text": [
      "Waiting for new emails...\n"
     ]
    },
    {
     "name": "stderr",
     "output_type": "stream",
     "text": [
      "INFO:root:No new emails found.\n"
     ]
    },
    {
     "name": "stdout",
     "output_type": "stream",
     "text": [
      "Waiting for new emails...\n"
     ]
    },
    {
     "name": "stderr",
     "output_type": "stream",
     "text": [
      "INFO:root:No new emails found.\n"
     ]
    },
    {
     "name": "stdout",
     "output_type": "stream",
     "text": [
      "Waiting for new emails...\n"
     ]
    },
    {
     "name": "stderr",
     "output_type": "stream",
     "text": [
      "INFO:root:No new emails found.\n"
     ]
    },
    {
     "name": "stdout",
     "output_type": "stream",
     "text": [
      "Waiting for new emails...\n"
     ]
    },
    {
     "name": "stderr",
     "output_type": "stream",
     "text": [
      "INFO:root:No new emails found.\n"
     ]
    },
    {
     "name": "stdout",
     "output_type": "stream",
     "text": [
      "Waiting for new emails...\n"
     ]
    },
    {
     "name": "stderr",
     "output_type": "stream",
     "text": [
      "INFO:root:No new emails found.\n"
     ]
    },
    {
     "name": "stdout",
     "output_type": "stream",
     "text": [
      "Waiting for new emails...\n"
     ]
    },
    {
     "name": "stderr",
     "output_type": "stream",
     "text": [
      "INFO:root:No new emails found.\n"
     ]
    },
    {
     "name": "stdout",
     "output_type": "stream",
     "text": [
      "Waiting for new emails...\n"
     ]
    },
    {
     "name": "stderr",
     "output_type": "stream",
     "text": [
      "INFO:root:No new emails found.\n"
     ]
    },
    {
     "name": "stdout",
     "output_type": "stream",
     "text": [
      "Waiting for new emails...\n"
     ]
    },
    {
     "name": "stderr",
     "output_type": "stream",
     "text": [
      "INFO:root:No new emails found.\n"
     ]
    },
    {
     "name": "stdout",
     "output_type": "stream",
     "text": [
      "Waiting for new emails...\n"
     ]
    },
    {
     "name": "stderr",
     "output_type": "stream",
     "text": [
      "INFO:root:No new emails found.\n"
     ]
    },
    {
     "name": "stdout",
     "output_type": "stream",
     "text": [
      "Waiting for new emails...\n"
     ]
    },
    {
     "name": "stderr",
     "output_type": "stream",
     "text": [
      "INFO:root:No new emails found.\n"
     ]
    },
    {
     "name": "stdout",
     "output_type": "stream",
     "text": [
      "Waiting for new emails...\n"
     ]
    },
    {
     "name": "stderr",
     "output_type": "stream",
     "text": [
      "INFO:root:No new emails found.\n"
     ]
    },
    {
     "name": "stdout",
     "output_type": "stream",
     "text": [
      "Waiting for new emails...\n"
     ]
    },
    {
     "name": "stderr",
     "output_type": "stream",
     "text": [
      "INFO:root:No new emails found.\n"
     ]
    },
    {
     "name": "stdout",
     "output_type": "stream",
     "text": [
      "Waiting for new emails...\n"
     ]
    },
    {
     "name": "stderr",
     "output_type": "stream",
     "text": [
      "INFO:root:No new emails found.\n"
     ]
    },
    {
     "name": "stdout",
     "output_type": "stream",
     "text": [
      "Waiting for new emails...\n"
     ]
    },
    {
     "name": "stderr",
     "output_type": "stream",
     "text": [
      "INFO:root:No new emails found.\n"
     ]
    },
    {
     "name": "stdout",
     "output_type": "stream",
     "text": [
      "Waiting for new emails...\n"
     ]
    },
    {
     "name": "stderr",
     "output_type": "stream",
     "text": [
      "INFO:root:No new emails found.\n"
     ]
    },
    {
     "name": "stdout",
     "output_type": "stream",
     "text": [
      "Waiting for new emails...\n"
     ]
    },
    {
     "name": "stderr",
     "output_type": "stream",
     "text": [
      "INFO:root:No new emails found.\n"
     ]
    },
    {
     "name": "stdout",
     "output_type": "stream",
     "text": [
      "Waiting for new emails...\n"
     ]
    },
    {
     "name": "stderr",
     "output_type": "stream",
     "text": [
      "INFO:root:No new emails found.\n"
     ]
    },
    {
     "name": "stdout",
     "output_type": "stream",
     "text": [
      "Waiting for new emails...\n"
     ]
    },
    {
     "name": "stderr",
     "output_type": "stream",
     "text": [
      "INFO:root:No new emails found.\n"
     ]
    },
    {
     "name": "stdout",
     "output_type": "stream",
     "text": [
      "Waiting for new emails...\n"
     ]
    },
    {
     "name": "stderr",
     "output_type": "stream",
     "text": [
      "INFO:root:No new emails found.\n"
     ]
    },
    {
     "name": "stdout",
     "output_type": "stream",
     "text": [
      "Waiting for new emails...\n"
     ]
    },
    {
     "name": "stderr",
     "output_type": "stream",
     "text": [
      "INFO:root:No new emails found.\n"
     ]
    },
    {
     "name": "stdout",
     "output_type": "stream",
     "text": [
      "Waiting for new emails...\n"
     ]
    },
    {
     "name": "stderr",
     "output_type": "stream",
     "text": [
      "INFO:root:No new emails found.\n"
     ]
    },
    {
     "name": "stdout",
     "output_type": "stream",
     "text": [
      "Waiting for new emails...\n"
     ]
    },
    {
     "name": "stderr",
     "output_type": "stream",
     "text": [
      "INFO:root:No new emails found.\n"
     ]
    },
    {
     "name": "stdout",
     "output_type": "stream",
     "text": [
      "Waiting for new emails...\n"
     ]
    },
    {
     "name": "stderr",
     "output_type": "stream",
     "text": [
      "INFO:root:No new emails found.\n"
     ]
    },
    {
     "name": "stdout",
     "output_type": "stream",
     "text": [
      "Waiting for new emails...\n"
     ]
    },
    {
     "name": "stderr",
     "output_type": "stream",
     "text": [
      "INFO:root:No new emails found.\n"
     ]
    },
    {
     "name": "stdout",
     "output_type": "stream",
     "text": [
      "Waiting for new emails...\n"
     ]
    },
    {
     "name": "stderr",
     "output_type": "stream",
     "text": [
      "INFO:root:No new emails found.\n"
     ]
    },
    {
     "name": "stdout",
     "output_type": "stream",
     "text": [
      "Waiting for new emails...\n"
     ]
    },
    {
     "name": "stderr",
     "output_type": "stream",
     "text": [
      "INFO:root:No new emails found.\n"
     ]
    },
    {
     "name": "stdout",
     "output_type": "stream",
     "text": [
      "Waiting for new emails...\n"
     ]
    },
    {
     "name": "stderr",
     "output_type": "stream",
     "text": [
      "INFO:root:No new emails found.\n"
     ]
    },
    {
     "name": "stdout",
     "output_type": "stream",
     "text": [
      "Waiting for new emails...\n"
     ]
    },
    {
     "name": "stderr",
     "output_type": "stream",
     "text": [
      "INFO:root:No new emails found.\n"
     ]
    },
    {
     "name": "stdout",
     "output_type": "stream",
     "text": [
      "Waiting for new emails...\n"
     ]
    },
    {
     "name": "stderr",
     "output_type": "stream",
     "text": [
      "INFO:root:No new emails found.\n"
     ]
    },
    {
     "name": "stdout",
     "output_type": "stream",
     "text": [
      "Waiting for new emails...\n"
     ]
    },
    {
     "name": "stderr",
     "output_type": "stream",
     "text": [
      "INFO:root:No new emails found.\n"
     ]
    },
    {
     "name": "stdout",
     "output_type": "stream",
     "text": [
      "Waiting for new emails...\n"
     ]
    },
    {
     "name": "stderr",
     "output_type": "stream",
     "text": [
      "INFO:root:No new emails found.\n"
     ]
    },
    {
     "name": "stdout",
     "output_type": "stream",
     "text": [
      "Waiting for new emails...\n"
     ]
    },
    {
     "name": "stderr",
     "output_type": "stream",
     "text": [
      "INFO:root:No new emails found.\n"
     ]
    },
    {
     "name": "stdout",
     "output_type": "stream",
     "text": [
      "Waiting for new emails...\n"
     ]
    },
    {
     "name": "stderr",
     "output_type": "stream",
     "text": [
      "INFO:root:No new emails found.\n"
     ]
    },
    {
     "name": "stdout",
     "output_type": "stream",
     "text": [
      "Waiting for new emails...\n"
     ]
    },
    {
     "name": "stderr",
     "output_type": "stream",
     "text": [
      "INFO:root:No new emails found.\n"
     ]
    },
    {
     "name": "stdout",
     "output_type": "stream",
     "text": [
      "Waiting for new emails...\n"
     ]
    },
    {
     "name": "stderr",
     "output_type": "stream",
     "text": [
      "INFO:root:No new emails found.\n"
     ]
    },
    {
     "name": "stdout",
     "output_type": "stream",
     "text": [
      "Waiting for new emails...\n"
     ]
    },
    {
     "name": "stderr",
     "output_type": "stream",
     "text": [
      "INFO:root:No new emails found.\n"
     ]
    },
    {
     "name": "stdout",
     "output_type": "stream",
     "text": [
      "Waiting for new emails...\n"
     ]
    },
    {
     "name": "stderr",
     "output_type": "stream",
     "text": [
      "INFO:root:No new emails found.\n"
     ]
    },
    {
     "name": "stdout",
     "output_type": "stream",
     "text": [
      "Waiting for new emails...\n"
     ]
    },
    {
     "name": "stderr",
     "output_type": "stream",
     "text": [
      "INFO:root:No new emails found.\n"
     ]
    },
    {
     "name": "stdout",
     "output_type": "stream",
     "text": [
      "Waiting for new emails...\n"
     ]
    },
    {
     "name": "stderr",
     "output_type": "stream",
     "text": [
      "INFO:root:No new emails found.\n"
     ]
    },
    {
     "name": "stdout",
     "output_type": "stream",
     "text": [
      "Waiting for new emails...\n"
     ]
    },
    {
     "name": "stderr",
     "output_type": "stream",
     "text": [
      "INFO:root:No new emails found.\n"
     ]
    },
    {
     "name": "stdout",
     "output_type": "stream",
     "text": [
      "Waiting for new emails...\n"
     ]
    },
    {
     "name": "stderr",
     "output_type": "stream",
     "text": [
      "INFO:root:No new emails found.\n"
     ]
    },
    {
     "name": "stdout",
     "output_type": "stream",
     "text": [
      "Waiting for new emails...\n"
     ]
    },
    {
     "name": "stderr",
     "output_type": "stream",
     "text": [
      "INFO:root:No new emails found.\n"
     ]
    },
    {
     "name": "stdout",
     "output_type": "stream",
     "text": [
      "Waiting for new emails...\n"
     ]
    },
    {
     "name": "stderr",
     "output_type": "stream",
     "text": [
      "INFO:root:No new emails found.\n"
     ]
    },
    {
     "name": "stdout",
     "output_type": "stream",
     "text": [
      "Waiting for new emails...\n"
     ]
    },
    {
     "name": "stderr",
     "output_type": "stream",
     "text": [
      "INFO:root:No new emails found.\n"
     ]
    },
    {
     "name": "stdout",
     "output_type": "stream",
     "text": [
      "Waiting for new emails...\n"
     ]
    },
    {
     "name": "stderr",
     "output_type": "stream",
     "text": [
      "INFO:root:No new emails found.\n"
     ]
    },
    {
     "name": "stdout",
     "output_type": "stream",
     "text": [
      "Waiting for new emails...\n"
     ]
    },
    {
     "name": "stderr",
     "output_type": "stream",
     "text": [
      "INFO:root:No new emails found.\n"
     ]
    },
    {
     "name": "stdout",
     "output_type": "stream",
     "text": [
      "Waiting for new emails...\n"
     ]
    },
    {
     "name": "stderr",
     "output_type": "stream",
     "text": [
      "INFO:root:No new emails found.\n"
     ]
    },
    {
     "name": "stdout",
     "output_type": "stream",
     "text": [
      "Waiting for new emails...\n"
     ]
    },
    {
     "name": "stderr",
     "output_type": "stream",
     "text": [
      "INFO:root:No new emails found.\n"
     ]
    },
    {
     "name": "stdout",
     "output_type": "stream",
     "text": [
      "Waiting for new emails...\n"
     ]
    },
    {
     "name": "stderr",
     "output_type": "stream",
     "text": [
      "INFO:root:No new emails found.\n"
     ]
    },
    {
     "name": "stdout",
     "output_type": "stream",
     "text": [
      "Waiting for new emails...\n"
     ]
    },
    {
     "name": "stderr",
     "output_type": "stream",
     "text": [
      "INFO:root:No new emails found.\n"
     ]
    },
    {
     "name": "stdout",
     "output_type": "stream",
     "text": [
      "Waiting for new emails...\n"
     ]
    },
    {
     "name": "stderr",
     "output_type": "stream",
     "text": [
      "INFO:root:No new emails found.\n"
     ]
    },
    {
     "name": "stdout",
     "output_type": "stream",
     "text": [
      "Waiting for new emails...\n"
     ]
    },
    {
     "name": "stderr",
     "output_type": "stream",
     "text": [
      "INFO:root:No new emails found.\n"
     ]
    },
    {
     "name": "stdout",
     "output_type": "stream",
     "text": [
      "Waiting for new emails...\n"
     ]
    },
    {
     "name": "stderr",
     "output_type": "stream",
     "text": [
      "INFO:root:No new emails found.\n"
     ]
    },
    {
     "name": "stdout",
     "output_type": "stream",
     "text": [
      "Waiting for new emails...\n"
     ]
    },
    {
     "name": "stderr",
     "output_type": "stream",
     "text": [
      "INFO:root:No new emails found.\n"
     ]
    },
    {
     "name": "stdout",
     "output_type": "stream",
     "text": [
      "Waiting for new emails...\n"
     ]
    },
    {
     "name": "stderr",
     "output_type": "stream",
     "text": [
      "INFO:root:No new emails found.\n"
     ]
    },
    {
     "name": "stdout",
     "output_type": "stream",
     "text": [
      "Waiting for new emails...\n"
     ]
    },
    {
     "name": "stderr",
     "output_type": "stream",
     "text": [
      "INFO:root:No new emails found.\n"
     ]
    },
    {
     "name": "stdout",
     "output_type": "stream",
     "text": [
      "Waiting for new emails...\n"
     ]
    },
    {
     "name": "stderr",
     "output_type": "stream",
     "text": [
      "INFO:root:No new emails found.\n"
     ]
    },
    {
     "name": "stdout",
     "output_type": "stream",
     "text": [
      "Waiting for new emails...\n"
     ]
    },
    {
     "name": "stderr",
     "output_type": "stream",
     "text": [
      "INFO:root:No new emails found.\n"
     ]
    },
    {
     "name": "stdout",
     "output_type": "stream",
     "text": [
      "Waiting for new emails...\n"
     ]
    },
    {
     "name": "stderr",
     "output_type": "stream",
     "text": [
      "INFO:root:No new emails found.\n"
     ]
    },
    {
     "name": "stdout",
     "output_type": "stream",
     "text": [
      "Waiting for new emails...\n"
     ]
    },
    {
     "name": "stderr",
     "output_type": "stream",
     "text": [
      "INFO:root:No new emails found.\n"
     ]
    },
    {
     "name": "stdout",
     "output_type": "stream",
     "text": [
      "Waiting for new emails...\n"
     ]
    },
    {
     "name": "stderr",
     "output_type": "stream",
     "text": [
      "INFO:root:No new emails found.\n"
     ]
    },
    {
     "name": "stdout",
     "output_type": "stream",
     "text": [
      "Waiting for new emails...\n"
     ]
    },
    {
     "name": "stderr",
     "output_type": "stream",
     "text": [
      "INFO:root:No new emails found.\n"
     ]
    },
    {
     "name": "stdout",
     "output_type": "stream",
     "text": [
      "Waiting for new emails...\n"
     ]
    },
    {
     "name": "stderr",
     "output_type": "stream",
     "text": [
      "INFO:root:No new emails found.\n"
     ]
    },
    {
     "name": "stdout",
     "output_type": "stream",
     "text": [
      "Waiting for new emails...\n"
     ]
    },
    {
     "name": "stderr",
     "output_type": "stream",
     "text": [
      "INFO:root:No new emails found.\n"
     ]
    },
    {
     "name": "stdout",
     "output_type": "stream",
     "text": [
      "Waiting for new emails...\n"
     ]
    },
    {
     "name": "stderr",
     "output_type": "stream",
     "text": [
      "INFO:root:No new emails found.\n"
     ]
    },
    {
     "name": "stdout",
     "output_type": "stream",
     "text": [
      "Waiting for new emails...\n"
     ]
    },
    {
     "name": "stderr",
     "output_type": "stream",
     "text": [
      "INFO:root:No new emails found.\n"
     ]
    },
    {
     "name": "stdout",
     "output_type": "stream",
     "text": [
      "Waiting for new emails...\n"
     ]
    },
    {
     "name": "stderr",
     "output_type": "stream",
     "text": [
      "INFO:root:No new emails found.\n"
     ]
    },
    {
     "name": "stdout",
     "output_type": "stream",
     "text": [
      "Waiting for new emails...\n"
     ]
    },
    {
     "name": "stderr",
     "output_type": "stream",
     "text": [
      "INFO:root:No new emails found.\n"
     ]
    },
    {
     "name": "stdout",
     "output_type": "stream",
     "text": [
      "Waiting for new emails...\n"
     ]
    },
    {
     "name": "stderr",
     "output_type": "stream",
     "text": [
      "INFO:root:No new emails found.\n"
     ]
    },
    {
     "name": "stdout",
     "output_type": "stream",
     "text": [
      "Waiting for new emails...\n"
     ]
    },
    {
     "name": "stderr",
     "output_type": "stream",
     "text": [
      "INFO:root:No new emails found.\n"
     ]
    },
    {
     "name": "stdout",
     "output_type": "stream",
     "text": [
      "Waiting for new emails...\n"
     ]
    },
    {
     "name": "stderr",
     "output_type": "stream",
     "text": [
      "INFO:root:No new emails found.\n"
     ]
    },
    {
     "name": "stdout",
     "output_type": "stream",
     "text": [
      "Waiting for new emails...\n"
     ]
    },
    {
     "name": "stderr",
     "output_type": "stream",
     "text": [
      "INFO:root:No new emails found.\n"
     ]
    },
    {
     "name": "stdout",
     "output_type": "stream",
     "text": [
      "Waiting for new emails...\n"
     ]
    },
    {
     "name": "stderr",
     "output_type": "stream",
     "text": [
      "INFO:root:No new emails found.\n"
     ]
    },
    {
     "name": "stdout",
     "output_type": "stream",
     "text": [
      "Waiting for new emails...\n"
     ]
    },
    {
     "name": "stderr",
     "output_type": "stream",
     "text": [
      "INFO:root:No new emails found.\n"
     ]
    },
    {
     "name": "stdout",
     "output_type": "stream",
     "text": [
      "Waiting for new emails...\n"
     ]
    },
    {
     "name": "stderr",
     "output_type": "stream",
     "text": [
      "INFO:root:No new emails found.\n"
     ]
    },
    {
     "name": "stdout",
     "output_type": "stream",
     "text": [
      "Waiting for new emails...\n"
     ]
    },
    {
     "name": "stderr",
     "output_type": "stream",
     "text": [
      "INFO:root:No new emails found.\n"
     ]
    },
    {
     "name": "stdout",
     "output_type": "stream",
     "text": [
      "Waiting for new emails...\n"
     ]
    },
    {
     "name": "stderr",
     "output_type": "stream",
     "text": [
      "INFO:root:No new emails found.\n"
     ]
    },
    {
     "name": "stdout",
     "output_type": "stream",
     "text": [
      "Waiting for new emails...\n"
     ]
    },
    {
     "name": "stderr",
     "output_type": "stream",
     "text": [
      "INFO:root:No new emails found.\n"
     ]
    },
    {
     "name": "stdout",
     "output_type": "stream",
     "text": [
      "Waiting for new emails...\n"
     ]
    },
    {
     "name": "stderr",
     "output_type": "stream",
     "text": [
      "INFO:root:No new emails found.\n"
     ]
    },
    {
     "name": "stdout",
     "output_type": "stream",
     "text": [
      "Waiting for new emails...\n"
     ]
    },
    {
     "name": "stderr",
     "output_type": "stream",
     "text": [
      "INFO:root:No new emails found.\n"
     ]
    },
    {
     "name": "stdout",
     "output_type": "stream",
     "text": [
      "Waiting for new emails...\n"
     ]
    },
    {
     "name": "stderr",
     "output_type": "stream",
     "text": [
      "INFO:root:No new emails found.\n"
     ]
    },
    {
     "name": "stdout",
     "output_type": "stream",
     "text": [
      "Waiting for new emails...\n"
     ]
    },
    {
     "name": "stderr",
     "output_type": "stream",
     "text": [
      "INFO:root:No new emails found.\n"
     ]
    },
    {
     "name": "stdout",
     "output_type": "stream",
     "text": [
      "Waiting for new emails...\n"
     ]
    },
    {
     "name": "stderr",
     "output_type": "stream",
     "text": [
      "INFO:root:No new emails found.\n"
     ]
    },
    {
     "name": "stdout",
     "output_type": "stream",
     "text": [
      "Waiting for new emails...\n"
     ]
    },
    {
     "name": "stderr",
     "output_type": "stream",
     "text": [
      "INFO:root:No new emails found.\n"
     ]
    },
    {
     "name": "stdout",
     "output_type": "stream",
     "text": [
      "Waiting for new emails...\n"
     ]
    },
    {
     "name": "stderr",
     "output_type": "stream",
     "text": [
      "INFO:root:No new emails found.\n"
     ]
    },
    {
     "name": "stdout",
     "output_type": "stream",
     "text": [
      "Waiting for new emails...\n"
     ]
    },
    {
     "name": "stderr",
     "output_type": "stream",
     "text": [
      "INFO:root:No new emails found.\n"
     ]
    },
    {
     "name": "stdout",
     "output_type": "stream",
     "text": [
      "Waiting for new emails...\n"
     ]
    },
    {
     "name": "stderr",
     "output_type": "stream",
     "text": [
      "INFO:root:No new emails found.\n"
     ]
    },
    {
     "name": "stdout",
     "output_type": "stream",
     "text": [
      "Waiting for new emails...\n"
     ]
    },
    {
     "name": "stderr",
     "output_type": "stream",
     "text": [
      "INFO:root:No new emails found.\n"
     ]
    },
    {
     "name": "stdout",
     "output_type": "stream",
     "text": [
      "Waiting for new emails...\n"
     ]
    },
    {
     "name": "stderr",
     "output_type": "stream",
     "text": [
      "INFO:root:No new emails found.\n"
     ]
    },
    {
     "name": "stdout",
     "output_type": "stream",
     "text": [
      "Waiting for new emails...\n"
     ]
    },
    {
     "name": "stderr",
     "output_type": "stream",
     "text": [
      "INFO:root:No new emails found.\n"
     ]
    },
    {
     "name": "stdout",
     "output_type": "stream",
     "text": [
      "Waiting for new emails...\n"
     ]
    },
    {
     "name": "stderr",
     "output_type": "stream",
     "text": [
      "INFO:root:No new emails found.\n"
     ]
    },
    {
     "name": "stdout",
     "output_type": "stream",
     "text": [
      "Waiting for new emails...\n"
     ]
    },
    {
     "name": "stderr",
     "output_type": "stream",
     "text": [
      "INFO:root:No new emails found.\n"
     ]
    },
    {
     "name": "stdout",
     "output_type": "stream",
     "text": [
      "Waiting for new emails...\n"
     ]
    },
    {
     "name": "stderr",
     "output_type": "stream",
     "text": [
      "INFO:root:No new emails found.\n"
     ]
    },
    {
     "name": "stdout",
     "output_type": "stream",
     "text": [
      "Waiting for new emails...\n"
     ]
    },
    {
     "name": "stderr",
     "output_type": "stream",
     "text": [
      "INFO:root:No new emails found.\n"
     ]
    },
    {
     "name": "stdout",
     "output_type": "stream",
     "text": [
      "Waiting for new emails...\n"
     ]
    },
    {
     "name": "stderr",
     "output_type": "stream",
     "text": [
      "INFO:root:No new emails found.\n"
     ]
    },
    {
     "name": "stdout",
     "output_type": "stream",
     "text": [
      "Waiting for new emails...\n"
     ]
    },
    {
     "name": "stderr",
     "output_type": "stream",
     "text": [
      "INFO:root:No new emails found.\n"
     ]
    },
    {
     "name": "stdout",
     "output_type": "stream",
     "text": [
      "Waiting for new emails...\n"
     ]
    },
    {
     "name": "stderr",
     "output_type": "stream",
     "text": [
      "INFO:root:No new emails found.\n"
     ]
    },
    {
     "name": "stdout",
     "output_type": "stream",
     "text": [
      "Waiting for new emails...\n"
     ]
    },
    {
     "name": "stderr",
     "output_type": "stream",
     "text": [
      "INFO:root:No new emails found.\n"
     ]
    },
    {
     "name": "stdout",
     "output_type": "stream",
     "text": [
      "Waiting for new emails...\n"
     ]
    },
    {
     "name": "stderr",
     "output_type": "stream",
     "text": [
      "INFO:root:No new emails found.\n"
     ]
    },
    {
     "name": "stdout",
     "output_type": "stream",
     "text": [
      "Waiting for new emails...\n"
     ]
    },
    {
     "name": "stderr",
     "output_type": "stream",
     "text": [
      "INFO:root:No new emails found.\n"
     ]
    },
    {
     "name": "stdout",
     "output_type": "stream",
     "text": [
      "Waiting for new emails...\n"
     ]
    },
    {
     "name": "stderr",
     "output_type": "stream",
     "text": [
      "INFO:root:No new emails found.\n"
     ]
    },
    {
     "name": "stdout",
     "output_type": "stream",
     "text": [
      "Waiting for new emails...\n"
     ]
    },
    {
     "name": "stderr",
     "output_type": "stream",
     "text": [
      "INFO:root:No new emails found.\n"
     ]
    },
    {
     "name": "stdout",
     "output_type": "stream",
     "text": [
      "Waiting for new emails...\n"
     ]
    },
    {
     "name": "stderr",
     "output_type": "stream",
     "text": [
      "INFO:root:No new emails found.\n"
     ]
    },
    {
     "name": "stdout",
     "output_type": "stream",
     "text": [
      "Waiting for new emails...\n"
     ]
    },
    {
     "name": "stderr",
     "output_type": "stream",
     "text": [
      "INFO:root:No new emails found.\n"
     ]
    },
    {
     "name": "stdout",
     "output_type": "stream",
     "text": [
      "Waiting for new emails...\n"
     ]
    },
    {
     "name": "stderr",
     "output_type": "stream",
     "text": [
      "INFO:root:No new emails found.\n"
     ]
    },
    {
     "name": "stdout",
     "output_type": "stream",
     "text": [
      "Waiting for new emails...\n"
     ]
    },
    {
     "name": "stderr",
     "output_type": "stream",
     "text": [
      "INFO:root:No new emails found.\n"
     ]
    },
    {
     "name": "stdout",
     "output_type": "stream",
     "text": [
      "Waiting for new emails...\n"
     ]
    },
    {
     "name": "stderr",
     "output_type": "stream",
     "text": [
      "INFO:root:No new emails found.\n"
     ]
    },
    {
     "name": "stdout",
     "output_type": "stream",
     "text": [
      "Waiting for new emails...\n"
     ]
    },
    {
     "name": "stderr",
     "output_type": "stream",
     "text": [
      "INFO:root:No new emails found.\n"
     ]
    },
    {
     "name": "stdout",
     "output_type": "stream",
     "text": [
      "Waiting for new emails...\n"
     ]
    },
    {
     "name": "stderr",
     "output_type": "stream",
     "text": [
      "INFO:root:No new emails found.\n"
     ]
    },
    {
     "name": "stdout",
     "output_type": "stream",
     "text": [
      "Waiting for new emails...\n"
     ]
    },
    {
     "name": "stderr",
     "output_type": "stream",
     "text": [
      "INFO:root:No new emails found.\n"
     ]
    },
    {
     "name": "stdout",
     "output_type": "stream",
     "text": [
      "Waiting for new emails...\n"
     ]
    },
    {
     "name": "stderr",
     "output_type": "stream",
     "text": [
      "INFO:root:No new emails found.\n"
     ]
    },
    {
     "name": "stdout",
     "output_type": "stream",
     "text": [
      "Waiting for new emails...\n"
     ]
    },
    {
     "name": "stderr",
     "output_type": "stream",
     "text": [
      "INFO:root:No new emails found.\n"
     ]
    },
    {
     "name": "stdout",
     "output_type": "stream",
     "text": [
      "Waiting for new emails...\n"
     ]
    },
    {
     "name": "stderr",
     "output_type": "stream",
     "text": [
      "INFO:root:No new emails found.\n"
     ]
    },
    {
     "name": "stdout",
     "output_type": "stream",
     "text": [
      "Waiting for new emails...\n"
     ]
    },
    {
     "name": "stderr",
     "output_type": "stream",
     "text": [
      "INFO:root:No new emails found.\n"
     ]
    },
    {
     "name": "stdout",
     "output_type": "stream",
     "text": [
      "Waiting for new emails...\n"
     ]
    },
    {
     "name": "stderr",
     "output_type": "stream",
     "text": [
      "INFO:root:No new emails found.\n"
     ]
    },
    {
     "name": "stdout",
     "output_type": "stream",
     "text": [
      "Waiting for new emails...\n"
     ]
    },
    {
     "name": "stderr",
     "output_type": "stream",
     "text": [
      "INFO:root:No new emails found.\n"
     ]
    },
    {
     "name": "stdout",
     "output_type": "stream",
     "text": [
      "Waiting for new emails...\n"
     ]
    },
    {
     "name": "stderr",
     "output_type": "stream",
     "text": [
      "INFO:root:No new emails found.\n"
     ]
    },
    {
     "name": "stdout",
     "output_type": "stream",
     "text": [
      "Waiting for new emails...\n"
     ]
    },
    {
     "name": "stderr",
     "output_type": "stream",
     "text": [
      "INFO:root:No new emails found.\n"
     ]
    },
    {
     "name": "stdout",
     "output_type": "stream",
     "text": [
      "Waiting for new emails...\n"
     ]
    },
    {
     "name": "stderr",
     "output_type": "stream",
     "text": [
      "INFO:root:No new emails found.\n"
     ]
    },
    {
     "name": "stdout",
     "output_type": "stream",
     "text": [
      "Waiting for new emails...\n"
     ]
    },
    {
     "name": "stderr",
     "output_type": "stream",
     "text": [
      "INFO:root:No new emails found.\n"
     ]
    },
    {
     "name": "stdout",
     "output_type": "stream",
     "text": [
      "Waiting for new emails...\n"
     ]
    },
    {
     "name": "stderr",
     "output_type": "stream",
     "text": [
      "INFO:root:No new emails found.\n"
     ]
    },
    {
     "name": "stdout",
     "output_type": "stream",
     "text": [
      "Waiting for new emails...\n"
     ]
    },
    {
     "name": "stderr",
     "output_type": "stream",
     "text": [
      "INFO:root:No new emails found.\n"
     ]
    },
    {
     "name": "stdout",
     "output_type": "stream",
     "text": [
      "Waiting for new emails...\n"
     ]
    },
    {
     "name": "stderr",
     "output_type": "stream",
     "text": [
      "INFO:root:No new emails found.\n"
     ]
    },
    {
     "name": "stdout",
     "output_type": "stream",
     "text": [
      "Waiting for new emails...\n"
     ]
    },
    {
     "name": "stderr",
     "output_type": "stream",
     "text": [
      "INFO:root:No new emails found.\n"
     ]
    },
    {
     "name": "stdout",
     "output_type": "stream",
     "text": [
      "Waiting for new emails...\n"
     ]
    },
    {
     "name": "stderr",
     "output_type": "stream",
     "text": [
      "INFO:root:No new emails found.\n"
     ]
    },
    {
     "name": "stdout",
     "output_type": "stream",
     "text": [
      "Waiting for new emails...\n"
     ]
    },
    {
     "name": "stderr",
     "output_type": "stream",
     "text": [
      "INFO:root:No new emails found.\n"
     ]
    },
    {
     "name": "stdout",
     "output_type": "stream",
     "text": [
      "Waiting for new emails...\n"
     ]
    },
    {
     "name": "stderr",
     "output_type": "stream",
     "text": [
      "INFO:root:No new emails found.\n"
     ]
    },
    {
     "name": "stdout",
     "output_type": "stream",
     "text": [
      "Waiting for new emails...\n"
     ]
    },
    {
     "name": "stderr",
     "output_type": "stream",
     "text": [
      "INFO:root:No new emails found.\n"
     ]
    },
    {
     "name": "stdout",
     "output_type": "stream",
     "text": [
      "Waiting for new emails...\n"
     ]
    },
    {
     "name": "stderr",
     "output_type": "stream",
     "text": [
      "INFO:root:No new emails found.\n"
     ]
    },
    {
     "name": "stdout",
     "output_type": "stream",
     "text": [
      "Waiting for new emails...\n"
     ]
    },
    {
     "name": "stderr",
     "output_type": "stream",
     "text": [
      "INFO:root:No new emails found.\n"
     ]
    },
    {
     "name": "stdout",
     "output_type": "stream",
     "text": [
      "Waiting for new emails...\n"
     ]
    },
    {
     "name": "stderr",
     "output_type": "stream",
     "text": [
      "INFO:root:No new emails found.\n"
     ]
    },
    {
     "name": "stdout",
     "output_type": "stream",
     "text": [
      "Waiting for new emails...\n"
     ]
    },
    {
     "name": "stderr",
     "output_type": "stream",
     "text": [
      "INFO:root:No new emails found.\n"
     ]
    },
    {
     "name": "stdout",
     "output_type": "stream",
     "text": [
      "Waiting for new emails...\n"
     ]
    },
    {
     "name": "stderr",
     "output_type": "stream",
     "text": [
      "INFO:root:No new emails found.\n"
     ]
    },
    {
     "name": "stdout",
     "output_type": "stream",
     "text": [
      "Waiting for new emails...\n"
     ]
    },
    {
     "name": "stderr",
     "output_type": "stream",
     "text": [
      "INFO:root:No new emails found.\n"
     ]
    },
    {
     "name": "stdout",
     "output_type": "stream",
     "text": [
      "Waiting for new emails...\n"
     ]
    },
    {
     "name": "stderr",
     "output_type": "stream",
     "text": [
      "INFO:root:No new emails found.\n"
     ]
    },
    {
     "name": "stdout",
     "output_type": "stream",
     "text": [
      "Waiting for new emails...\n"
     ]
    },
    {
     "name": "stderr",
     "output_type": "stream",
     "text": [
      "INFO:root:No new emails found.\n"
     ]
    },
    {
     "name": "stdout",
     "output_type": "stream",
     "text": [
      "Waiting for new emails...\n"
     ]
    },
    {
     "name": "stderr",
     "output_type": "stream",
     "text": [
      "INFO:root:No new emails found.\n"
     ]
    },
    {
     "name": "stdout",
     "output_type": "stream",
     "text": [
      "Waiting for new emails...\n"
     ]
    },
    {
     "name": "stderr",
     "output_type": "stream",
     "text": [
      "INFO:root:No new emails found.\n"
     ]
    },
    {
     "name": "stdout",
     "output_type": "stream",
     "text": [
      "Waiting for new emails...\n"
     ]
    },
    {
     "name": "stderr",
     "output_type": "stream",
     "text": [
      "INFO:root:No new emails found.\n"
     ]
    },
    {
     "name": "stdout",
     "output_type": "stream",
     "text": [
      "Waiting for new emails...\n"
     ]
    },
    {
     "name": "stderr",
     "output_type": "stream",
     "text": [
      "INFO:root:No new emails found.\n"
     ]
    },
    {
     "name": "stdout",
     "output_type": "stream",
     "text": [
      "Waiting for new emails...\n"
     ]
    },
    {
     "name": "stderr",
     "output_type": "stream",
     "text": [
      "INFO:root:No new emails found.\n"
     ]
    },
    {
     "name": "stdout",
     "output_type": "stream",
     "text": [
      "Waiting for new emails...\n"
     ]
    },
    {
     "name": "stderr",
     "output_type": "stream",
     "text": [
      "INFO:root:No new emails found.\n"
     ]
    },
    {
     "name": "stdout",
     "output_type": "stream",
     "text": [
      "Waiting for new emails...\n"
     ]
    },
    {
     "name": "stderr",
     "output_type": "stream",
     "text": [
      "INFO:root:No new emails found.\n"
     ]
    },
    {
     "name": "stdout",
     "output_type": "stream",
     "text": [
      "Waiting for new emails...\n"
     ]
    },
    {
     "name": "stderr",
     "output_type": "stream",
     "text": [
      "INFO:root:No new emails found.\n"
     ]
    },
    {
     "name": "stdout",
     "output_type": "stream",
     "text": [
      "Waiting for new emails...\n"
     ]
    },
    {
     "name": "stderr",
     "output_type": "stream",
     "text": [
      "INFO:root:No new emails found.\n"
     ]
    },
    {
     "name": "stdout",
     "output_type": "stream",
     "text": [
      "Waiting for new emails...\n"
     ]
    },
    {
     "name": "stderr",
     "output_type": "stream",
     "text": [
      "INFO:root:No new emails found.\n"
     ]
    },
    {
     "name": "stdout",
     "output_type": "stream",
     "text": [
      "Waiting for new emails...\n"
     ]
    },
    {
     "name": "stderr",
     "output_type": "stream",
     "text": [
      "INFO:root:No new emails found.\n"
     ]
    },
    {
     "name": "stdout",
     "output_type": "stream",
     "text": [
      "Waiting for new emails...\n"
     ]
    },
    {
     "name": "stderr",
     "output_type": "stream",
     "text": [
      "INFO:root:No new emails found.\n"
     ]
    },
    {
     "name": "stdout",
     "output_type": "stream",
     "text": [
      "Waiting for new emails...\n"
     ]
    },
    {
     "name": "stderr",
     "output_type": "stream",
     "text": [
      "INFO:root:No new emails found.\n"
     ]
    },
    {
     "name": "stdout",
     "output_type": "stream",
     "text": [
      "Waiting for new emails...\n"
     ]
    },
    {
     "name": "stderr",
     "output_type": "stream",
     "text": [
      "INFO:root:No new emails found.\n"
     ]
    },
    {
     "name": "stdout",
     "output_type": "stream",
     "text": [
      "Waiting for new emails...\n"
     ]
    },
    {
     "name": "stderr",
     "output_type": "stream",
     "text": [
      "INFO:root:No new emails found.\n"
     ]
    },
    {
     "name": "stdout",
     "output_type": "stream",
     "text": [
      "Waiting for new emails...\n"
     ]
    },
    {
     "name": "stderr",
     "output_type": "stream",
     "text": [
      "INFO:root:No new emails found.\n"
     ]
    },
    {
     "name": "stdout",
     "output_type": "stream",
     "text": [
      "Waiting for new emails...\n"
     ]
    },
    {
     "name": "stderr",
     "output_type": "stream",
     "text": [
      "INFO:root:No new emails found.\n"
     ]
    },
    {
     "name": "stdout",
     "output_type": "stream",
     "text": [
      "Waiting for new emails...\n"
     ]
    },
    {
     "name": "stderr",
     "output_type": "stream",
     "text": [
      "INFO:root:No new emails found.\n"
     ]
    },
    {
     "name": "stdout",
     "output_type": "stream",
     "text": [
      "Waiting for new emails...\n"
     ]
    },
    {
     "name": "stderr",
     "output_type": "stream",
     "text": [
      "INFO:root:No new emails found.\n"
     ]
    },
    {
     "name": "stdout",
     "output_type": "stream",
     "text": [
      "Waiting for new emails...\n"
     ]
    },
    {
     "name": "stderr",
     "output_type": "stream",
     "text": [
      "INFO:root:No new emails found.\n"
     ]
    },
    {
     "name": "stdout",
     "output_type": "stream",
     "text": [
      "Waiting for new emails...\n",
      "Error while fetching emails: The credentials do not contain the necessary fields need to refresh the access token. You must specify refresh_token, token_uri, client_id, and client_secret.\n",
      "Error while fetching emails: The credentials do not contain the necessary fields need to refresh the access token. You must specify refresh_token, token_uri, client_id, and client_secret.\n",
      "Error while fetching emails: The credentials do not contain the necessary fields need to refresh the access token. You must specify refresh_token, token_uri, client_id, and client_secret.\n",
      "Error while fetching emails: The credentials do not contain the necessary fields need to refresh the access token. You must specify refresh_token, token_uri, client_id, and client_secret.\n",
      "Error while fetching emails: The credentials do not contain the necessary fields need to refresh the access token. You must specify refresh_token, token_uri, client_id, and client_secret.\n",
      "Error while fetching emails: The credentials do not contain the necessary fields need to refresh the access token. You must specify refresh_token, token_uri, client_id, and client_secret.\n",
      "Error while fetching emails: The credentials do not contain the necessary fields need to refresh the access token. You must specify refresh_token, token_uri, client_id, and client_secret.\n",
      "Error while fetching emails: The credentials do not contain the necessary fields need to refresh the access token. You must specify refresh_token, token_uri, client_id, and client_secret.\n"
     ]
    }
   ],
   "source": [
    "if __name__ == \"__main__\":\n",
    "    processing.logs.configure_logging()  # Ensure logging is properly set up\n",
    "    root = tk.Tk()\n",
    "    app = EmailProcessingApp(root)\n",
    "    root.mainloop()\n"
   ]
  },
  {
   "cell_type": "markdown",
   "id": "156316d7-352e-4ff3-8429-6978f968a28c",
   "metadata": {},
   "source": [
    "# Add all logic in the main then use exe genrator "
   ]
  },
  {
   "cell_type": "code",
   "execution_count": null,
   "id": "3bdd04cd-9f58-4927-b21b-ffc73d9acb8d",
   "metadata": {},
   "outputs": [],
   "source": []
  },
  {
   "cell_type": "code",
   "execution_count": null,
   "id": "b7c80ec9-f044-4400-a6d9-49d6e22add45",
   "metadata": {},
   "outputs": [],
   "source": []
  }
 ],
 "metadata": {
  "kernelspec": {
   "display_name": "Python 3 (ipykernel)",
   "language": "python",
   "name": "python3"
  },
  "language_info": {
   "codemirror_mode": {
    "name": "ipython",
    "version": 3
   },
   "file_extension": ".py",
   "mimetype": "text/x-python",
   "name": "python",
   "nbconvert_exporter": "python",
   "pygments_lexer": "ipython3",
   "version": "3.13.1"
  }
 },
 "nbformat": 4,
 "nbformat_minor": 5
}
