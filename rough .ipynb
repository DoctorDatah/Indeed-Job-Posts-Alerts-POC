{
 "cells": [
  {
   "cell_type": "code",
   "execution_count": 3,
   "id": "26ab901b-1ec4-46cd-8a01-fb860d0b3a25",
   "metadata": {},
   "outputs": [
    {
     "name": "stdout",
     "output_type": "stream",
     "text": [
      "Requirement already satisfied: Flask in c:\\users\\malikw\\appdata\\local\\programs\\python\\python313\\lib\\site-packages (3.1.0)\n",
      "Requirement already satisfied: Werkzeug>=3.1 in c:\\users\\malikw\\appdata\\local\\programs\\python\\python313\\lib\\site-packages (from Flask) (3.1.3)\n",
      "Requirement already satisfied: Jinja2>=3.1.2 in c:\\users\\malikw\\appdata\\local\\programs\\python\\python313\\lib\\site-packages (from Flask) (3.1.4)\n",
      "Requirement already satisfied: itsdangerous>=2.2 in c:\\users\\malikw\\appdata\\local\\programs\\python\\python313\\lib\\site-packages (from Flask) (2.2.0)\n",
      "Requirement already satisfied: click>=8.1.3 in c:\\users\\malikw\\appdata\\local\\programs\\python\\python313\\lib\\site-packages (from Flask) (8.1.7)\n",
      "Requirement already satisfied: blinker>=1.9 in c:\\users\\malikw\\appdata\\local\\programs\\python\\python313\\lib\\site-packages (from Flask) (1.9.0)\n",
      "Requirement already satisfied: colorama in c:\\users\\malikw\\appdata\\local\\programs\\python\\python313\\lib\\site-packages (from click>=8.1.3->Flask) (0.4.6)\n",
      "Requirement already satisfied: MarkupSafe>=2.0 in c:\\users\\malikw\\appdata\\local\\programs\\python\\python313\\lib\\site-packages (from Jinja2>=3.1.2->Flask) (3.0.2)\n"
     ]
    }
   ],
   "source": [
    "!pip install --upgrade Flask\n"
   ]
  },
  {
   "cell_type": "code",
   "execution_count": 4,
   "id": "abab6c4c-ddc9-4b6e-9a88-2fdbca95d1cf",
   "metadata": {},
   "outputs": [
    {
     "data": {
      "text/plain": [
       "'0b89ceefdb281d45ab455ac354a9245a8a066ebb6b7210720328ed4583fb94dc'"
      ]
     },
     "execution_count": 4,
     "metadata": {},
     "output_type": "execute_result"
    }
   ],
   "source": [
    "import secrets\n",
    "\n",
    "secrets.token_hex(32)"
   ]
  },
  {
   "cell_type": "code",
   "execution_count": 2,
   "id": "6f02fb2d-64ea-409e-90d9-a39af0f07291",
   "metadata": {},
   "outputs": [
    {
     "name": "stdout",
     "output_type": "stream",
     "text": [
      "Note: you may need to restart the kernel to use updated packages.\n"
     ]
    }
   ],
   "source": [
    "## pip freeze > requirements.txt"
   ]
  },
  {
   "cell_type": "code",
   "execution_count": 9,
   "id": "aeed1da2-cc14-4116-8ee9-6a0d266e2ea5",
   "metadata": {},
   "outputs": [],
   "source": [
    "import os\n",
    "\n",
    "def list_files(startpath):\n",
    "    for root, dirs, files in os.walk(startpath):\n",
    "        level = root.replace(startpath, '').count(os.sep)\n",
    "        indent = ' ' * 4 * (level)\n",
    "        print('{}{}/'.format(indent, os.path.basename(root)))\n",
    "        subindent = ' ' * 4 * (level + 1)\n",
    "        for f in files:\n",
    "            print('{}{}'.format(subindent, f))\n",
    "\n",
    "# list_files(\".\")"
   ]
  },
  {
   "cell_type": "code",
   "execution_count": 11,
   "id": "3767bc09-21c6-4df9-86d7-4c0beb28b368",
   "metadata": {},
   "outputs": [
    {
     "name": "stderr",
     "output_type": "stream",
     "text": [
      "'cat' is not recognized as an internal or external command,\n",
      "operable program or batch file.\n"
     ]
    }
   ],
   "source": []
  },
  {
   "cell_type": "code",
   "execution_count": null,
   "id": "4dc46087-2aeb-4360-a0fc-024b4522db60",
   "metadata": {},
   "outputs": [],
   "source": [
    "docker run -d \\\n",
    "    --name my-python-app \\\n",
    "    -v /path/to/project/logs:/app/logs \\\n",
    "    -v /path/to/project/data:/app/data \\\n",
    "    my-python-app\n"
   ]
  },
  {
   "cell_type": "code",
   "execution_count": null,
   "id": "475decca-b360-4b8e-a392-a293e4dd8187",
   "metadata": {},
   "outputs": [],
   "source": [
    "docker run -d --name job_scrap -v $(pwd)/logs:/app/logs -v $(pwd)/data:/app/data my-python-app\n"
   ]
  },
  {
   "cell_type": "code",
   "execution_count": null,
   "id": "0545a385-b524-4574-9b22-68a404f758dd",
   "metadata": {},
   "outputs": [],
   "source": [
    "docker run -d --name job_scrap \\\n",
    "    -v \"C:/Users/MalikW/OneDrive/Project data/Job Scrap/logs:/app/logs\" \\\n",
    "    -v \"C:/Users/MalikW/OneDrive/Project data/Job Scrap/data:/app/data\" \\\n",
    "    -v \"C:/Users/MalikW/OneDrive/Project data/Job Scrap/credentials:/app/_secrets\" \\\n",
    "    job_scrap\n",
    "\n"
   ]
  },
  {
   "cell_type": "code",
   "execution_count": null,
   "id": "a150cece-d95d-4a5f-8cd1-551e94ff6bfa",
   "metadata": {},
   "outputs": [],
   "source": [
    "docker run -d --name job_scrap `\n",
    "    -v \"C:/Users/MalikW/OneDrive/Project data/Job Scrap/logs:/app/logs\" `\n",
    "    -v \"C:/Users/MalikW/OneDrive/Project data/Job Scrap/data:/app/data\" `\n",
    "    -v \"C:/Users/MalikW/OneDrive/Project data/Job Scrap/credentials:/app/_secrets\" `\n",
    "    job_scrap\n"
   ]
  },
  {
   "cell_type": "code",
   "execution_count": null,
   "id": "4e0ec37d-18da-414e-ac87-b3d02079d9c8",
   "metadata": {},
   "outputs": [],
   "source": [
    "docker run -p 8080:8080 -d --name job_scrap `\n",
    "    -v \"C:/Users/MalikW/OneDrive/Project data/Job Scrap/logs:/app/logs\" `\n",
    "    -v \"C:/Users/MalikW/OneDrive/Project data/Job Scrap/data:/app/data\" `\n",
    "    -v \"C:/Users/MalikW/OneDrive/Project data/Job Scrap/credentials:/app/_secrets\" `\n",
    "    job_scrap\n"
   ]
  },
  {
   "cell_type": "code",
   "execution_count": null,
   "id": "799989d8-b3ba-4a04-b2ab-d0a6298543a5",
   "metadata": {},
   "outputs": [],
   "source": [
    "docker run -it --name job_scrap `\n",
    "    -v \"C:/Users/MalikW/OneDrive/Project data/Job Scrap/logs:/app/logs\" `\n",
    "    -v \"C:/Users/MalikW/OneDrive/Project data/Job Scrap/data:/app/data\" `\n",
    "    -v \"C:/Users/MalikW/OneDrive/Project data/Job Scrap/credentials:/app/_secrets\" `\n",
    "    job_scrap2 bash\n",
    "\n"
   ]
  },
  {
   "cell_type": "code",
   "execution_count": 1,
   "id": "aadedc9f-51fc-4217-8167-5ff9e0e7b95a",
   "metadata": {},
   "outputs": [
    {
     "name": "stdout",
     "output_type": "stream",
     "text": [
      "Python 3.13.1\n"
     ]
    }
   ],
   "source": [
    "!python --version"
   ]
  },
  {
   "cell_type": "code",
   "execution_count": 5,
   "id": "6b1e746b-c7fc-4aef-b16c-1bb167d8b7c0",
   "metadata": {},
   "outputs": [
    {
     "name": "stdout",
     "output_type": "stream",
     "text": [
      "Note: you may need to restart the kernel to use updated packages.\n"
     ]
    }
   ],
   "source": [
    "pip freeze > requirements.txt\n"
   ]
  },
  {
   "cell_type": "code",
   "execution_count": null,
   "id": "8a7d3561-cafa-4dba-901c-1d7d8e6023d0",
   "metadata": {},
   "outputs": [],
   "source": []
  }
 ],
 "metadata": {
  "kernelspec": {
   "display_name": "Python 3 (ipykernel)",
   "language": "python",
   "name": "python3"
  },
  "language_info": {
   "codemirror_mode": {
    "name": "ipython",
    "version": 3
   },
   "file_extension": ".py",
   "mimetype": "text/x-python",
   "name": "python",
   "nbconvert_exporter": "python",
   "pygments_lexer": "ipython3",
   "version": "3.13.1"
  }
 },
 "nbformat": 4,
 "nbformat_minor": 5
}
