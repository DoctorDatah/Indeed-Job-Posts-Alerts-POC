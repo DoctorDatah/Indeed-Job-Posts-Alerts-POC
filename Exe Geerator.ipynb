{
 "cells": [
  {
   "cell_type": "code",
   "execution_count": 1,
   "id": "03816a9f-21f8-43d6-91e7-1c7940159d51",
   "metadata": {},
   "outputs": [
    {
     "name": "stdout",
     "output_type": "stream",
     "text": [
      "Requirement already satisfied: pyinstaller in c:\\users\\malikw\\appdata\\local\\programs\\python\\python313\\lib\\site-packages (6.11.1)\n",
      "Requirement already satisfied: setuptools>=42.0.0 in c:\\users\\malikw\\appdata\\local\\programs\\python\\python313\\lib\\site-packages (from pyinstaller) (75.6.0)\n",
      "Requirement already satisfied: altgraph in c:\\users\\malikw\\appdata\\local\\programs\\python\\python313\\lib\\site-packages (from pyinstaller) (0.17.4)\n",
      "Requirement already satisfied: pyinstaller-hooks-contrib>=2024.9 in c:\\users\\malikw\\appdata\\local\\programs\\python\\python313\\lib\\site-packages (from pyinstaller) (2024.10)\n",
      "Requirement already satisfied: packaging>=22.0 in c:\\users\\malikw\\appdata\\local\\programs\\python\\python313\\lib\\site-packages (from pyinstaller) (24.2)\n",
      "Requirement already satisfied: pefile!=2024.8.26,>=2022.5.30 in c:\\users\\malikw\\appdata\\local\\programs\\python\\python313\\lib\\site-packages (from pyinstaller) (2023.2.7)\n",
      "Requirement already satisfied: pywin32-ctypes>=0.2.1 in c:\\users\\malikw\\appdata\\local\\programs\\python\\python313\\lib\\site-packages (from pyinstaller) (0.2.3)\n",
      "Name: pyinstaller\n",
      "Version: 6.11.1\n",
      "Summary: PyInstaller bundles a Python application and all its dependencies into a single package.\n",
      "Home-page: https://www.pyinstaller.org/\n",
      "Author: Hartmut Goebel, Giovanni Bajo, David Vierra, David Cortesi, Martin Zibricky\n",
      "Author-email: \n",
      "License: GPLv2-or-later with a special exception which allows to use PyInstaller to build and distribute non-free programs (including commercial ones)\n",
      "Location: C:\\Users\\MalikW\\AppData\\Local\\Programs\\Python\\Python313\\Lib\\site-packages\n",
      "Requires: altgraph, packaging, pefile, pyinstaller-hooks-contrib, pywin32-ctypes, setuptools\n",
      "Required-by: \n"
     ]
    }
   ],
   "source": [
    "!pip install pyinstaller\n",
    "!pip show pyinstaller\n"
   ]
  },
  {
   "cell_type": "code",
   "execution_count": 2,
   "id": "41ed0a53-b1f0-4c06-baa4-570985cb0fa0",
   "metadata": {},
   "outputs": [
    {
     "name": "stderr",
     "output_type": "stream",
     "text": [
      "403 INFO: PyInstaller: 6.11.1, contrib hooks: 2024.10\n",
      "404 INFO: Python: 3.13.1\n",
      "439 INFO: Platform: Windows-11-10.0.22000-SP0\n",
      "439 INFO: Python environment: C:\\Users\\MalikW\\AppData\\Local\\Programs\\Python\\Python313\n",
      "440 INFO: wrote C:\\Users\\MalikW\\Documents\\Coding\\Indeed Job Posts Alerts Scraping and Reporting Data Application\\main.spec\n",
      "444 INFO: Module search paths (PYTHONPATH):\n",
      "['C:\\\\Users\\\\MalikW\\\\Documents\\\\Coding\\\\Indeed Job Posts Alerts Scraping and '\n",
      " 'Reporting Data Application',\n",
      " 'C:\\\\Users\\\\MalikW\\\\AppData\\\\Local\\\\Programs\\\\Python\\\\Python313\\\\python313.zip',\n",
      " 'C:\\\\Users\\\\MalikW\\\\AppData\\\\Local\\\\Programs\\\\Python\\\\Python313\\\\DLLs',\n",
      " 'C:\\\\Users\\\\MalikW\\\\AppData\\\\Local\\\\Programs\\\\Python\\\\Python313\\\\Lib',\n",
      " 'C:\\\\Users\\\\MalikW\\\\AppData\\\\Local\\\\Programs\\\\Python\\\\Python313',\n",
      " 'C:\\\\Users\\\\MalikW\\\\AppData\\\\Roaming\\\\Python\\\\Python313\\\\site-packages',\n",
      " 'C:\\\\Users\\\\MalikW\\\\AppData\\\\Local\\\\Programs\\\\Python\\\\Python313\\\\Lib\\\\site-packages',\n",
      " 'C:\\\\Users\\\\MalikW\\\\AppData\\\\Local\\\\Programs\\\\Python\\\\Python313\\\\Lib\\\\site-packages\\\\win32',\n",
      " 'C:\\\\Users\\\\MalikW\\\\AppData\\\\Local\\\\Programs\\\\Python\\\\Python313\\\\Lib\\\\site-packages\\\\win32\\\\lib',\n",
      " 'C:\\\\Users\\\\MalikW\\\\AppData\\\\Local\\\\Programs\\\\Python\\\\Python313\\\\Lib\\\\site-packages\\\\Pythonwin',\n",
      " 'C:\\\\Users\\\\MalikW\\\\AppData\\\\Local\\\\Programs\\\\Python\\\\Python313\\\\Lib\\\\site-packages\\\\setuptools\\\\_vendor',\n",
      " 'C:\\\\Users\\\\MalikW\\\\Documents\\\\Coding\\\\Indeed Job Posts Alerts Scraping and '\n",
      " 'Reporting Data Application']\n",
      "1265 INFO: checking Analysis\n",
      "1734 INFO: checking PYZ\n",
      "1994 INFO: checking PKG\n",
      "2299 INFO: Bootloader C:\\Users\\MalikW\\AppData\\Local\\Programs\\Python\\Python313\\Lib\\site-packages\\PyInstaller\\bootloader\\Windows-64bit-intel\\runw.exe\n",
      "2299 INFO: checking EXE\n"
     ]
    }
   ],
   "source": [
    "!python -m PyInstaller --onefile --windowed main.py\n"
   ]
  },
  {
   "cell_type": "code",
   "execution_count": null,
   "id": "0ca34ff0-f44f-4c2a-a232-ae5de21fa68b",
   "metadata": {},
   "outputs": [],
   "source": []
  },
  {
   "cell_type": "code",
   "execution_count": null,
   "id": "8fbf0c81-aeaa-4574-a6d3-53cecd9a28c9",
   "metadata": {},
   "outputs": [],
   "source": []
  }
 ],
 "metadata": {
  "kernelspec": {
   "display_name": "Python 3 (ipykernel)",
   "language": "python",
   "name": "python3"
  },
  "language_info": {
   "codemirror_mode": {
    "name": "ipython",
    "version": 3
   },
   "file_extension": ".py",
   "mimetype": "text/x-python",
   "name": "python",
   "nbconvert_exporter": "python",
   "pygments_lexer": "ipython3",
   "version": "3.13.1"
  }
 },
 "nbformat": 4,
 "nbformat_minor": 5
}
